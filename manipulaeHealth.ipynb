{
  "nbformat": 4,
  "nbformat_minor": 0,
  "metadata": {
    "colab": {
      "name": "manipulaeHealth.ipynb",
      "provenance": [],
      "mount_file_id": "150d8rWDYhPyrqhXfi0l4nzAPeFH8WKXt",
      "authorship_tag": "ABX9TyOqBA8+FIbd2tYk0xVYLwhc",
      "include_colab_link": true
    },
    "kernelspec": {
      "name": "python3",
      "display_name": "Python 3"
    },
    "language_info": {
      "name": "python"
    }
  },
  "cells": [
    {
      "cell_type": "markdown",
      "metadata": {
        "id": "view-in-github",
        "colab_type": "text"
      },
      "source": [
        "<a href=\"https://colab.research.google.com/github/karlaguimaraesp/Interview-Test-/blob/main/manipulaeHealth.ipynb\" target=\"_parent\"><img src=\"https://colab.research.google.com/assets/colab-badge.svg\" alt=\"Open In Colab\"/></a>"
      ]
    },
    {
      "cell_type": "markdown",
      "metadata": {
        "id": "ASXDn4S5HNra"
      },
      "source": [
        "1 - Importando bibliotecas"
      ]
    },
    {
      "cell_type": "code",
      "metadata": {
        "id": "y3L4IiV8wV6y"
      },
      "source": [
        "import pandas as pd\n",
        "import numpy as np\n",
        "import matplotlib.pyplot as plt\n",
        "import seaborn as sns\n"
      ],
      "execution_count": null,
      "outputs": []
    },
    {
      "cell_type": "markdown",
      "metadata": {
        "id": "7GK3MRK-HW4w"
      },
      "source": [
        "2 - Carregando base de dados:"
      ]
    },
    {
      "cell_type": "code",
      "metadata": {
        "id": "wtP5nO-W9y55",
        "colab": {
          "base_uri": "https://localhost:8080/",
          "height": 424
        },
        "outputId": "dc3369e5-c43b-4874-b947-f4569594ef10"
      },
      "source": [
        "url =  (\"https://raw.githubusercontent.com/manipulaeHealth/desafio-machine-learning/main/dados_preco.csv\")\n",
        "df = pd.read_csv(url)\n",
        "df\n"
      ],
      "execution_count": null,
      "outputs": [
        {
          "output_type": "execute_result",
          "data": {
            "text/html": [
              "<div>\n",
              "<style scoped>\n",
              "    .dataframe tbody tr th:only-of-type {\n",
              "        vertical-align: middle;\n",
              "    }\n",
              "\n",
              "    .dataframe tbody tr th {\n",
              "        vertical-align: top;\n",
              "    }\n",
              "\n",
              "    .dataframe thead th {\n",
              "        text-align: right;\n",
              "    }\n",
              "</style>\n",
              "<table border=\"1\" class=\"dataframe\">\n",
              "  <thead>\n",
              "    <tr style=\"text-align: right;\">\n",
              "      <th></th>\n",
              "      <th>descricao</th>\n",
              "      <th>criado</th>\n",
              "      <th>qtdInsumos</th>\n",
              "      <th>calculado</th>\n",
              "      <th>correto</th>\n",
              "    </tr>\n",
              "  </thead>\n",
              "  <tbody>\n",
              "    <tr>\n",
              "      <th>0</th>\n",
              "      <td>30 CAP | BUPROPIONA CLORIDRATO  150MG</td>\n",
              "      <td>2020-08-05 23:19:09</td>\n",
              "      <td>1</td>\n",
              "      <td>47.5297</td>\n",
              "      <td>39.9</td>\n",
              "    </tr>\n",
              "    <tr>\n",
              "      <th>1</th>\n",
              "      <td>60 CAP | FINASTERIDA 1:10  1MG</td>\n",
              "      <td>2020-08-05 22:51:09</td>\n",
              "      <td>1</td>\n",
              "      <td>46.9620</td>\n",
              "      <td>43.6</td>\n",
              "    </tr>\n",
              "    <tr>\n",
              "      <th>2</th>\n",
              "      <td>60 CAP | NAC  250MG; SILIMARINA  150MG; SAME  ...</td>\n",
              "      <td>2020-08-05 22:51:09</td>\n",
              "      <td>3</td>\n",
              "      <td>105.1390</td>\n",
              "      <td>111.4</td>\n",
              "    </tr>\n",
              "    <tr>\n",
              "      <th>3</th>\n",
              "      <td>60 CAP | ANASTROZOL 1:10 0.300MG</td>\n",
              "      <td>2020-08-05 22:51:09</td>\n",
              "      <td>1</td>\n",
              "      <td>49.0314</td>\n",
              "      <td>43.6</td>\n",
              "    </tr>\n",
              "    <tr>\n",
              "      <th>4</th>\n",
              "      <td>120 CAP | DUTASTERIDA 0.250MG; TADALAFIL  10MG</td>\n",
              "      <td>2020-08-05 22:49:09</td>\n",
              "      <td>2</td>\n",
              "      <td>161.8272</td>\n",
              "      <td>146.0</td>\n",
              "    </tr>\n",
              "    <tr>\n",
              "      <th>...</th>\n",
              "      <td>...</td>\n",
              "      <td>...</td>\n",
              "      <td>...</td>\n",
              "      <td>...</td>\n",
              "      <td>...</td>\n",
              "    </tr>\n",
              "    <tr>\n",
              "      <th>7116</th>\n",
              "      <td>45 CAP | SERTRALINA CLORIDRATO  40MG; SLENDEST...</td>\n",
              "      <td>2020-07-09 17:33:11</td>\n",
              "      <td>12</td>\n",
              "      <td>188.5325</td>\n",
              "      <td>181.8</td>\n",
              "    </tr>\n",
              "    <tr>\n",
              "      <th>7117</th>\n",
              "      <td>120 CAP | GREENSELECT  120MG</td>\n",
              "      <td>2020-07-09 17:24:09</td>\n",
              "      <td>1</td>\n",
              "      <td>377.6529</td>\n",
              "      <td>346.6</td>\n",
              "    </tr>\n",
              "    <tr>\n",
              "      <th>7118</th>\n",
              "      <td>60 CAP | MAGNESIO QUELADO 30%  220MG; SELENIO ...</td>\n",
              "      <td>2020-07-09 17:23:10</td>\n",
              "      <td>11</td>\n",
              "      <td>166.2868</td>\n",
              "      <td>157.2</td>\n",
              "    </tr>\n",
              "    <tr>\n",
              "      <th>7119</th>\n",
              "      <td>30 CAP | VALERIANA  50MG; PASSIFLORA  500MG; C...</td>\n",
              "      <td>2020-07-09 17:22:09</td>\n",
              "      <td>3</td>\n",
              "      <td>60.1646</td>\n",
              "      <td>68.1</td>\n",
              "    </tr>\n",
              "    <tr>\n",
              "      <th>7120</th>\n",
              "      <td>60 CAP | ACIDO TRANEXAMICO  200MG; BIOTINA 2.5...</td>\n",
              "      <td>2020-07-09 17:14:09</td>\n",
              "      <td>2</td>\n",
              "      <td>107.0370</td>\n",
              "      <td>95.3</td>\n",
              "    </tr>\n",
              "  </tbody>\n",
              "</table>\n",
              "<p>7121 rows × 5 columns</p>\n",
              "</div>"
            ],
            "text/plain": [
              "                                              descricao  ... correto\n",
              "0                 30 CAP | BUPROPIONA CLORIDRATO  150MG  ...    39.9\n",
              "1                        60 CAP | FINASTERIDA 1:10  1MG  ...    43.6\n",
              "2     60 CAP | NAC  250MG; SILIMARINA  150MG; SAME  ...  ...   111.4\n",
              "3                      60 CAP | ANASTROZOL 1:10 0.300MG  ...    43.6\n",
              "4        120 CAP | DUTASTERIDA 0.250MG; TADALAFIL  10MG  ...   146.0\n",
              "...                                                 ...  ...     ...\n",
              "7116  45 CAP | SERTRALINA CLORIDRATO  40MG; SLENDEST...  ...   181.8\n",
              "7117                       120 CAP | GREENSELECT  120MG  ...   346.6\n",
              "7118  60 CAP | MAGNESIO QUELADO 30%  220MG; SELENIO ...  ...   157.2\n",
              "7119  30 CAP | VALERIANA  50MG; PASSIFLORA  500MG; C...  ...    68.1\n",
              "7120  60 CAP | ACIDO TRANEXAMICO  200MG; BIOTINA 2.5...  ...    95.3\n",
              "\n",
              "[7121 rows x 5 columns]"
            ]
          },
          "metadata": {},
          "execution_count": 60
        }
      ]
    },
    {
      "cell_type": "markdown",
      "metadata": {
        "id": "l_Z4K8TBHeVr"
      },
      "source": [
        "3 - Analisando dados estatísticos"
      ]
    },
    {
      "cell_type": "code",
      "metadata": {
        "colab": {
          "base_uri": "https://localhost:8080/",
          "height": 300
        },
        "id": "YeNTNTU8HQVD",
        "outputId": "83171269-3e95-4e8f-b9c6-40c71db70e5f"
      },
      "source": [
        "df.describe()"
      ],
      "execution_count": null,
      "outputs": [
        {
          "output_type": "execute_result",
          "data": {
            "text/html": [
              "<div>\n",
              "<style scoped>\n",
              "    .dataframe tbody tr th:only-of-type {\n",
              "        vertical-align: middle;\n",
              "    }\n",
              "\n",
              "    .dataframe tbody tr th {\n",
              "        vertical-align: top;\n",
              "    }\n",
              "\n",
              "    .dataframe thead th {\n",
              "        text-align: right;\n",
              "    }\n",
              "</style>\n",
              "<table border=\"1\" class=\"dataframe\">\n",
              "  <thead>\n",
              "    <tr style=\"text-align: right;\">\n",
              "      <th></th>\n",
              "      <th>qtdInsumos</th>\n",
              "      <th>calculado</th>\n",
              "      <th>correto</th>\n",
              "    </tr>\n",
              "  </thead>\n",
              "  <tbody>\n",
              "    <tr>\n",
              "      <th>count</th>\n",
              "      <td>7121.000000</td>\n",
              "      <td>7121.000000</td>\n",
              "      <td>7121.000000</td>\n",
              "    </tr>\n",
              "    <tr>\n",
              "      <th>mean</th>\n",
              "      <td>3.281842</td>\n",
              "      <td>137.089552</td>\n",
              "      <td>135.891798</td>\n",
              "    </tr>\n",
              "    <tr>\n",
              "      <th>std</th>\n",
              "      <td>3.194301</td>\n",
              "      <td>191.266516</td>\n",
              "      <td>189.806974</td>\n",
              "    </tr>\n",
              "    <tr>\n",
              "      <th>min</th>\n",
              "      <td>1.000000</td>\n",
              "      <td>30.000100</td>\n",
              "      <td>33.000000</td>\n",
              "    </tr>\n",
              "    <tr>\n",
              "      <th>25%</th>\n",
              "      <td>1.000000</td>\n",
              "      <td>49.786100</td>\n",
              "      <td>49.500000</td>\n",
              "    </tr>\n",
              "    <tr>\n",
              "      <th>50%</th>\n",
              "      <td>2.000000</td>\n",
              "      <td>87.350300</td>\n",
              "      <td>83.100000</td>\n",
              "    </tr>\n",
              "    <tr>\n",
              "      <th>75%</th>\n",
              "      <td>4.000000</td>\n",
              "      <td>165.167000</td>\n",
              "      <td>161.200000</td>\n",
              "    </tr>\n",
              "    <tr>\n",
              "      <th>max</th>\n",
              "      <td>26.000000</td>\n",
              "      <td>10364.992500</td>\n",
              "      <td>10356.000000</td>\n",
              "    </tr>\n",
              "  </tbody>\n",
              "</table>\n",
              "</div>"
            ],
            "text/plain": [
              "        qtdInsumos     calculado       correto\n",
              "count  7121.000000   7121.000000   7121.000000\n",
              "mean      3.281842    137.089552    135.891798\n",
              "std       3.194301    191.266516    189.806974\n",
              "min       1.000000     30.000100     33.000000\n",
              "25%       1.000000     49.786100     49.500000\n",
              "50%       2.000000     87.350300     83.100000\n",
              "75%       4.000000    165.167000    161.200000\n",
              "max      26.000000  10364.992500  10356.000000"
            ]
          },
          "metadata": {},
          "execution_count": 61
        }
      ]
    },
    {
      "cell_type": "markdown",
      "metadata": {
        "id": "Ql7R5XGaHspT"
      },
      "source": [
        "4 - Tipo das variáveis"
      ]
    },
    {
      "cell_type": "code",
      "metadata": {
        "colab": {
          "base_uri": "https://localhost:8080/"
        },
        "id": "O0bUj3CnHYXE",
        "outputId": "64ba6058-963c-459d-fffc-5d03e5f329fa"
      },
      "source": [
        "df.dtypes"
      ],
      "execution_count": null,
      "outputs": [
        {
          "output_type": "execute_result",
          "data": {
            "text/plain": [
              "descricao      object\n",
              "criado         object\n",
              "qtdInsumos      int64\n",
              "calculado     float64\n",
              "correto       float64\n",
              "dtype: object"
            ]
          },
          "metadata": {},
          "execution_count": 62
        }
      ]
    },
    {
      "cell_type": "markdown",
      "metadata": {
        "id": "0eyXaBjFHzYA"
      },
      "source": [
        "5 - Verificando se há dados faltantes"
      ]
    },
    {
      "cell_type": "code",
      "metadata": {
        "colab": {
          "base_uri": "https://localhost:8080/"
        },
        "id": "NrkElvK_Hi3L",
        "outputId": "87c0dcfd-bd83-417b-caa6-66c53d689710"
      },
      "source": [
        "df.isnull().sum()"
      ],
      "execution_count": null,
      "outputs": [
        {
          "output_type": "execute_result",
          "data": {
            "text/plain": [
              "descricao     0\n",
              "criado        0\n",
              "qtdInsumos    0\n",
              "calculado     0\n",
              "correto       0\n",
              "dtype: int64"
            ]
          },
          "metadata": {},
          "execution_count": 63
        }
      ]
    },
    {
      "cell_type": "markdown",
      "metadata": {
        "id": "9xp0LyIfH9zK"
      },
      "source": [
        "6 - Tamnho da base de dados"
      ]
    },
    {
      "cell_type": "code",
      "metadata": {
        "colab": {
          "base_uri": "https://localhost:8080/"
        },
        "id": "VOLpHT9VHy15",
        "outputId": "ba49ece2-dbe8-42d2-f1e4-610ca258ae45"
      },
      "source": [
        "df.shape"
      ],
      "execution_count": null,
      "outputs": [
        {
          "output_type": "execute_result",
          "data": {
            "text/plain": [
              "(7121, 5)"
            ]
          },
          "metadata": {},
          "execution_count": 64
        }
      ]
    },
    {
      "cell_type": "markdown",
      "metadata": {
        "id": "geQ1fq8lIEH8"
      },
      "source": [
        "7 - Analisando correlação entre variáveis:"
      ]
    },
    {
      "cell_type": "code",
      "metadata": {
        "colab": {
          "base_uri": "https://localhost:8080/",
          "height": 287
        },
        "id": "-lSBqTkAoUAI",
        "outputId": "44e50986-6033-4091-fc3e-ffff72b26728"
      },
      "source": [
        "sns.heatmap(df.corr(), annot=True)"
      ],
      "execution_count": null,
      "outputs": [
        {
          "output_type": "execute_result",
          "data": {
            "text/plain": [
              "<matplotlib.axes._subplots.AxesSubplot at 0x7f99a927e650>"
            ]
          },
          "metadata": {},
          "execution_count": 65
        },
        {
          "output_type": "display_data",
          "data": {
            "image/png": "[encoded data removed]",
            "text/plain": [
              "<Figure size 432x288 with 2 Axes>"
            ]
          },
          "metadata": {
            "needs_background": "light"
          }
        }
      ]
    },
    {
      "cell_type": "code",
      "metadata": {
        "colab": {
          "base_uri": "https://localhost:8080/",
          "height": 567
        },
        "id": "d5qqYs4_VSMW",
        "outputId": "c0b13235-d5c6-41e2-8cb3-b950c5bad2a1"
      },
      "source": [
        "sns.pairplot(df)"
      ],
      "execution_count": null,
      "outputs": [
        {
          "output_type": "execute_result",
          "data": {
            "text/plain": [
              "<seaborn.axisgrid.PairGrid at 0x7f099217a1d0>"
            ]
          },
          "metadata": {},
          "execution_count": 47
        },
        {
          "output_type": "display_data",
          "data": {
            "image/png": "[encoded data removed]",
            "text/plain": [
              "<Figure size 540x540 with 12 Axes>"
            ]
          },
          "metadata": {
            "needs_background": "light"
          }
        }
      ]
    },
    {
      "cell_type": "code",
      "metadata": {
        "colab": {
          "base_uri": "https://localhost:8080/",
          "height": 265
        },
        "id": "xfmZoEdWmkhJ",
        "outputId": "6273e273-5ff9-486b-83ff-ae4e66c8fa2f"
      },
      "source": [
        "plt.scatter(X, y, alpha=0.5)\n",
        "plt.show()"
      ],
      "execution_count": null,
      "outputs": [
        {
          "output_type": "display_data",
          "data": {
            "image/png": "[encoded data removed]",
            "text/plain": [
              "<Figure size 432x288 with 1 Axes>"
            ]
          },
          "metadata": {
            "needs_background": "light"
          }
        }
      ]
    },
    {
      "cell_type": "code",
      "metadata": {
        "id": "k4WD68dJcaPY"
      },
      "source": [
        "#O gráfico acima denota que uma \"reta\" (y = b0 + b1x) é ideal para ajuste do modelo\n",
        "#Sendo assim, será empregado a técnica de Regressão Linear. A biblioteca Scikit learn será utilizada para aplicação dessa técnica."
      ],
      "execution_count": null,
      "outputs": []
    },
    {
      "cell_type": "markdown",
      "metadata": {
        "id": "odLtpa89cW5W"
      },
      "source": [
        "8 - Regressão Linear"
      ]
    },
    {
      "cell_type": "code",
      "metadata": {
        "id": "B3P1CcljFTdX"
      },
      "source": [
        "from sklearn.linear_model import LinearRegression\n",
        "model = LinearRegression()"
      ],
      "execution_count": null,
      "outputs": []
    },
    {
      "cell_type": "code",
      "metadata": {
        "id": "SkVZN0BxW0-l"
      },
      "source": [
        "X = np.array(df['correto']).reshape((-1, 1))\n",
        "y = np.array(df['calculado'])"
      ],
      "execution_count": null,
      "outputs": []
    },
    {
      "cell_type": "code",
      "metadata": {
        "id": "rZcV6aCfFgoR"
      },
      "source": [
        "model = LinearRegression()"
      ],
      "execution_count": null,
      "outputs": []
    },
    {
      "cell_type": "code",
      "metadata": {
        "colab": {
          "base_uri": "https://localhost:8080/"
        },
        "id": "tAYtRON2FpD6",
        "outputId": "958e3431-f4b2-42f1-c5a2-eb2478e999ef"
      },
      "source": [
        "model.fit(X, y)"
      ],
      "execution_count": null,
      "outputs": [
        {
          "output_type": "execute_result",
          "data": {
            "text/plain": [
              "LinearRegression(copy_X=True, fit_intercept=True, n_jobs=None, normalize=False)"
            ]
          },
          "metadata": {},
          "execution_count": 19
        }
      ]
    },
    {
      "cell_type": "code",
      "metadata": {
        "id": "76gL7aK6F3Ze"
      },
      "source": [
        "model = LinearRegression().fit(X, y)"
      ],
      "execution_count": null,
      "outputs": []
    },
    {
      "cell_type": "code",
      "metadata": {
        "colab": {
          "base_uri": "https://localhost:8080/"
        },
        "id": "49_shXiyF6qm",
        "outputId": "a7a9f567-7231-43d6-c4e3-992fd40fc78a"
      },
      "source": [
        "# R^2\n",
        "r_sq = model.score(X, y)\n",
        "print('coefficient of determination:', r_sq)"
      ],
      "execution_count": null,
      "outputs": [
        {
          "output_type": "stream",
          "name": "stdout",
          "text": [
            "coefficient of determination: 0.9647187734140441\n"
          ]
        }
      ]
    },
    {
      "cell_type": "code",
      "metadata": {
        "colab": {
          "base_uri": "https://localhost:8080/"
        },
        "id": "IDE_bQIPGPxT",
        "outputId": "de22d59b-79e0-465b-f4b0-1abd2bbd06b9"
      },
      "source": [
        "#b0\n",
        "print('intercept:', model.intercept_)"
      ],
      "execution_count": null,
      "outputs": [
        {
          "output_type": "stream",
          "name": "stdout",
          "text": [
            "intercept: 2.5901383860514215\n"
          ]
        }
      ]
    },
    {
      "cell_type": "code",
      "metadata": {
        "colab": {
          "base_uri": "https://localhost:8080/"
        },
        "id": "z5eB5V6PGPko",
        "outputId": "5ea2b917-2c49-4c9a-c369-b0f4c1a53334"
      },
      "source": [
        "#b1\n",
        "print('slope:', model.coef_)"
      ],
      "execution_count": null,
      "outputs": [
        {
          "output_type": "stream",
          "name": "stdout",
          "text": [
            "slope: [0.98975373]\n"
          ]
        }
      ]
    },
    {
      "cell_type": "code",
      "metadata": {
        "colab": {
          "base_uri": "https://localhost:8080/"
        },
        "id": "YD9PqQVTGnBO",
        "outputId": "0da3e2ca-dd29-40fa-a1a8-bf603fbb3286"
      },
      "source": [
        "y_pred = model.predict(X)\n",
        "print('predicted response:', y_pred, sep='\\n')"
      ],
      "execution_count": null,
      "outputs": [
        {
          "output_type": "stream",
          "name": "stdout",
          "text": [
            "predicted response:\n",
            "[ 42.08131217  45.74340097 112.8487038  ... 158.17942459  69.99236733\n",
            "  96.91366876]\n"
          ]
        }
      ]
    },
    {
      "cell_type": "code",
      "metadata": {
        "colab": {
          "base_uri": "https://localhost:8080/"
        },
        "id": "5EQZGzmuG4sF",
        "outputId": "00d449f9-04e5-4f3d-89cb-2fc69f8d9b60"
      },
      "source": [
        "#aplicando na função \n",
        "y_pred = model.intercept_ + model.coef_ * X\n",
        "print('predicted response:', y_pred, sep='\\n')"
      ],
      "execution_count": null,
      "outputs": [
        {
          "output_type": "stream",
          "name": "stdout",
          "text": [
            "predicted response:\n",
            "[[ 42.08131217]\n",
            " [ 45.74340097]\n",
            " [112.8487038 ]\n",
            " ...\n",
            " [158.17942459]\n",
            " [ 69.99236733]\n",
            " [ 96.91366876]]\n"
          ]
        }
      ]
    },
    {
      "cell_type": "code",
      "metadata": {
        "colab": {
          "base_uri": "https://localhost:8080/"
        },
        "id": "hyVQHs31HJ6c",
        "outputId": "94b23ef7-d2a7-4581-95fc-84c9a9963922"
      },
      "source": [
        "y_pred[0:5121]"
      ],
      "execution_count": null,
      "outputs": [
        {
          "output_type": "execute_result",
          "data": {
            "text/plain": [
              "array([[ 42.08131217],\n",
              "       [ 45.74340097],\n",
              "       [112.8487038 ],\n",
              "       ...,\n",
              "       [ 45.74340097],\n",
              "       [ 45.74340097],\n",
              "       [107.89993515]])"
            ]
          },
          "metadata": {},
          "execution_count": 103
        }
      ]
    },
    {
      "cell_type": "code",
      "metadata": {
        "colab": {
          "base_uri": "https://localhost:8080/"
        },
        "id": "G9qX1CpJgp9_",
        "outputId": "a9449ff0-c43c-4e5d-c1b1-15ffeec2c8a8"
      },
      "source": [
        "with pd.option_context('display.max_rows', None, 'display.max_columns', None):  \n",
        "    print(y_pred)"
      ],
      "execution_count": null,
      "outputs": [
        {
          "output_type": "stream",
          "name": "stdout",
          "text": [
            "[[ 42.08131217]\n",
            " [ 45.74340097]\n",
            " [112.8487038 ]\n",
            " ...\n",
            " [158.17942459]\n",
            " [ 69.99236733]\n",
            " [ 96.91366876]]\n"
          ]
        }
      ]
    },
    {
      "cell_type": "markdown",
      "metadata": {
        "id": "1my9odROJygs"
      },
      "source": [
        "9 - Avaliando modelo"
      ]
    },
    {
      "cell_type": "code",
      "metadata": {
        "id": "tv11HlroKn3-"
      },
      "source": [
        "#LinearRegression / train_test_split"
      ],
      "execution_count": null,
      "outputs": []
    },
    {
      "cell_type": "code",
      "metadata": {
        "id": "kCAe6fwNGmys"
      },
      "source": [
        "from sklearn.linear_model import LinearRegression\n",
        "from sklearn.model_selection import train_test_split"
      ],
      "execution_count": null,
      "outputs": []
    },
    {
      "cell_type": "code",
      "metadata": {
        "id": "bHvV6yUK2RXJ"
      },
      "source": [
        "X_train, X_test, y_train, y_test = train_test_split(X, y, test_size=0.28, random_state=0)"
      ],
      "execution_count": null,
      "outputs": []
    },
    {
      "cell_type": "code",
      "metadata": {
        "colab": {
          "base_uri": "https://localhost:8080/"
        },
        "id": "M0h21Pe32RMO",
        "outputId": "8c62bebf-48c0-4f36-cdc1-1291bec3120d"
      },
      "source": [
        "model = LinearRegression().fit(X_train, y_train)\n",
        "model.intercept_"
      ],
      "execution_count": null,
      "outputs": [
        {
          "output_type": "execute_result",
          "data": {
            "text/plain": [
              "2.3566821519187613"
            ]
          },
          "metadata": {},
          "execution_count": 47
        }
      ]
    },
    {
      "cell_type": "code",
      "metadata": {
        "colab": {
          "base_uri": "https://localhost:8080/"
        },
        "id": "L1ipMdeA2Q78",
        "outputId": "1b21ac02-30aa-4458-cd28-9acb0dd46f4b"
      },
      "source": [
        "model.coef_"
      ],
      "execution_count": null,
      "outputs": [
        {
          "output_type": "execute_result",
          "data": {
            "text/plain": [
              "array([0.98892343])"
            ]
          },
          "metadata": {},
          "execution_count": 48
        }
      ]
    },
    {
      "cell_type": "code",
      "metadata": {
        "colab": {
          "base_uri": "https://localhost:8080/"
        },
        "id": "0EKAYA4g245b",
        "outputId": "d5a9f0a6-ea88-49ac-ec93-72d492af7647"
      },
      "source": [
        "model.score(X_train, y_train)"
      ],
      "execution_count": null,
      "outputs": [
        {
          "output_type": "execute_result",
          "data": {
            "text/plain": [
              "0.9669423433464378"
            ]
          },
          "metadata": {},
          "execution_count": 49
        }
      ]
    },
    {
      "cell_type": "code",
      "metadata": {
        "colab": {
          "base_uri": "https://localhost:8080/"
        },
        "id": "gitnAl9l24ug",
        "outputId": "c7f96d8f-5591-42d9-cf9f-c4aa44ccae4f"
      },
      "source": [
        "model.score(X_test, y_test)"
      ],
      "execution_count": null,
      "outputs": [
        {
          "output_type": "execute_result",
          "data": {
            "text/plain": [
              "0.9519682632012596"
            ]
          },
          "metadata": {},
          "execution_count": 50
        }
      ]
    },
    {
      "cell_type": "code",
      "metadata": {
        "id": "4UZxnz6B6BGh"
      },
      "source": [
        "#Gradient Boosting Regressor"
      ],
      "execution_count": null,
      "outputs": []
    },
    {
      "cell_type": "code",
      "metadata": {
        "colab": {
          "base_uri": "https://localhost:8080/"
        },
        "id": "61EF7PHG37tV",
        "outputId": "06d2679a-323c-4674-8832-465d1e9cd3cb"
      },
      "source": [
        "from sklearn.ensemble import GradientBoostingRegressor\n",
        "model = GradientBoostingRegressor(random_state=0).fit(X_train, y_train)\n",
        "model.score(X_train, y_train)"
      ],
      "execution_count": null,
      "outputs": [
        {
          "output_type": "execute_result",
          "data": {
            "text/plain": [
              "0.9849211912229826"
            ]
          },
          "metadata": {},
          "execution_count": 52
        }
      ]
    },
    {
      "cell_type": "code",
      "metadata": {
        "colab": {
          "base_uri": "https://localhost:8080/"
        },
        "id": "WcZQm8io4JE0",
        "outputId": "7ab807b7-766d-4e6a-c036-23510a549890"
      },
      "source": [
        "model.score(X_test, y_test)"
      ],
      "execution_count": null,
      "outputs": [
        {
          "output_type": "execute_result",
          "data": {
            "text/plain": [
              "0.9263219635786286"
            ]
          },
          "metadata": {},
          "execution_count": 53
        }
      ]
    },
    {
      "cell_type": "code",
      "metadata": {
        "id": "AMulzx8h4KXo"
      },
      "source": [
        "#RandomForest Regressor"
      ],
      "execution_count": null,
      "outputs": []
    },
    {
      "cell_type": "code",
      "metadata": {
        "colab": {
          "base_uri": "https://localhost:8080/"
        },
        "id": "JMjeOdXn4KMo",
        "outputId": "911d3373-2b93-473e-b662-c12c550a93e4"
      },
      "source": [
        "from sklearn.ensemble import RandomForestRegressor\n",
        "model = RandomForestRegressor(random_state=0).fit(X_train, y_train)\n",
        "model.score(X_train, y_train)"
      ],
      "execution_count": null,
      "outputs": [
        {
          "output_type": "execute_result",
          "data": {
            "text/plain": [
              "0.9645479948323997"
            ]
          },
          "metadata": {},
          "execution_count": 54
        }
      ]
    },
    {
      "cell_type": "code",
      "metadata": {
        "colab": {
          "base_uri": "https://localhost:8080/"
        },
        "id": "KDVkyRbz4ge6",
        "outputId": "08b316d0-5ef7-4c46-895a-e6e9f5899c15"
      },
      "source": [
        "model.score(X_test, y_test)"
      ],
      "execution_count": null,
      "outputs": [
        {
          "output_type": "execute_result",
          "data": {
            "text/plain": [
              "0.916373856315039"
            ]
          },
          "metadata": {},
          "execution_count": 55
        }
      ]
    },
    {
      "cell_type": "markdown",
      "metadata": {
        "id": "jPmChb4xc57Y"
      },
      "source": [
        "Referência:\n",
        "\n",
        "1 - https://realpython.com/linear-regression-in-python/\n",
        "2 - https://realpython.com/train-test-split-python-data/"
      ]
    }
  ]
}