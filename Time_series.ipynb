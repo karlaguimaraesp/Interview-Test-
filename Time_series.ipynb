{
  "cells": [
    {
      "cell_type": "markdown",
      "metadata": {
        "id": "view-in-github",
        "colab_type": "text"
      },
      "source": [
        "<a href=\"https://colab.research.google.com/github/karlaguimaraesp/Interview-Test-/blob/main/Time_series.ipynb\" target=\"_parent\"><img src=\"https://colab.research.google.com/assets/colab-badge.svg\" alt=\"Open In Colab\"/></a>"
      ]
    },
    {
      "cell_type": "code",
      "execution_count": null,
      "metadata": {
        "id": "-02qi3f3EIzB"
      },
      "outputs": [],
      "source": [
        "import pandas as pd\n",
        "import pandas as pd\n",
        "import numpy as np\n",
        "import matplotlib.pyplot as plt\n",
        "from pandas import Series\n",
        "from statsmodels.tsa.stattools import adfuller\n",
        "import statsmodels.api as sm\n"
      ]
    },
    {
      "cell_type": "code",
      "execution_count": null,
      "metadata": {
        "id": "CXusli8dW4w3"
      },
      "outputs": [],
      "source": [
        "#*Carregando Dataset*"
      ]
    },
    {
      "cell_type": "code",
      "execution_count": null,
      "metadata": {
        "colab": {
          "base_uri": "https://localhost:8080/",
          "height": 424
        },
        "id": "dnRRnS0ZFIub",
        "outputId": "54b8cdae-f73e-45cf-aabd-23691ddad57a"
      },
      "outputs": [
        {
          "data": {
            "text/html": [
              "\n",
              "  <div id=\"df-7214fae2-6ca3-4f33-ad99-efb8b56994c9\">\n",
              "    <div class=\"colab-df-container\">\n",
              "      <div>\n",
              "<style scoped>\n",
              "    .dataframe tbody tr th:only-of-type {\n",
              "        vertical-align: middle;\n",
              "    }\n",
              "\n",
              "    .dataframe tbody tr th {\n",
              "        vertical-align: top;\n",
              "    }\n",
              "\n",
              "    .dataframe thead th {\n",
              "        text-align: right;\n",
              "    }\n",
              "</style>\n",
              "<table border=\"1\" class=\"dataframe\">\n",
              "  <thead>\n",
              "    <tr style=\"text-align: right;\">\n",
              "      <th></th>\n",
              "      <th>Data</th>\n",
              "      <th>Soybeans (CBT $/bu)</th>\n",
              "      <th>Corn (CBT $/bu)</th>\n",
              "      <th>U.S. Dollar Index (DXY)</th>\n",
              "      <th>Crude Oil WTI (NYM $/bbl)</th>\n",
              "      <th>USD/BRL rate</th>\n",
              "    </tr>\n",
              "  </thead>\n",
              "  <tbody>\n",
              "    <tr>\n",
              "      <th>0</th>\n",
              "      <td>12-Jul-94</td>\n",
              "      <td>609.22</td>\n",
              "      <td>230.99</td>\n",
              "      <td>89.10</td>\n",
              "      <td>19.64</td>\n",
              "      <td>0.93</td>\n",
              "    </tr>\n",
              "    <tr>\n",
              "      <th>1</th>\n",
              "      <td>11-ago-94</td>\n",
              "      <td>582.65</td>\n",
              "      <td>219.24</td>\n",
              "      <td>89.11</td>\n",
              "      <td>18.37</td>\n",
              "      <td>0.90</td>\n",
              "    </tr>\n",
              "    <tr>\n",
              "      <th>2</th>\n",
              "      <td>12-set-94</td>\n",
              "      <td>566.41</td>\n",
              "      <td>219.51</td>\n",
              "      <td>87.98</td>\n",
              "      <td>17.47</td>\n",
              "      <td>0.87</td>\n",
              "    </tr>\n",
              "    <tr>\n",
              "      <th>3</th>\n",
              "      <td>12-out-94</td>\n",
              "      <td>540.73</td>\n",
              "      <td>216.01</td>\n",
              "      <td>86.55</td>\n",
              "      <td>17.72</td>\n",
              "      <td>0.85</td>\n",
              "    </tr>\n",
              "    <tr>\n",
              "      <th>4</th>\n",
              "      <td>9-Nov-94</td>\n",
              "      <td>559.20</td>\n",
              "      <td>215.55</td>\n",
              "      <td>87.71</td>\n",
              "      <td>18.10</td>\n",
              "      <td>0.84</td>\n",
              "    </tr>\n",
              "    <tr>\n",
              "      <th>...</th>\n",
              "      <td>...</td>\n",
              "      <td>...</td>\n",
              "      <td>...</td>\n",
              "      <td>...</td>\n",
              "      <td>...</td>\n",
              "      <td>...</td>\n",
              "    </tr>\n",
              "    <tr>\n",
              "      <th>239</th>\n",
              "      <td>11-Jun-14</td>\n",
              "      <td>1436.99</td>\n",
              "      <td>446.67</td>\n",
              "      <td>80.44</td>\n",
              "      <td>105.15</td>\n",
              "      <td>2.24</td>\n",
              "    </tr>\n",
              "    <tr>\n",
              "      <th>240</th>\n",
              "      <td>11-Jul-14</td>\n",
              "      <td>1266.24</td>\n",
              "      <td>384.76</td>\n",
              "      <td>80.54</td>\n",
              "      <td>102.46</td>\n",
              "      <td>2.22</td>\n",
              "    </tr>\n",
              "    <tr>\n",
              "      <th>241</th>\n",
              "      <td>12-ago-14</td>\n",
              "      <td>1178.39</td>\n",
              "      <td>359.35</td>\n",
              "      <td>81.85</td>\n",
              "      <td>96.08</td>\n",
              "      <td>2.27</td>\n",
              "    </tr>\n",
              "    <tr>\n",
              "      <th>242</th>\n",
              "      <td>11-set-14</td>\n",
              "      <td>1007.74</td>\n",
              "      <td>336.47</td>\n",
              "      <td>84.37</td>\n",
              "      <td>93.17</td>\n",
              "      <td>2.33</td>\n",
              "    </tr>\n",
              "    <tr>\n",
              "      <th>243</th>\n",
              "      <td>10-out-14</td>\n",
              "      <td>964.63</td>\n",
              "      <td>349.41</td>\n",
              "      <td>85.68</td>\n",
              "      <td>84.34</td>\n",
              "      <td>2.45</td>\n",
              "    </tr>\n",
              "  </tbody>\n",
              "</table>\n",
              "<p>244 rows × 6 columns</p>\n",
              "</div>\n",
              "      <button class=\"colab-df-convert\" onclick=\"convertToInteractive('df-7214fae2-6ca3-4f33-ad99-efb8b56994c9')\"\n",
              "              title=\"Convert this dataframe to an interactive table.\"\n",
              "              style=\"display:none;\">\n",
              "        \n",
              "  <svg xmlns=\"http://www.w3.org/2000/svg\" height=\"24px\"viewBox=\"0 0 24 24\"\n",
              "       width=\"24px\">\n",
              "    <path d=\"M0 0h24v24H0V0z\" fill=\"none\"/>\n",
              "    <path d=\"M18.56 5.44l.94 2.06.94-2.06 2.06-.94-2.06-.94-.94-2.06-.94 2.06-2.06.94zm-11 1L8.5 8.5l.94-2.06 2.06-.94-2.06-.94L8.5 2.5l-.94 2.06-2.06.94zm10 10l.94 2.06.94-2.06 2.06-.94-2.06-.94-.94-2.06-.94 2.06-2.06.94z\"/><path d=\"M17.41 7.96l-1.37-1.37c-.4-.4-.92-.59-1.43-.59-.52 0-1.04.2-1.43.59L10.3 9.45l-7.72 7.72c-.78.78-.78 2.05 0 2.83L4 21.41c.39.39.9.59 1.41.59.51 0 1.02-.2 1.41-.59l7.78-7.78 2.81-2.81c.8-.78.8-2.07 0-2.86zM5.41 20L4 18.59l7.72-7.72 1.47 1.35L5.41 20z\"/>\n",
              "  </svg>\n",
              "      </button>\n",
              "      \n",
              "  <style>\n",
              "    .colab-df-container {\n",
              "      display:flex;\n",
              "      flex-wrap:wrap;\n",
              "      gap: 12px;\n",
              "    }\n",
              "\n",
              "    .colab-df-convert {\n",
              "      background-color: #E8F0FE;\n",
              "      border: none;\n",
              "      border-radius: 50%;\n",
              "      cursor: pointer;\n",
              "      display: none;\n",
              "      fill: #1967D2;\n",
              "      height: 32px;\n",
              "      padding: 0 0 0 0;\n",
              "      width: 32px;\n",
              "    }\n",
              "\n",
              "    .colab-df-convert:hover {\n",
              "      background-color: #E2EBFA;\n",
              "      box-shadow: 0px 1px 2px rgba(60, 64, 67, 0.3), 0px 1px 3px 1px rgba(60, 64, 67, 0.15);\n",
              "      fill: #174EA6;\n",
              "    }\n",
              "\n",
              "    [theme=dark] .colab-df-convert {\n",
              "      background-color: #3B4455;\n",
              "      fill: #D2E3FC;\n",
              "    }\n",
              "\n",
              "    [theme=dark] .colab-df-convert:hover {\n",
              "      background-color: #434B5C;\n",
              "      box-shadow: 0px 1px 3px 1px rgba(0, 0, 0, 0.15);\n",
              "      filter: drop-shadow(0px 1px 2px rgba(0, 0, 0, 0.3));\n",
              "      fill: #FFFFFF;\n",
              "    }\n",
              "  </style>\n",
              "\n",
              "      <script>\n",
              "        const buttonEl =\n",
              "          document.querySelector('#df-7214fae2-6ca3-4f33-ad99-efb8b56994c9 button.colab-df-convert');\n",
              "        buttonEl.style.display =\n",
              "          google.colab.kernel.accessAllowed ? 'block' : 'none';\n",
              "\n",
              "        async function convertToInteractive(key) {\n",
              "          const element = document.querySelector('#df-7214fae2-6ca3-4f33-ad99-efb8b56994c9');\n",
              "          const dataTable =\n",
              "            await google.colab.kernel.invokeFunction('convertToInteractive',\n",
              "                                                     [key], {});\n",
              "          if (!dataTable) return;\n",
              "\n",
              "          const docLinkHtml = 'Like what you see? Visit the ' +\n",
              "            '<a target=\"_blank\" href=https://colab.research.google.com/notebooks/data_table.ipynb>data table notebook</a>'\n",
              "            + ' to learn more about interactive tables.';\n",
              "          element.innerHTML = '';\n",
              "          dataTable['output_type'] = 'display_data';\n",
              "          await google.colab.output.renderOutput(dataTable, element);\n",
              "          const docLink = document.createElement('div');\n",
              "          docLink.innerHTML = docLinkHtml;\n",
              "          element.appendChild(docLink);\n",
              "        }\n",
              "      </script>\n",
              "    </div>\n",
              "  </div>\n",
              "  "
            ],
            "text/plain": [
              "          Data  Soybeans (CBT $/bu)  Corn (CBT $/bu)  U.S. Dollar Index (DXY)  \\\n",
              "0    12-Jul-94               609.22           230.99                    89.10   \n",
              "1    11-ago-94               582.65           219.24                    89.11   \n",
              "2    12-set-94               566.41           219.51                    87.98   \n",
              "3    12-out-94               540.73           216.01                    86.55   \n",
              "4     9-Nov-94               559.20           215.55                    87.71   \n",
              "..         ...                  ...              ...                      ...   \n",
              "239  11-Jun-14              1436.99           446.67                    80.44   \n",
              "240  11-Jul-14              1266.24           384.76                    80.54   \n",
              "241  12-ago-14              1178.39           359.35                    81.85   \n",
              "242  11-set-14              1007.74           336.47                    84.37   \n",
              "243  10-out-14               964.63           349.41                    85.68   \n",
              "\n",
              "     Crude Oil WTI (NYM $/bbl)  USD/BRL rate  \n",
              "0                        19.64          0.93  \n",
              "1                        18.37          0.90  \n",
              "2                        17.47          0.87  \n",
              "3                        17.72          0.85  \n",
              "4                        18.10          0.84  \n",
              "..                         ...           ...  \n",
              "239                     105.15          2.24  \n",
              "240                     102.46          2.22  \n",
              "241                      96.08          2.27  \n",
              "242                      93.17          2.33  \n",
              "243                      84.34          2.45  \n",
              "\n",
              "[244 rows x 6 columns]"
            ]
          },
          "execution_count": 60,
          "metadata": {},
          "output_type": "execute_result"
        }
      ],
      "source": [
        "Dataset = pd.read_csv(\"/content/drive/MyDrive/Colab Notebooks/Exams/df.csv\", sep=',')\n",
        "Dataset"
      ]
    },
    {
      "cell_type": "code",
      "execution_count": null,
      "metadata": {
        "id": "pnHiqjSoXHKi"
      },
      "outputs": [],
      "source": [
        "#Verificando se há dados faltante "
      ]
    },
    {
      "cell_type": "code",
      "execution_count": null,
      "metadata": {
        "colab": {
          "base_uri": "https://localhost:8080/"
        },
        "id": "UGQjd6EwNZzw",
        "outputId": "8784307d-4e35-43f6-88ad-cad8067a882b"
      },
      "outputs": [
        {
          "data": {
            "text/plain": [
              "Data                         0\n",
              "Soybeans (CBT $/bu)          0\n",
              "Corn (CBT $/bu)              1\n",
              "U.S. Dollar Index (DXY)      0\n",
              "Crude Oil WTI (NYM $/bbl)    0\n",
              "USD/BRL rate                 1\n",
              "dtype: int64"
            ]
          },
          "execution_count": 3,
          "metadata": {},
          "output_type": "execute_result"
        }
      ],
      "source": [
        "Dataset.isnull().sum()"
      ]
    },
    {
      "cell_type": "code",
      "execution_count": null,
      "metadata": {
        "id": "WXDDEmYlXMkk"
      },
      "outputs": [],
      "source": [
        "#Dados estatísticos"
      ]
    },
    {
      "cell_type": "code",
      "execution_count": null,
      "metadata": {
        "colab": {
          "base_uri": "https://localhost:8080/",
          "height": 300
        },
        "id": "eZqub-QFaMjO",
        "outputId": "7c04ed35-21d7-4afc-d4a3-c0c260726f54"
      },
      "outputs": [
        {
          "data": {
            "text/html": [
              "\n",
              "  <div id=\"df-0549182f-f816-4702-b96c-2d1f36b88e29\">\n",
              "    <div class=\"colab-df-container\">\n",
              "      <div>\n",
              "<style scoped>\n",
              "    .dataframe tbody tr th:only-of-type {\n",
              "        vertical-align: middle;\n",
              "    }\n",
              "\n",
              "    .dataframe tbody tr th {\n",
              "        vertical-align: top;\n",
              "    }\n",
              "\n",
              "    .dataframe thead th {\n",
              "        text-align: right;\n",
              "    }\n",
              "</style>\n",
              "<table border=\"1\" class=\"dataframe\">\n",
              "  <thead>\n",
              "    <tr style=\"text-align: right;\">\n",
              "      <th></th>\n",
              "      <th>Soybeans (CBT $/bu)</th>\n",
              "      <th>Corn (CBT $/bu)</th>\n",
              "      <th>U.S. Dollar Index (DXY)</th>\n",
              "      <th>Crude Oil WTI (NYM $/bbl)</th>\n",
              "      <th>USD/BRL rate</th>\n",
              "    </tr>\n",
              "  </thead>\n",
              "  <tbody>\n",
              "    <tr>\n",
              "      <th>count</th>\n",
              "      <td>244.000000</td>\n",
              "      <td>243.000000</td>\n",
              "      <td>244.000000</td>\n",
              "      <td>244.000000</td>\n",
              "      <td>243.000000</td>\n",
              "    </tr>\n",
              "    <tr>\n",
              "      <th>mean</th>\n",
              "      <td>835.813893</td>\n",
              "      <td>348.047490</td>\n",
              "      <td>89.937664</td>\n",
              "      <td>52.308484</td>\n",
              "      <td>1.937037</td>\n",
              "    </tr>\n",
              "    <tr>\n",
              "      <th>std</th>\n",
              "      <td>342.160758</td>\n",
              "      <td>162.378049</td>\n",
              "      <td>11.689160</td>\n",
              "      <td>32.345297</td>\n",
              "      <td>0.649553</td>\n",
              "    </tr>\n",
              "    <tr>\n",
              "      <th>min</th>\n",
              "      <td>430.780000</td>\n",
              "      <td>178.290000</td>\n",
              "      <td>72.100000</td>\n",
              "      <td>11.290000</td>\n",
              "      <td>0.840000</td>\n",
              "    </tr>\n",
              "    <tr>\n",
              "      <th>25%</th>\n",
              "      <td>566.370000</td>\n",
              "      <td>219.530000</td>\n",
              "      <td>81.057500</td>\n",
              "      <td>22.555000</td>\n",
              "      <td>1.610000</td>\n",
              "    </tr>\n",
              "    <tr>\n",
              "      <th>50%</th>\n",
              "      <td>712.925000</td>\n",
              "      <td>280.290000</td>\n",
              "      <td>86.470000</td>\n",
              "      <td>41.225000</td>\n",
              "      <td>1.930000</td>\n",
              "    </tr>\n",
              "    <tr>\n",
              "      <th>75%</th>\n",
              "      <td>1068.017500</td>\n",
              "      <td>412.540000</td>\n",
              "      <td>97.562500</td>\n",
              "      <td>82.080000</td>\n",
              "      <td>2.310000</td>\n",
              "    </tr>\n",
              "    <tr>\n",
              "      <th>max</th>\n",
              "      <td>1695.290000</td>\n",
              "      <td>803.540000</td>\n",
              "      <td>118.980000</td>\n",
              "      <td>134.020000</td>\n",
              "      <td>3.810000</td>\n",
              "    </tr>\n",
              "  </tbody>\n",
              "</table>\n",
              "</div>\n",
              "      <button class=\"colab-df-convert\" onclick=\"convertToInteractive('df-0549182f-f816-4702-b96c-2d1f36b88e29')\"\n",
              "              title=\"Convert this dataframe to an interactive table.\"\n",
              "              style=\"display:none;\">\n",
              "        \n",
              "  <svg xmlns=\"http://www.w3.org/2000/svg\" height=\"24px\"viewBox=\"0 0 24 24\"\n",
              "       width=\"24px\">\n",
              "    <path d=\"M0 0h24v24H0V0z\" fill=\"none\"/>\n",
              "    <path d=\"M18.56 5.44l.94 2.06.94-2.06 2.06-.94-2.06-.94-.94-2.06-.94 2.06-2.06.94zm-11 1L8.5 8.5l.94-2.06 2.06-.94-2.06-.94L8.5 2.5l-.94 2.06-2.06.94zm10 10l.94 2.06.94-2.06 2.06-.94-2.06-.94-.94-2.06-.94 2.06-2.06.94z\"/><path d=\"M17.41 7.96l-1.37-1.37c-.4-.4-.92-.59-1.43-.59-.52 0-1.04.2-1.43.59L10.3 9.45l-7.72 7.72c-.78.78-.78 2.05 0 2.83L4 21.41c.39.39.9.59 1.41.59.51 0 1.02-.2 1.41-.59l7.78-7.78 2.81-2.81c.8-.78.8-2.07 0-2.86zM5.41 20L4 18.59l7.72-7.72 1.47 1.35L5.41 20z\"/>\n",
              "  </svg>\n",
              "      </button>\n",
              "      \n",
              "  <style>\n",
              "    .colab-df-container {\n",
              "      display:flex;\n",
              "      flex-wrap:wrap;\n",
              "      gap: 12px;\n",
              "    }\n",
              "\n",
              "    .colab-df-convert {\n",
              "      background-color: #E8F0FE;\n",
              "      border: none;\n",
              "      border-radius: 50%;\n",
              "      cursor: pointer;\n",
              "      display: none;\n",
              "      fill: #1967D2;\n",
              "      height: 32px;\n",
              "      padding: 0 0 0 0;\n",
              "      width: 32px;\n",
              "    }\n",
              "\n",
              "    .colab-df-convert:hover {\n",
              "      background-color: #E2EBFA;\n",
              "      box-shadow: 0px 1px 2px rgba(60, 64, 67, 0.3), 0px 1px 3px 1px rgba(60, 64, 67, 0.15);\n",
              "      fill: #174EA6;\n",
              "    }\n",
              "\n",
              "    [theme=dark] .colab-df-convert {\n",
              "      background-color: #3B4455;\n",
              "      fill: #D2E3FC;\n",
              "    }\n",
              "\n",
              "    [theme=dark] .colab-df-convert:hover {\n",
              "      background-color: #434B5C;\n",
              "      box-shadow: 0px 1px 3px 1px rgba(0, 0, 0, 0.15);\n",
              "      filter: drop-shadow(0px 1px 2px rgba(0, 0, 0, 0.3));\n",
              "      fill: #FFFFFF;\n",
              "    }\n",
              "  </style>\n",
              "\n",
              "      <script>\n",
              "        const buttonEl =\n",
              "          document.querySelector('#df-0549182f-f816-4702-b96c-2d1f36b88e29 button.colab-df-convert');\n",
              "        buttonEl.style.display =\n",
              "          google.colab.kernel.accessAllowed ? 'block' : 'none';\n",
              "\n",
              "        async function convertToInteractive(key) {\n",
              "          const element = document.querySelector('#df-0549182f-f816-4702-b96c-2d1f36b88e29');\n",
              "          const dataTable =\n",
              "            await google.colab.kernel.invokeFunction('convertToInteractive',\n",
              "                                                     [key], {});\n",
              "          if (!dataTable) return;\n",
              "\n",
              "          const docLinkHtml = 'Like what you see? Visit the ' +\n",
              "            '<a target=\"_blank\" href=https://colab.research.google.com/notebooks/data_table.ipynb>data table notebook</a>'\n",
              "            + ' to learn more about interactive tables.';\n",
              "          element.innerHTML = '';\n",
              "          dataTable['output_type'] = 'display_data';\n",
              "          await google.colab.output.renderOutput(dataTable, element);\n",
              "          const docLink = document.createElement('div');\n",
              "          docLink.innerHTML = docLinkHtml;\n",
              "          element.appendChild(docLink);\n",
              "        }\n",
              "      </script>\n",
              "    </div>\n",
              "  </div>\n",
              "  "
            ],
            "text/plain": [
              "       Soybeans (CBT $/bu)  Corn (CBT $/bu)  U.S. Dollar Index (DXY)  \\\n",
              "count           244.000000       243.000000               244.000000   \n",
              "mean            835.813893       348.047490                89.937664   \n",
              "std             342.160758       162.378049                11.689160   \n",
              "min             430.780000       178.290000                72.100000   \n",
              "25%             566.370000       219.530000                81.057500   \n",
              "50%             712.925000       280.290000                86.470000   \n",
              "75%            1068.017500       412.540000                97.562500   \n",
              "max            1695.290000       803.540000               118.980000   \n",
              "\n",
              "       Crude Oil WTI (NYM $/bbl)  USD/BRL rate  \n",
              "count                 244.000000    243.000000  \n",
              "mean                   52.308484      1.937037  \n",
              "std                    32.345297      0.649553  \n",
              "min                    11.290000      0.840000  \n",
              "25%                    22.555000      1.610000  \n",
              "50%                    41.225000      1.930000  \n",
              "75%                    82.080000      2.310000  \n",
              "max                   134.020000      3.810000  "
            ]
          },
          "execution_count": 61,
          "metadata": {},
          "output_type": "execute_result"
        }
      ],
      "source": [
        "Dataset.describe()"
      ]
    },
    {
      "cell_type": "code",
      "execution_count": null,
      "metadata": {
        "colab": {
          "base_uri": "https://localhost:8080/"
        },
        "id": "9uZ6qeNzZrYA",
        "outputId": "2884fe2e-9e32-4b2d-97b5-c80164290e1e"
      },
      "outputs": [
        {
          "name": "stdout",
          "output_type": "stream",
          "text": [
            "<class 'pandas.core.frame.DataFrame'>\n",
            "RangeIndex: 244 entries, 0 to 243\n",
            "Data columns (total 6 columns):\n",
            " #   Column                     Non-Null Count  Dtype  \n",
            "---  ------                     --------------  -----  \n",
            " 0   Data                       244 non-null    object \n",
            " 1   Soybeans (CBT $/bu)        244 non-null    float64\n",
            " 2   Corn (CBT $/bu)            244 non-null    float64\n",
            " 3   U.S. Dollar Index (DXY)    244 non-null    float64\n",
            " 4   Crude Oil WTI (NYM $/bbl)  244 non-null    float64\n",
            " 5   USD/BRL rate               244 non-null    float64\n",
            "dtypes: float64(5), object(1)\n",
            "memory usage: 11.6+ KB\n"
          ]
        }
      ],
      "source": [
        "Dataset.info()"
      ]
    },
    {
      "cell_type": "code",
      "execution_count": null,
      "metadata": {
        "id": "tIoxdoHNXWDL"
      },
      "outputs": [],
      "source": [
        "#Substituindo dados faltantes pela média"
      ]
    },
    {
      "cell_type": "code",
      "execution_count": null,
      "metadata": {
        "colab": {
          "base_uri": "https://localhost:8080/"
        },
        "id": "dMwH7l1IVp2I",
        "outputId": "1b3112f6-71d1-4fdb-918a-72e822d2ce27"
      },
      "outputs": [
        {
          "data": {
            "text/plain": [
              "count    244.000000\n",
              "mean     348.047490\n",
              "std      162.043593\n",
              "min      178.290000\n",
              "25%      219.540000\n",
              "50%      280.815000\n",
              "75%      412.495000\n",
              "max      803.540000\n",
              "Name: Corn (CBT $/bu), dtype: float64"
            ]
          },
          "execution_count": 62,
          "metadata": {},
          "output_type": "execute_result"
        }
      ],
      "source": [
        "Dataset['Corn (CBT $/bu)'].fillna(348.047490, inplace=True)\n",
        "Dataset['Corn (CBT $/bu)'].describe()"
      ]
    },
    {
      "cell_type": "code",
      "execution_count": null,
      "metadata": {
        "colab": {
          "base_uri": "https://localhost:8080/"
        },
        "id": "5LimmpGfWdwu",
        "outputId": "7defebd0-3079-4fe2-c1bb-12fd563b9151"
      },
      "outputs": [
        {
          "data": {
            "text/plain": [
              "count    244.000000\n",
              "mean       1.937037\n",
              "std        0.648215\n",
              "min        0.840000\n",
              "25%        1.610000\n",
              "50%        1.930000\n",
              "75%        2.310000\n",
              "max        3.810000\n",
              "Name: USD/BRL rate, dtype: float64"
            ]
          },
          "execution_count": 63,
          "metadata": {},
          "output_type": "execute_result"
        }
      ],
      "source": [
        "Dataset['USD/BRL rate'].fillna(1.937037, inplace=True)\n",
        "Dataset['USD/BRL rate'].describe()"
      ]
    },
    {
      "cell_type": "code",
      "execution_count": null,
      "metadata": {
        "id": "2GC45Z6hXc4j"
      },
      "outputs": [],
      "source": [
        "#Verificando base de dados"
      ]
    },
    {
      "cell_type": "code",
      "execution_count": null,
      "metadata": {
        "colab": {
          "base_uri": "https://localhost:8080/"
        },
        "id": "x5-q6BWWa1mi",
        "outputId": "3fa9deec-b1be-443e-bb81-9fcbfad5cbfd"
      },
      "outputs": [
        {
          "name": "stdout",
          "output_type": "stream",
          "text": [
            "<class 'pandas.core.frame.DataFrame'>\n",
            "RangeIndex: 244 entries, 0 to 243\n",
            "Data columns (total 6 columns):\n",
            " #   Column                     Non-Null Count  Dtype  \n",
            "---  ------                     --------------  -----  \n",
            " 0   Data                       244 non-null    object \n",
            " 1   Soybeans (CBT $/bu)        244 non-null    float64\n",
            " 2   Corn (CBT $/bu)            244 non-null    float64\n",
            " 3   U.S. Dollar Index (DXY)    244 non-null    float64\n",
            " 4   Crude Oil WTI (NYM $/bbl)  244 non-null    float64\n",
            " 5   USD/BRL rate               244 non-null    float64\n",
            "dtypes: float64(5), object(1)\n",
            "memory usage: 11.6+ KB\n"
          ]
        }
      ],
      "source": [
        "Dataset.info()"
      ]
    },
    {
      "cell_type": "code",
      "execution_count": null,
      "metadata": {
        "id": "Rd_oSyh4Xj-u"
      },
      "outputs": [],
      "source": [
        "#Plotando Séries Temporais"
      ]
    },
    {
      "cell_type": "code",
      "execution_count": null,
      "metadata": {
        "id": "Dl_MbwVvXo2q"
      },
      "outputs": [],
      "source": [
        "#Soybeans:"
      ]
    },
    {
      "cell_type": "code",
      "execution_count": null,
      "metadata": {
        "colab": {
          "base_uri": "https://localhost:8080/",
          "height": 542
        },
        "id": "r-jtTCQKGepr",
        "outputId": "25b5866b-8952-4c4f-c318-6d1640975074"
      },
      "outputs": [
        {
          "data": {
            "text/html": [
              "<html>\n",
              "<head><meta charset=\"utf-8\" /></head>\n",
              "<body>\n",
              "    <div>            <script src=\"https://cdnjs.cloudflare.com/ajax/libs/mathjax/2.7.5/MathJax.js?config=TeX-AMS-MML_SVG\"></script><script type=\"text/javascript\">if (window.MathJax) {MathJax.Hub.Config({SVG: {font: \"STIX-Web\"}});}</script>                <script type=\"text/javascript\">window.PlotlyConfig = {MathJaxConfig: 'local'};</script>\n",
              "        <script src=\"https://cdn.plot.ly/plotly-2.8.3.min.js\"></script>                <div id=\"28a496e3-796e-4143-9777-f9fee3977cde\" class=\"plotly-graph-div\" style=\"height:525px; width:100%;\"></div>            <script type=\"text/javascript\">                                    window.PLOTLYENV=window.PLOTLYENV || {};                                    if (document.getElementById(\"28a496e3-796e-4143-9777-f9fee3977cde\")) {                    Plotly.newPlot(                        \"28a496e3-796e-4143-9777-f9fee3977cde\",                        [{\"hovertemplate\":\"Data=%{x}<br>Soybeans (CBT $/bu)=%{y}<extra></extra>\",\"legendgroup\":\"\",\"line\":{\"color\":\"#636efa\",\"dash\":\"solid\"},\"marker\":{\"symbol\":\"circle\"},\"mode\":\"lines\",\"name\":\"\",\"orientation\":\"v\",\"showlegend\":false,\"x\":[\"12-Jul-94\",\"11-ago-94\",\"12-set-94\",\"12-out-94\",\"9-Nov-94\",\"9-dez-94\",\"31-Jan-95\",\"12-fev-95\",\"12-Mar-95\",\"11-abr-95\",\"11-mai-95\",\"12-Jun-95\",\"12-Jul-95\",\"14-ago-95\",\"12-set-95\",\"11-out-95\",\"9-Nov-95\",\"12-dez-95\",\"16-Jan-96\",\"9-fev-96\",\"14-Mar-96\",\"11-abr-96\",\"10-mai-96\",\"12-Jun-96\",\"12-Jul-96\",\"12-ago-96\",\"11-set-96\",\"11-out-96\",\"12-Nov-96\",\"12-dez-96\",\"10-Jan-97\",\"12-fev-97\",\"11-Mar-97\",\"11-abr-97\",\"12-mai-97\",\"12-Jun-97\",\"11-Jul-97\",\"12-ago-97\",\"12-set-97\",\"10-out-97\",\"10-Nov-97\",\"11-dez-97\",\"13-Jan-98\",\"11-fev-98\",\"12-Mar-98\",\"9-abr-98\",\"12-mai-98\",\"12-Jun-98\",\"10-Jul-98\",\"12-ago-98\",\"11-set-98\",\"9-out-98\",\"10-Nov-98\",\"11-dez-98\",\"12-Jan-99\",\"10-fev-99\",\"11-Mar-99\",\"9-abr-99\",\"12-mai-99\",\"11-Jun-99\",\"12-Jul-99\",\"12-ago-99\",\"10-set-99\",\"8-out-99\",\"10-Nov-99\",\"10-dez-99\",\"12-Jan-00\",\"11-fev-00\",\"10-Mar-00\",\"1-abr-00\",\"12-mai-00\",\"9-Jun-00\",\"12-Jul-00\",\"11-ago-00\",\"12-set-00\",\"12-out-00\",\"9-Nov-00\",\"12-dez-00\",\"11-Jan-01\",\"8-fev-01\",\"8-Mar-01\",\"10-abr-01\",\"10-mai-01\",\"12-Jun-01\",\"11-Jul-01\",\"10-ago-01\",\"14-set-01\",\"12-out-01\",\"9-Nov-01\",\"11-dez-01\",\"11-Jan-02\",\"8-fev-02\",\"8-Mar-02\",\"10-abr-02\",\"10-mai-02\",\"12-Jun-02\",\"11-Jul-02\",\"12-ago-02\",\"12-set-02\",\"11-out-02\",\"12-Nov-02\",\"10-dez-02\",\"10-Jan-03\",\"11-fev-03\",\"11-Mar-03\",\"10-abr-03\",\"12-mai-03\",\"11-Jun-03\",\"11-Jul-03\",\"12-ago-03\",\"11-set-03\",\"10-out-03\",\"12-Nov-03\",\"11-dez-03\",\"12-Jan-04\",\"10-fev-04\",\"10-Mar-04\",\"8-abr-04\",\"12-mai-04\",\"10-Jun-04\",\"12-Jul-04\",\"12-ago-04\",\"10-set-04\",\"12-out-04\",\"12-Nov-04\",\"10-dez-04\",\"12-Jan-05\",\"9-fev-05\",\"10-Mar-05\",\"8-abr-05\",\"12-mai-05\",\"10-Jun-05\",\"12-Jul-05\",\"12-ago-05\",\"12-set-05\",\"12-out-05\",\"10-Nov-05\",\"9-dez-05\",\"12-Jan-06\",\"9-fev-06\",\"13-Mar-06\",\"10-abr-06\",\"12-mai-06\",\"9-Jun-06\",\"12-Jul-06\",\"11-ago-06\",\"12-set-06\",\"12-out-06\",\"9-Nov-06\",\"11-dez-06\",\"12-Jan-07\",\"9-fev-07\",\"9-Mar-07\",\"10-abr-07\",\"11-mai-07\",\"11-Jun-07\",\"12-Jul-07\",\"10-ago-07\",\"12-set-07\",\"12-out-07\",\"9-Nov-07\",\"11-dez-07\",\"11-Jan-08\",\"8-fev-08\",\"11-Mar-08\",\"9-abr-08\",\"9-mai-08\",\"10-Jun-08\",\"11-Jul-08\",\"12-ago-08\",\"12-set-08\",\"28-out-08\",\"10-Nov-08\",\"12-dez-08\",\"12-Jan-09\",\"10-fev-09\",\"11-Mar-09\",\"9-abr-09\",\"12-mai-09\",\"10-Jun-09\",\"10-Jul-09\",\"12-ago-09\",\"14-set-09\",\"9-out-09\",\"10-Nov-09\",\"10-dez-09\",\"12-Jan-10\",\"9-fev-10\",\"10-Mar-10\",\"9-abr-10\",\"11-mai-10\",\"10-Jun-10\",\"9-Jul-10\",\"12-ago-10\",\"10-set-10\",\"8-out-10\",\"9-Nov-10\",\"15-dez-10\",\"12-Jan-11\",\"9-fev-11\",\"10-Mar-11\",\"8-abr-11\",\"11-mai-11\",\"9-Jun-11\",\"12-Jul-11\",\"11-ago-11\",\"12-set-11\",\"12-out-11\",\"9-Nov-11\",\"9-dez-11\",\"12-Jan-12\",\"9-fev-12\",\"9-Mar-12\",\"10-abr-12\",\"10-mai-12\",\"12-Jun-12\",\"11-Jul-12\",\"10-ago-12\",\"12-set-12\",\"11-out-12\",\"9-Nov-12\",\"11-dez-12\",\"11-Jan-13\",\"8-fev-13\",\"8-Mar-13\",\"10-abr-13\",\"10-mai-13\",\"12-Jun-13\",\"11-Jul-13\",\"12-ago-13\",\"12-set-13\",\"10-out-13\",\"8-Nov-13\",\"10-dez-13\",\"23-Jan-14\",\"10-fev-14\",\"10-Mar-14\",\"9-abr-14\",\"9-mai-14\",\"11-Jun-14\",\"11-Jul-14\",\"12-ago-14\",\"11-set-14\",\"10-out-14\"],\"xaxis\":\"x\",\"y\":[609.22,582.65,566.41,540.73,559.2,561.89,551.06,554.24,569.66,574.96,577.23,589.58,616.04,595.77,632.23,655.81,679.78,718.85,735.07,730.02,723.26,789.16,804.3,774.48,785.53,806.32,809.79,707.0,695.69,700.16,727.89,763.34,833.45,852.73,868.81,829.39,763.25,728.21,693.23,682.39,722.24,692.55,669.38,673.61,653.47,639.4,642.25,628.97,632.79,550.37,525.99,546.33,571.2,557.18,531.1,489.09,476.2,483.11,466.32,462.65,430.78,468.05,491.66,484.86,465.83,462.68,490.61,505.92,519.67,536.39,546.1,508.77,461.6,456.79,491.13,472.47,482.58,506.27,478.45,455.58,447.31,431.77,446.01,463.24,507.07,497.29,469.1,437.14,442.72,435.76,435.36,435.99,459.9,466.31,481.16,504.45,568.47,566.64,566.25,544.52,572.33,567.23,567.5,570.6,572.13,604.24,632.33,625.35,584.42,566.68,628.97,732.07,760.5,770.23,818.32,859.89,981.6,989.24,940.43,871.52,795.52,614.5,564.26,526.44,533.89,541.23,532.96,538.49,634.36,622.6,636.85,693.3,688.74,627.12,577.53,574.7,573.43,590.41,582.53,584.3,578.91,568.26,591.15,589.23,591.75,554.77,542.24,592.99,664.51,662.05,696.22,757.21,753.76,737.06,772.58,824.17,853.02,840.98,942.01,975.41,1059.88,1152.85,1254.4,1382.69,1342.29,1313.94,1332.76,1503.58,1514.66,1282.04,1186.41,922.02,895.28,869.76,992.92,930.13,908.07,1018.58,1150.25,1211.39,1090.36,1113.0,950.47,965.78,1011.07,1030.86,979.8,938.36,949.68,971.91,949.38,948.5,1007.5,1032.73,1060.57,1162.58,1251.95,1318.0,1391.74,1392.3,1357.35,1365.52,1358.43,1360.16,1363.68,1364.65,1340.58,1213.86,1165.05,1144.08,1200.11,1256.69,1350.68,1440.52,1416.17,1421.55,1654.72,1695.29,1678.76,1539.11,1448.74,1454.71,1431.0,1458.01,1456.39,1409.19,1475.65,1524.5,1496.33,1355.47,1372.18,1286.83,1298.35,1330.11,1297.37,1351.34,1420.65,1490.33,1487.4,1436.99,1266.24,1178.39,1007.74,964.63],\"yaxis\":\"y\",\"type\":\"scatter\"}],                        {\"template\":{\"data\":{\"bar\":[{\"error_x\":{\"color\":\"#2a3f5f\"},\"error_y\":{\"color\":\"#2a3f5f\"},\"marker\":{\"line\":{\"color\":\"#E5ECF6\",\"width\":0.5},\"pattern\":{\"fillmode\":\"overlay\",\"size\":10,\"solidity\":0.2}},\"type\":\"bar\"}],\"barpolar\":[{\"marker\":{\"line\":{\"color\":\"#E5ECF6\",\"width\":0.5},\"pattern\":{\"fillmode\":\"overlay\",\"size\":10,\"solidity\":0.2}},\"type\":\"barpolar\"}],\"carpet\":[{\"aaxis\":{\"endlinecolor\":\"#2a3f5f\",\"gridcolor\":\"white\",\"linecolor\":\"white\",\"minorgridcolor\":\"white\",\"startlinecolor\":\"#2a3f5f\"},\"baxis\":{\"endlinecolor\":\"#2a3f5f\",\"gridcolor\":\"white\",\"linecolor\":\"white\",\"minorgridcolor\":\"white\",\"startlinecolor\":\"#2a3f5f\"},\"type\":\"carpet\"}],\"choropleth\":[{\"colorbar\":{\"outlinewidth\":0,\"ticks\":\"\"},\"type\":\"choropleth\"}],\"contour\":[{\"colorbar\":{\"outlinewidth\":0,\"ticks\":\"\"},\"colorscale\":[[0.0,\"#0d0887\"],[0.1111111111111111,\"#46039f\"],[0.2222222222222222,\"#7201a8\"],[0.3333333333333333,\"#9c179e\"],[0.4444444444444444,\"#bd3786\"],[0.5555555555555556,\"#d8576b\"],[0.6666666666666666,\"#ed7953\"],[0.7777777777777778,\"#fb9f3a\"],[0.8888888888888888,\"#fdca26\"],[1.0,\"#f0f921\"]],\"type\":\"contour\"}],\"contourcarpet\":[{\"colorbar\":{\"outlinewidth\":0,\"ticks\":\"\"},\"type\":\"contourcarpet\"}],\"heatmap\":[{\"colorbar\":{\"outlinewidth\":0,\"ticks\":\"\"},\"colorscale\":[[0.0,\"#0d0887\"],[0.1111111111111111,\"#46039f\"],[0.2222222222222222,\"#7201a8\"],[0.3333333333333333,\"#9c179e\"],[0.4444444444444444,\"#bd3786\"],[0.5555555555555556,\"#d8576b\"],[0.6666666666666666,\"#ed7953\"],[0.7777777777777778,\"#fb9f3a\"],[0.8888888888888888,\"#fdca26\"],[1.0,\"#f0f921\"]],\"type\":\"heatmap\"}],\"heatmapgl\":[{\"colorbar\":{\"outlinewidth\":0,\"ticks\":\"\"},\"colorscale\":[[0.0,\"#0d0887\"],[0.1111111111111111,\"#46039f\"],[0.2222222222222222,\"#7201a8\"],[0.3333333333333333,\"#9c179e\"],[0.4444444444444444,\"#bd3786\"],[0.5555555555555556,\"#d8576b\"],[0.6666666666666666,\"#ed7953\"],[0.7777777777777778,\"#fb9f3a\"],[0.8888888888888888,\"#fdca26\"],[1.0,\"#f0f921\"]],\"type\":\"heatmapgl\"}],\"histogram\":[{\"marker\":{\"pattern\":{\"fillmode\":\"overlay\",\"size\":10,\"solidity\":0.2}},\"type\":\"histogram\"}],\"histogram2d\":[{\"colorbar\":{\"outlinewidth\":0,\"ticks\":\"\"},\"colorscale\":[[0.0,\"#0d0887\"],[0.1111111111111111,\"#46039f\"],[0.2222222222222222,\"#7201a8\"],[0.3333333333333333,\"#9c179e\"],[0.4444444444444444,\"#bd3786\"],[0.5555555555555556,\"#d8576b\"],[0.6666666666666666,\"#ed7953\"],[0.7777777777777778,\"#fb9f3a\"],[0.8888888888888888,\"#fdca26\"],[1.0,\"#f0f921\"]],\"type\":\"histogram2d\"}],\"histogram2dcontour\":[{\"colorbar\":{\"outlinewidth\":0,\"ticks\":\"\"},\"colorscale\":[[0.0,\"#0d0887\"],[0.1111111111111111,\"#46039f\"],[0.2222222222222222,\"#7201a8\"],[0.3333333333333333,\"#9c179e\"],[0.4444444444444444,\"#bd3786\"],[0.5555555555555556,\"#d8576b\"],[0.6666666666666666,\"#ed7953\"],[0.7777777777777778,\"#fb9f3a\"],[0.8888888888888888,\"#fdca26\"],[1.0,\"#f0f921\"]],\"type\":\"histogram2dcontour\"}],\"mesh3d\":[{\"colorbar\":{\"outlinewidth\":0,\"ticks\":\"\"},\"type\":\"mesh3d\"}],\"parcoords\":[{\"line\":{\"colorbar\":{\"outlinewidth\":0,\"ticks\":\"\"}},\"type\":\"parcoords\"}],\"pie\":[{\"automargin\":true,\"type\":\"pie\"}],\"scatter\":[{\"marker\":{\"colorbar\":{\"outlinewidth\":0,\"ticks\":\"\"}},\"type\":\"scatter\"}],\"scatter3d\":[{\"line\":{\"colorbar\":{\"outlinewidth\":0,\"ticks\":\"\"}},\"marker\":{\"colorbar\":{\"outlinewidth\":0,\"ticks\":\"\"}},\"type\":\"scatter3d\"}],\"scattercarpet\":[{\"marker\":{\"colorbar\":{\"outlinewidth\":0,\"ticks\":\"\"}},\"type\":\"scattercarpet\"}],\"scattergeo\":[{\"marker\":{\"colorbar\":{\"outlinewidth\":0,\"ticks\":\"\"}},\"type\":\"scattergeo\"}],\"scattergl\":[{\"marker\":{\"colorbar\":{\"outlinewidth\":0,\"ticks\":\"\"}},\"type\":\"scattergl\"}],\"scattermapbox\":[{\"marker\":{\"colorbar\":{\"outlinewidth\":0,\"ticks\":\"\"}},\"type\":\"scattermapbox\"}],\"scatterpolar\":[{\"marker\":{\"colorbar\":{\"outlinewidth\":0,\"ticks\":\"\"}},\"type\":\"scatterpolar\"}],\"scatterpolargl\":[{\"marker\":{\"colorbar\":{\"outlinewidth\":0,\"ticks\":\"\"}},\"type\":\"scatterpolargl\"}],\"scatterternary\":[{\"marker\":{\"colorbar\":{\"outlinewidth\":0,\"ticks\":\"\"}},\"type\":\"scatterternary\"}],\"surface\":[{\"colorbar\":{\"outlinewidth\":0,\"ticks\":\"\"},\"colorscale\":[[0.0,\"#0d0887\"],[0.1111111111111111,\"#46039f\"],[0.2222222222222222,\"#7201a8\"],[0.3333333333333333,\"#9c179e\"],[0.4444444444444444,\"#bd3786\"],[0.5555555555555556,\"#d8576b\"],[0.6666666666666666,\"#ed7953\"],[0.7777777777777778,\"#fb9f3a\"],[0.8888888888888888,\"#fdca26\"],[1.0,\"#f0f921\"]],\"type\":\"surface\"}],\"table\":[{\"cells\":{\"fill\":{\"color\":\"#EBF0F8\"},\"line\":{\"color\":\"white\"}},\"header\":{\"fill\":{\"color\":\"#C8D4E3\"},\"line\":{\"color\":\"white\"}},\"type\":\"table\"}]},\"layout\":{\"annotationdefaults\":{\"arrowcolor\":\"#2a3f5f\",\"arrowhead\":0,\"arrowwidth\":1},\"autotypenumbers\":\"strict\",\"coloraxis\":{\"colorbar\":{\"outlinewidth\":0,\"ticks\":\"\"}},\"colorscale\":{\"diverging\":[[0,\"#8e0152\"],[0.1,\"#c51b7d\"],[0.2,\"#de77ae\"],[0.3,\"#f1b6da\"],[0.4,\"#fde0ef\"],[0.5,\"#f7f7f7\"],[0.6,\"#e6f5d0\"],[0.7,\"#b8e186\"],[0.8,\"#7fbc41\"],[0.9,\"#4d9221\"],[1,\"#276419\"]],\"sequential\":[[0.0,\"#0d0887\"],[0.1111111111111111,\"#46039f\"],[0.2222222222222222,\"#7201a8\"],[0.3333333333333333,\"#9c179e\"],[0.4444444444444444,\"#bd3786\"],[0.5555555555555556,\"#d8576b\"],[0.6666666666666666,\"#ed7953\"],[0.7777777777777778,\"#fb9f3a\"],[0.8888888888888888,\"#fdca26\"],[1.0,\"#f0f921\"]],\"sequentialminus\":[[0.0,\"#0d0887\"],[0.1111111111111111,\"#46039f\"],[0.2222222222222222,\"#7201a8\"],[0.3333333333333333,\"#9c179e\"],[0.4444444444444444,\"#bd3786\"],[0.5555555555555556,\"#d8576b\"],[0.6666666666666666,\"#ed7953\"],[0.7777777777777778,\"#fb9f3a\"],[0.8888888888888888,\"#fdca26\"],[1.0,\"#f0f921\"]]},\"colorway\":[\"#636efa\",\"#EF553B\",\"#00cc96\",\"#ab63fa\",\"#FFA15A\",\"#19d3f3\",\"#FF6692\",\"#B6E880\",\"#FF97FF\",\"#FECB52\"],\"font\":{\"color\":\"#2a3f5f\"},\"geo\":{\"bgcolor\":\"white\",\"lakecolor\":\"white\",\"landcolor\":\"#E5ECF6\",\"showlakes\":true,\"showland\":true,\"subunitcolor\":\"white\"},\"hoverlabel\":{\"align\":\"left\"},\"hovermode\":\"closest\",\"mapbox\":{\"style\":\"light\"},\"paper_bgcolor\":\"white\",\"plot_bgcolor\":\"#E5ECF6\",\"polar\":{\"angularaxis\":{\"gridcolor\":\"white\",\"linecolor\":\"white\",\"ticks\":\"\"},\"bgcolor\":\"#E5ECF6\",\"radialaxis\":{\"gridcolor\":\"white\",\"linecolor\":\"white\",\"ticks\":\"\"}},\"scene\":{\"xaxis\":{\"backgroundcolor\":\"#E5ECF6\",\"gridcolor\":\"white\",\"gridwidth\":2,\"linecolor\":\"white\",\"showbackground\":true,\"ticks\":\"\",\"zerolinecolor\":\"white\"},\"yaxis\":{\"backgroundcolor\":\"#E5ECF6\",\"gridcolor\":\"white\",\"gridwidth\":2,\"linecolor\":\"white\",\"showbackground\":true,\"ticks\":\"\",\"zerolinecolor\":\"white\"},\"zaxis\":{\"backgroundcolor\":\"#E5ECF6\",\"gridcolor\":\"white\",\"gridwidth\":2,\"linecolor\":\"white\",\"showbackground\":true,\"ticks\":\"\",\"zerolinecolor\":\"white\"}},\"shapedefaults\":{\"line\":{\"color\":\"#2a3f5f\"}},\"ternary\":{\"aaxis\":{\"gridcolor\":\"white\",\"linecolor\":\"white\",\"ticks\":\"\"},\"baxis\":{\"gridcolor\":\"white\",\"linecolor\":\"white\",\"ticks\":\"\"},\"bgcolor\":\"#E5ECF6\",\"caxis\":{\"gridcolor\":\"white\",\"linecolor\":\"white\",\"ticks\":\"\"}},\"title\":{\"x\":0.05},\"xaxis\":{\"automargin\":true,\"gridcolor\":\"white\",\"linecolor\":\"white\",\"ticks\":\"\",\"title\":{\"standoff\":15},\"zerolinecolor\":\"white\",\"zerolinewidth\":2},\"yaxis\":{\"automargin\":true,\"gridcolor\":\"white\",\"linecolor\":\"white\",\"ticks\":\"\",\"title\":{\"standoff\":15},\"zerolinecolor\":\"white\",\"zerolinewidth\":2}}},\"xaxis\":{\"anchor\":\"y\",\"domain\":[0.0,1.0],\"title\":{\"text\":\"Data\"}},\"yaxis\":{\"anchor\":\"x\",\"domain\":[0.0,1.0],\"title\":{\"text\":\"Soybeans (CBT $/bu)\"}},\"legend\":{\"tracegroupgap\":0},\"margin\":{\"t\":60}},                        {\"responsive\": true}                    ).then(function(){\n",
              "                            \n",
              "var gd = document.getElementById('28a496e3-796e-4143-9777-f9fee3977cde');\n",
              "var x = new MutationObserver(function (mutations, observer) {{\n",
              "        var display = window.getComputedStyle(gd).display;\n",
              "        if (!display || display === 'none') {{\n",
              "            console.log([gd, 'removed!']);\n",
              "            Plotly.purge(gd);\n",
              "            observer.disconnect();\n",
              "        }}\n",
              "}});\n",
              "\n",
              "// Listen for the removal of the full notebook cells\n",
              "var notebookContainer = gd.closest('#notebook-container');\n",
              "if (notebookContainer) {{\n",
              "    x.observe(notebookContainer, {childList: true});\n",
              "}}\n",
              "\n",
              "// Listen for the clearing of the current output cell\n",
              "var outputEl = gd.closest('.output');\n",
              "if (outputEl) {{\n",
              "    x.observe(outputEl, {childList: true});\n",
              "}}\n",
              "\n",
              "                        })                };                            </script>        </div>\n",
              "</body>\n",
              "</html>"
            ]
          },
          "metadata": {},
          "output_type": "display_data"
        }
      ],
      "source": [
        "import plotly.express as px\n",
        "\n",
        "df = px.data.stocks()\n",
        "fig = px.line(Dataset, x='Data', y=\"Soybeans (CBT $/bu)\")\n",
        "fig.show()"
      ]
    },
    {
      "cell_type": "code",
      "execution_count": null,
      "metadata": {
        "id": "hZ_e2Aj5aUgq"
      },
      "outputs": [],
      "source": [
        "#rolmean = Dataset.rolling(window=20).mean()\n",
        "#rolmean"
      ]
    },
    {
      "cell_type": "code",
      "execution_count": null,
      "metadata": {
        "id": "8KdCDbAgahPW"
      },
      "outputs": [],
      "source": [
        "#Corn"
      ]
    },
    {
      "cell_type": "code",
      "execution_count": null,
      "metadata": {
        "colab": {
          "base_uri": "https://localhost:8080/",
          "height": 542
        },
        "id": "ISpW-GqQlpI-",
        "outputId": "ee78f5a5-2fe9-4953-88f3-08356e830f63"
      },
      "outputs": [
        {
          "data": {
            "text/html": [
              "<html>\n",
              "<head><meta charset=\"utf-8\" /></head>\n",
              "<body>\n",
              "    <div>            <script src=\"https://cdnjs.cloudflare.com/ajax/libs/mathjax/2.7.5/MathJax.js?config=TeX-AMS-MML_SVG\"></script><script type=\"text/javascript\">if (window.MathJax) {MathJax.Hub.Config({SVG: {font: \"STIX-Web\"}});}</script>                <script type=\"text/javascript\">window.PlotlyConfig = {MathJaxConfig: 'local'};</script>\n",
              "        <script src=\"https://cdn.plot.ly/plotly-2.8.3.min.js\"></script>                <div id=\"138aef05-5d32-4041-994a-c38f116cd1b5\" class=\"plotly-graph-div\" style=\"height:525px; width:100%;\"></div>            <script type=\"text/javascript\">                                    window.PLOTLYENV=window.PLOTLYENV || {};                                    if (document.getElementById(\"138aef05-5d32-4041-994a-c38f116cd1b5\")) {                    Plotly.newPlot(                        \"138aef05-5d32-4041-994a-c38f116cd1b5\",                        [{\"hovertemplate\":\"Data=%{x}<br>y=%{y}<extra></extra>\",\"legendgroup\":\"\",\"line\":{\"color\":\"#636efa\",\"dash\":\"solid\"},\"marker\":{\"symbol\":\"circle\"},\"mode\":\"lines\",\"name\":\"\",\"orientation\":\"v\",\"showlegend\":false,\"x\":[\"12-Jul-94\",\"11-ago-94\",\"12-set-94\",\"12-out-94\",\"9-Nov-94\",\"9-dez-94\",\"31-Jan-95\",\"12-fev-95\",\"12-Mar-95\",\"11-abr-95\",\"11-mai-95\",\"12-Jun-95\",\"12-Jul-95\",\"14-ago-95\",\"12-set-95\",\"11-out-95\",\"9-Nov-95\",\"12-dez-95\",\"16-Jan-96\",\"9-fev-96\",\"14-Mar-96\",\"11-abr-96\",\"10-mai-96\",\"12-Jun-96\",\"12-Jul-96\",\"12-ago-96\",\"11-set-96\",\"11-out-96\",\"12-Nov-96\",\"12-dez-96\",\"10-Jan-97\",\"12-fev-97\",\"11-Mar-97\",\"11-abr-97\",\"12-mai-97\",\"12-Jun-97\",\"11-Jul-97\",\"12-ago-97\",\"12-set-97\",\"10-out-97\",\"10-Nov-97\",\"11-dez-97\",\"13-Jan-98\",\"11-fev-98\",\"12-Mar-98\",\"9-abr-98\",\"12-mai-98\",\"12-Jun-98\",\"10-Jul-98\",\"12-ago-98\",\"11-set-98\",\"9-out-98\",\"10-Nov-98\",\"11-dez-98\",\"12-Jan-99\",\"10-fev-99\",\"11-Mar-99\",\"9-abr-99\",\"12-mai-99\",\"11-Jun-99\",\"12-Jul-99\",\"12-ago-99\",\"10-set-99\",\"8-out-99\",\"10-Nov-99\",\"10-dez-99\",\"12-Jan-00\",\"11-fev-00\",\"10-Mar-00\",\"1-abr-00\",\"12-mai-00\",\"9-Jun-00\",\"12-Jul-00\",\"11-ago-00\",\"12-set-00\",\"12-out-00\",\"9-Nov-00\",\"12-dez-00\",\"11-Jan-01\",\"8-fev-01\",\"8-Mar-01\",\"10-abr-01\",\"10-mai-01\",\"12-Jun-01\",\"11-Jul-01\",\"10-ago-01\",\"14-set-01\",\"12-out-01\",\"9-Nov-01\",\"11-dez-01\",\"11-Jan-02\",\"8-fev-02\",\"8-Mar-02\",\"10-abr-02\",\"10-mai-02\",\"12-Jun-02\",\"11-Jul-02\",\"12-ago-02\",\"12-set-02\",\"11-out-02\",\"12-Nov-02\",\"10-dez-02\",\"10-Jan-03\",\"11-fev-03\",\"11-Mar-03\",\"10-abr-03\",\"12-mai-03\",\"11-Jun-03\",\"11-Jul-03\",\"12-ago-03\",\"11-set-03\",\"10-out-03\",\"12-Nov-03\",\"11-dez-03\",\"12-Jan-04\",\"10-fev-04\",\"10-Mar-04\",\"8-abr-04\",\"12-mai-04\",\"10-Jun-04\",\"12-Jul-04\",\"12-ago-04\",\"10-set-04\",\"12-out-04\",\"12-Nov-04\",\"10-dez-04\",\"12-Jan-05\",\"9-fev-05\",\"10-Mar-05\",\"8-abr-05\",\"12-mai-05\",\"10-Jun-05\",\"12-Jul-05\",\"12-ago-05\",\"12-set-05\",\"12-out-05\",\"10-Nov-05\",\"9-dez-05\",\"12-Jan-06\",\"9-fev-06\",\"13-Mar-06\",\"10-abr-06\",\"12-mai-06\",\"9-Jun-06\",\"12-Jul-06\",\"11-ago-06\",\"12-set-06\",\"12-out-06\",\"9-Nov-06\",\"11-dez-06\",\"12-Jan-07\",\"9-fev-07\",\"9-Mar-07\",\"10-abr-07\",\"11-mai-07\",\"11-Jun-07\",\"12-Jul-07\",\"10-ago-07\",\"12-set-07\",\"12-out-07\",\"9-Nov-07\",\"11-dez-07\",\"11-Jan-08\",\"8-fev-08\",\"11-Mar-08\",\"9-abr-08\",\"9-mai-08\",\"10-Jun-08\",\"11-Jul-08\",\"12-ago-08\",\"12-set-08\",\"28-out-08\",\"10-Nov-08\",\"12-dez-08\",\"12-Jan-09\",\"10-fev-09\",\"11-Mar-09\",\"9-abr-09\",\"12-mai-09\",\"10-Jun-09\",\"10-Jul-09\",\"12-ago-09\",\"14-set-09\",\"9-out-09\",\"10-Nov-09\",\"10-dez-09\",\"12-Jan-10\",\"9-fev-10\",\"10-Mar-10\",\"9-abr-10\",\"11-mai-10\",\"10-Jun-10\",\"9-Jul-10\",\"12-ago-10\",\"10-set-10\",\"8-out-10\",\"9-Nov-10\",\"15-dez-10\",\"12-Jan-11\",\"9-fev-11\",\"10-Mar-11\",\"8-abr-11\",\"11-mai-11\",\"9-Jun-11\",\"12-Jul-11\",\"11-ago-11\",\"12-set-11\",\"12-out-11\",\"9-Nov-11\",\"9-dez-11\",\"12-Jan-12\",\"9-fev-12\",\"9-Mar-12\",\"10-abr-12\",\"10-mai-12\",\"12-Jun-12\",\"11-Jul-12\",\"10-ago-12\",\"12-set-12\",\"11-out-12\",\"9-Nov-12\",\"11-dez-12\",\"11-Jan-13\",\"8-fev-13\",\"8-Mar-13\",\"10-abr-13\",\"10-mai-13\",\"12-Jun-13\",\"11-Jul-13\",\"12-ago-13\",\"12-set-13\",\"10-out-13\",\"8-Nov-13\",\"10-dez-13\",\"23-Jan-14\",\"10-fev-14\",\"10-Mar-14\",\"9-abr-14\",\"9-mai-14\",\"11-Jun-14\",\"11-Jul-14\",\"12-ago-14\",\"11-set-14\",\"10-out-14\"],\"xaxis\":\"x\",\"y\":[5.442374419541463,5.390167020177915,5.391397789564048,5.375324702908821,5.373192901193144,5.4037128815933775,5.448460024977757,5.452668026377961,5.4877386604572145,5.515684265084792,5.550553592065519,5.608592287652452,5.657284680996621,5.645623560482669,5.7005104607857815,5.777218792729383,5.79264768778483,5.845310971696471,5.893245139601522,5.925912178867746,5.975131892487084,6.115693430247754,6.204153640518333,6.150048243723728,6.151987736440525,5.898142389876609,5.838866827480249,5.648234528023389,5.591882102157973,5.585749407744609,5.589530696763635,5.635824781472974,5.720082242069654,5.701446414858653,5.645234861030788,5.584135202390067,5.5389471388695215,5.570441540083868,5.577538748081951,5.63956390232955,5.620183450779887,5.58360908437718,5.601491317767735,5.594190798026107,5.583984911200605,5.516970852589382,5.494089721066114,5.489598664713463,5.440944764797792,5.329185990210503,5.298767265328402,5.3875637440622315,5.388432255990297,5.374213025551294,5.377867645306046,5.368822427433391,5.392945495626819,5.385137058500597,5.384311559714898,5.381784971789299,5.258484466046314,5.364011469743399,5.330784556685538,5.304547916298673,5.275611529012399,5.26857954828408,5.375880078495827,5.392262979390565,5.426930434016013,5.426886467342745,5.46247495271432,5.337153390333235,5.202081758667211,5.1834114380466785,5.23415210907225,5.318952980148108,5.350197988425026,5.383393538903156,5.391579997007726,5.353468211012885,5.35266349628815,5.327342045588653,5.277706412643912,5.2611864682098295,5.354886718035931,5.37975909513528,5.377174756625531,5.339603253453579,5.3234001469155,5.347726386805579,5.347297988769658,5.321105728178468,5.315960801720632,5.2921483774025075,5.32598117053051,5.356397577624562,5.447469861950477,5.558332720638098,5.5884838502927385,5.531094366830485,5.491455215775841,5.472648753450811,5.462559809942086,5.465905923739927,5.45168202325433,5.474914235205125,5.5045995607868345,5.478302863544443,5.375370995990328,5.395534817263396,5.434071287525657,5.418541863854405,5.4693251634417175,5.508497251470388,5.583684261042379,5.645234861030788,5.712048219073234,5.75650141898843,5.703815807433991,5.656655925910935,5.466032770952629,5.415211118019536,5.367936708428093,5.322912413403417,5.292751908075155,5.302608147965193,5.2982673652979955,5.299966006793561,5.364432768754897,5.336960990140241,5.340897814083155,5.4019564013075225,5.461625984160061,5.371381937405042,5.31900195774087,5.308564682999586,5.262120078236149,5.310147118301614,5.363636832668679,5.407799377165033,5.409814017561712,5.46717367238842,5.504721593857949,5.472816743035851,5.498396978263695,5.437122329425219,5.486289594850806,5.714590523372793,5.875295832733553,5.914313487919567,5.968886572094735,6.019833321158425,5.996476963931518,5.89098100852966,5.914934413118033,5.942746880310552,5.785976712282188,5.80175577188001,5.857047047721082,5.880141848463716,5.944294320131503,6.051500760552042,6.189392849281128,6.246126145138737,6.302197641574883,5.852338935981144,6.3934904144686335,6.5494933621821225,6.471047151134041,6.308681149662081,6.293622585350217,6.02255130764008,5.921122551676734,5.896934063261749,5.970470710603746,5.89150608073915,5.930918047239948,5.959354493189748,6.036820248828779,6.0221149863067405,5.806850364254143,5.790388213830379,5.772686453303412,5.91892073563227,5.966249297966918,5.981590963309683,5.957261225766484,5.893603616904096,5.896054362303324,5.8681380498206,5.897675709475578,5.848690573116527,5.9251644753507495,6.012761155897063,6.176511553155347,6.3017944601011076,6.312895659606137,6.374718128850926,6.455009866292671,6.538732990790509,6.5274607180159165,6.623201641204887,6.584183472833434,6.58027846198591,6.5245603395197005,6.570042272924791,6.539585955617669,6.449079249540903,6.438231534573252,6.401602055864906,6.445957886283501,6.462171054277145,6.478202375344883,6.453798212236851,6.4221749605721845,6.402232238306989,6.652475857637857,6.689026966141337,6.640189510115181,6.620233193731721,6.606852868359501,6.575494163132388,6.571582997369922,6.560464734925045,6.585840565567906,6.474662003756499,6.508784039990289,6.495658228075925,6.385379879265686,6.180368558600469,6.14714263128766,6.084863811366532,6.046733677375123,6.056151494729797,6.056456090615422,6.1029835602313,6.178835832534043,6.218321196334075,6.190766123936621,6.101820066935569,5.952619763284415,5.884296843914452,5.818508992064351,5.85624601778267],\"yaxis\":\"y\",\"type\":\"scatter\"}],                        {\"template\":{\"data\":{\"bar\":[{\"error_x\":{\"color\":\"#2a3f5f\"},\"error_y\":{\"color\":\"#2a3f5f\"},\"marker\":{\"line\":{\"color\":\"#E5ECF6\",\"width\":0.5},\"pattern\":{\"fillmode\":\"overlay\",\"size\":10,\"solidity\":0.2}},\"type\":\"bar\"}],\"barpolar\":[{\"marker\":{\"line\":{\"color\":\"#E5ECF6\",\"width\":0.5},\"pattern\":{\"fillmode\":\"overlay\",\"size\":10,\"solidity\":0.2}},\"type\":\"barpolar\"}],\"carpet\":[{\"aaxis\":{\"endlinecolor\":\"#2a3f5f\",\"gridcolor\":\"white\",\"linecolor\":\"white\",\"minorgridcolor\":\"white\",\"startlinecolor\":\"#2a3f5f\"},\"baxis\":{\"endlinecolor\":\"#2a3f5f\",\"gridcolor\":\"white\",\"linecolor\":\"white\",\"minorgridcolor\":\"white\",\"startlinecolor\":\"#2a3f5f\"},\"type\":\"carpet\"}],\"choropleth\":[{\"colorbar\":{\"outlinewidth\":0,\"ticks\":\"\"},\"type\":\"choropleth\"}],\"contour\":[{\"colorbar\":{\"outlinewidth\":0,\"ticks\":\"\"},\"colorscale\":[[0.0,\"#0d0887\"],[0.1111111111111111,\"#46039f\"],[0.2222222222222222,\"#7201a8\"],[0.3333333333333333,\"#9c179e\"],[0.4444444444444444,\"#bd3786\"],[0.5555555555555556,\"#d8576b\"],[0.6666666666666666,\"#ed7953\"],[0.7777777777777778,\"#fb9f3a\"],[0.8888888888888888,\"#fdca26\"],[1.0,\"#f0f921\"]],\"type\":\"contour\"}],\"contourcarpet\":[{\"colorbar\":{\"outlinewidth\":0,\"ticks\":\"\"},\"type\":\"contourcarpet\"}],\"heatmap\":[{\"colorbar\":{\"outlinewidth\":0,\"ticks\":\"\"},\"colorscale\":[[0.0,\"#0d0887\"],[0.1111111111111111,\"#46039f\"],[0.2222222222222222,\"#7201a8\"],[0.3333333333333333,\"#9c179e\"],[0.4444444444444444,\"#bd3786\"],[0.5555555555555556,\"#d8576b\"],[0.6666666666666666,\"#ed7953\"],[0.7777777777777778,\"#fb9f3a\"],[0.8888888888888888,\"#fdca26\"],[1.0,\"#f0f921\"]],\"type\":\"heatmap\"}],\"heatmapgl\":[{\"colorbar\":{\"outlinewidth\":0,\"ticks\":\"\"},\"colorscale\":[[0.0,\"#0d0887\"],[0.1111111111111111,\"#46039f\"],[0.2222222222222222,\"#7201a8\"],[0.3333333333333333,\"#9c179e\"],[0.4444444444444444,\"#bd3786\"],[0.5555555555555556,\"#d8576b\"],[0.6666666666666666,\"#ed7953\"],[0.7777777777777778,\"#fb9f3a\"],[0.8888888888888888,\"#fdca26\"],[1.0,\"#f0f921\"]],\"type\":\"heatmapgl\"}],\"histogram\":[{\"marker\":{\"pattern\":{\"fillmode\":\"overlay\",\"size\":10,\"solidity\":0.2}},\"type\":\"histogram\"}],\"histogram2d\":[{\"colorbar\":{\"outlinewidth\":0,\"ticks\":\"\"},\"colorscale\":[[0.0,\"#0d0887\"],[0.1111111111111111,\"#46039f\"],[0.2222222222222222,\"#7201a8\"],[0.3333333333333333,\"#9c179e\"],[0.4444444444444444,\"#bd3786\"],[0.5555555555555556,\"#d8576b\"],[0.6666666666666666,\"#ed7953\"],[0.7777777777777778,\"#fb9f3a\"],[0.8888888888888888,\"#fdca26\"],[1.0,\"#f0f921\"]],\"type\":\"histogram2d\"}],\"histogram2dcontour\":[{\"colorbar\":{\"outlinewidth\":0,\"ticks\":\"\"},\"colorscale\":[[0.0,\"#0d0887\"],[0.1111111111111111,\"#46039f\"],[0.2222222222222222,\"#7201a8\"],[0.3333333333333333,\"#9c179e\"],[0.4444444444444444,\"#bd3786\"],[0.5555555555555556,\"#d8576b\"],[0.6666666666666666,\"#ed7953\"],[0.7777777777777778,\"#fb9f3a\"],[0.8888888888888888,\"#fdca26\"],[1.0,\"#f0f921\"]],\"type\":\"histogram2dcontour\"}],\"mesh3d\":[{\"colorbar\":{\"outlinewidth\":0,\"ticks\":\"\"},\"type\":\"mesh3d\"}],\"parcoords\":[{\"line\":{\"colorbar\":{\"outlinewidth\":0,\"ticks\":\"\"}},\"type\":\"parcoords\"}],\"pie\":[{\"automargin\":true,\"type\":\"pie\"}],\"scatter\":[{\"marker\":{\"colorbar\":{\"outlinewidth\":0,\"ticks\":\"\"}},\"type\":\"scatter\"}],\"scatter3d\":[{\"line\":{\"colorbar\":{\"outlinewidth\":0,\"ticks\":\"\"}},\"marker\":{\"colorbar\":{\"outlinewidth\":0,\"ticks\":\"\"}},\"type\":\"scatter3d\"}],\"scattercarpet\":[{\"marker\":{\"colorbar\":{\"outlinewidth\":0,\"ticks\":\"\"}},\"type\":\"scattercarpet\"}],\"scattergeo\":[{\"marker\":{\"colorbar\":{\"outlinewidth\":0,\"ticks\":\"\"}},\"type\":\"scattergeo\"}],\"scattergl\":[{\"marker\":{\"colorbar\":{\"outlinewidth\":0,\"ticks\":\"\"}},\"type\":\"scattergl\"}],\"scattermapbox\":[{\"marker\":{\"colorbar\":{\"outlinewidth\":0,\"ticks\":\"\"}},\"type\":\"scattermapbox\"}],\"scatterpolar\":[{\"marker\":{\"colorbar\":{\"outlinewidth\":0,\"ticks\":\"\"}},\"type\":\"scatterpolar\"}],\"scatterpolargl\":[{\"marker\":{\"colorbar\":{\"outlinewidth\":0,\"ticks\":\"\"}},\"type\":\"scatterpolargl\"}],\"scatterternary\":[{\"marker\":{\"colorbar\":{\"outlinewidth\":0,\"ticks\":\"\"}},\"type\":\"scatterternary\"}],\"surface\":[{\"colorbar\":{\"outlinewidth\":0,\"ticks\":\"\"},\"colorscale\":[[0.0,\"#0d0887\"],[0.1111111111111111,\"#46039f\"],[0.2222222222222222,\"#7201a8\"],[0.3333333333333333,\"#9c179e\"],[0.4444444444444444,\"#bd3786\"],[0.5555555555555556,\"#d8576b\"],[0.6666666666666666,\"#ed7953\"],[0.7777777777777778,\"#fb9f3a\"],[0.8888888888888888,\"#fdca26\"],[1.0,\"#f0f921\"]],\"type\":\"surface\"}],\"table\":[{\"cells\":{\"fill\":{\"color\":\"#EBF0F8\"},\"line\":{\"color\":\"white\"}},\"header\":{\"fill\":{\"color\":\"#C8D4E3\"},\"line\":{\"color\":\"white\"}},\"type\":\"table\"}]},\"layout\":{\"annotationdefaults\":{\"arrowcolor\":\"#2a3f5f\",\"arrowhead\":0,\"arrowwidth\":1},\"autotypenumbers\":\"strict\",\"coloraxis\":{\"colorbar\":{\"outlinewidth\":0,\"ticks\":\"\"}},\"colorscale\":{\"diverging\":[[0,\"#8e0152\"],[0.1,\"#c51b7d\"],[0.2,\"#de77ae\"],[0.3,\"#f1b6da\"],[0.4,\"#fde0ef\"],[0.5,\"#f7f7f7\"],[0.6,\"#e6f5d0\"],[0.7,\"#b8e186\"],[0.8,\"#7fbc41\"],[0.9,\"#4d9221\"],[1,\"#276419\"]],\"sequential\":[[0.0,\"#0d0887\"],[0.1111111111111111,\"#46039f\"],[0.2222222222222222,\"#7201a8\"],[0.3333333333333333,\"#9c179e\"],[0.4444444444444444,\"#bd3786\"],[0.5555555555555556,\"#d8576b\"],[0.6666666666666666,\"#ed7953\"],[0.7777777777777778,\"#fb9f3a\"],[0.8888888888888888,\"#fdca26\"],[1.0,\"#f0f921\"]],\"sequentialminus\":[[0.0,\"#0d0887\"],[0.1111111111111111,\"#46039f\"],[0.2222222222222222,\"#7201a8\"],[0.3333333333333333,\"#9c179e\"],[0.4444444444444444,\"#bd3786\"],[0.5555555555555556,\"#d8576b\"],[0.6666666666666666,\"#ed7953\"],[0.7777777777777778,\"#fb9f3a\"],[0.8888888888888888,\"#fdca26\"],[1.0,\"#f0f921\"]]},\"colorway\":[\"#636efa\",\"#EF553B\",\"#00cc96\",\"#ab63fa\",\"#FFA15A\",\"#19d3f3\",\"#FF6692\",\"#B6E880\",\"#FF97FF\",\"#FECB52\"],\"font\":{\"color\":\"#2a3f5f\"},\"geo\":{\"bgcolor\":\"white\",\"lakecolor\":\"white\",\"landcolor\":\"#E5ECF6\",\"showlakes\":true,\"showland\":true,\"subunitcolor\":\"white\"},\"hoverlabel\":{\"align\":\"left\"},\"hovermode\":\"closest\",\"mapbox\":{\"style\":\"light\"},\"paper_bgcolor\":\"white\",\"plot_bgcolor\":\"#E5ECF6\",\"polar\":{\"angularaxis\":{\"gridcolor\":\"white\",\"linecolor\":\"white\",\"ticks\":\"\"},\"bgcolor\":\"#E5ECF6\",\"radialaxis\":{\"gridcolor\":\"white\",\"linecolor\":\"white\",\"ticks\":\"\"}},\"scene\":{\"xaxis\":{\"backgroundcolor\":\"#E5ECF6\",\"gridcolor\":\"white\",\"gridwidth\":2,\"linecolor\":\"white\",\"showbackground\":true,\"ticks\":\"\",\"zerolinecolor\":\"white\"},\"yaxis\":{\"backgroundcolor\":\"#E5ECF6\",\"gridcolor\":\"white\",\"gridwidth\":2,\"linecolor\":\"white\",\"showbackground\":true,\"ticks\":\"\",\"zerolinecolor\":\"white\"},\"zaxis\":{\"backgroundcolor\":\"#E5ECF6\",\"gridcolor\":\"white\",\"gridwidth\":2,\"linecolor\":\"white\",\"showbackground\":true,\"ticks\":\"\",\"zerolinecolor\":\"white\"}},\"shapedefaults\":{\"line\":{\"color\":\"#2a3f5f\"}},\"ternary\":{\"aaxis\":{\"gridcolor\":\"white\",\"linecolor\":\"white\",\"ticks\":\"\"},\"baxis\":{\"gridcolor\":\"white\",\"linecolor\":\"white\",\"ticks\":\"\"},\"bgcolor\":\"#E5ECF6\",\"caxis\":{\"gridcolor\":\"white\",\"linecolor\":\"white\",\"ticks\":\"\"}},\"title\":{\"x\":0.05},\"xaxis\":{\"automargin\":true,\"gridcolor\":\"white\",\"linecolor\":\"white\",\"ticks\":\"\",\"title\":{\"standoff\":15},\"zerolinecolor\":\"white\",\"zerolinewidth\":2},\"yaxis\":{\"automargin\":true,\"gridcolor\":\"white\",\"linecolor\":\"white\",\"ticks\":\"\",\"title\":{\"standoff\":15},\"zerolinecolor\":\"white\",\"zerolinewidth\":2}}},\"xaxis\":{\"anchor\":\"y\",\"domain\":[0.0,1.0],\"title\":{\"text\":\"Data\"}},\"yaxis\":{\"anchor\":\"x\",\"domain\":[0.0,1.0],\"title\":{\"text\":\"y\"}},\"legend\":{\"tracegroupgap\":0},\"margin\":{\"t\":60}},                        {\"responsive\": true}                    ).then(function(){\n",
              "                            \n",
              "var gd = document.getElementById('138aef05-5d32-4041-994a-c38f116cd1b5');\n",
              "var x = new MutationObserver(function (mutations, observer) {{\n",
              "        var display = window.getComputedStyle(gd).display;\n",
              "        if (!display || display === 'none') {{\n",
              "            console.log([gd, 'removed!']);\n",
              "            Plotly.purge(gd);\n",
              "            observer.disconnect();\n",
              "        }}\n",
              "}});\n",
              "\n",
              "// Listen for the removal of the full notebook cells\n",
              "var notebookContainer = gd.closest('#notebook-container');\n",
              "if (notebookContainer) {{\n",
              "    x.observe(notebookContainer, {childList: true});\n",
              "}}\n",
              "\n",
              "// Listen for the clearing of the current output cell\n",
              "var outputEl = gd.closest('.output');\n",
              "if (outputEl) {{\n",
              "    x.observe(outputEl, {childList: true});\n",
              "}}\n",
              "\n",
              "                        })                };                            </script>        </div>\n",
              "</body>\n",
              "</html>"
            ]
          },
          "metadata": {},
          "output_type": "display_data"
        }
      ],
      "source": [
        "indexdDataset_logCorn = np.log(Dataset['Corn (CBT $/bu)'])\n",
        "df = px.data.stocks()\n",
        "fig = px.line(Dataset, x='Data', y=indexdDataset_logCorn)\n",
        "fig.show()"
      ]
    },
    {
      "cell_type": "code",
      "execution_count": null,
      "metadata": {
        "id": "f_vD17j0av1t"
      },
      "outputs": [],
      "source": [
        "#Transformação Logarítima"
      ]
    },
    {
      "cell_type": "code",
      "execution_count": null,
      "metadata": {
        "id": "UCC-J8QlcnAx"
      },
      "outputs": [],
      "source": [
        "#Soybeans"
      ]
    },
    {
      "cell_type": "code",
      "execution_count": null,
      "metadata": {
        "colab": {
          "base_uri": "https://localhost:8080/",
          "height": 542
        },
        "id": "TOgdC0DRVmse",
        "outputId": "df820549-4b26-4081-fed5-8628eda381fe"
      },
      "outputs": [
        {
          "data": {
            "text/html": [
              "<html>\n",
              "<head><meta charset=\"utf-8\" /></head>\n",
              "<body>\n",
              "    <div>            <script src=\"https://cdnjs.cloudflare.com/ajax/libs/mathjax/2.7.5/MathJax.js?config=TeX-AMS-MML_SVG\"></script><script type=\"text/javascript\">if (window.MathJax) {MathJax.Hub.Config({SVG: {font: \"STIX-Web\"}});}</script>                <script type=\"text/javascript\">window.PlotlyConfig = {MathJaxConfig: 'local'};</script>\n",
              "        <script src=\"https://cdn.plot.ly/plotly-2.8.3.min.js\"></script>                <div id=\"04b74afe-b281-4c6a-971d-9cce06eb705c\" class=\"plotly-graph-div\" style=\"height:525px; width:100%;\"></div>            <script type=\"text/javascript\">                                    window.PLOTLYENV=window.PLOTLYENV || {};                                    if (document.getElementById(\"04b74afe-b281-4c6a-971d-9cce06eb705c\")) {                    Plotly.newPlot(                        \"04b74afe-b281-4c6a-971d-9cce06eb705c\",                        [{\"hovertemplate\":\"Data=%{x}<br>y=%{y}<extra></extra>\",\"legendgroup\":\"\",\"line\":{\"color\":\"#636efa\",\"dash\":\"solid\"},\"marker\":{\"symbol\":\"circle\"},\"mode\":\"lines\",\"name\":\"\",\"orientation\":\"v\",\"showlegend\":false,\"x\":[\"12-Jul-94\",\"11-ago-94\",\"12-set-94\",\"12-out-94\",\"9-Nov-94\",\"9-dez-94\",\"31-Jan-95\",\"12-fev-95\",\"12-Mar-95\",\"11-abr-95\",\"11-mai-95\",\"12-Jun-95\",\"12-Jul-95\",\"14-ago-95\",\"12-set-95\",\"11-out-95\",\"9-Nov-95\",\"12-dez-95\",\"16-Jan-96\",\"9-fev-96\",\"14-Mar-96\",\"11-abr-96\",\"10-mai-96\",\"12-Jun-96\",\"12-Jul-96\",\"12-ago-96\",\"11-set-96\",\"11-out-96\",\"12-Nov-96\",\"12-dez-96\",\"10-Jan-97\",\"12-fev-97\",\"11-Mar-97\",\"11-abr-97\",\"12-mai-97\",\"12-Jun-97\",\"11-Jul-97\",\"12-ago-97\",\"12-set-97\",\"10-out-97\",\"10-Nov-97\",\"11-dez-97\",\"13-Jan-98\",\"11-fev-98\",\"12-Mar-98\",\"9-abr-98\",\"12-mai-98\",\"12-Jun-98\",\"10-Jul-98\",\"12-ago-98\",\"11-set-98\",\"9-out-98\",\"10-Nov-98\",\"11-dez-98\",\"12-Jan-99\",\"10-fev-99\",\"11-Mar-99\",\"9-abr-99\",\"12-mai-99\",\"11-Jun-99\",\"12-Jul-99\",\"12-ago-99\",\"10-set-99\",\"8-out-99\",\"10-Nov-99\",\"10-dez-99\",\"12-Jan-00\",\"11-fev-00\",\"10-Mar-00\",\"1-abr-00\",\"12-mai-00\",\"9-Jun-00\",\"12-Jul-00\",\"11-ago-00\",\"12-set-00\",\"12-out-00\",\"9-Nov-00\",\"12-dez-00\",\"11-Jan-01\",\"8-fev-01\",\"8-Mar-01\",\"10-abr-01\",\"10-mai-01\",\"12-Jun-01\",\"11-Jul-01\",\"10-ago-01\",\"14-set-01\",\"12-out-01\",\"9-Nov-01\",\"11-dez-01\",\"11-Jan-02\",\"8-fev-02\",\"8-Mar-02\",\"10-abr-02\",\"10-mai-02\",\"12-Jun-02\",\"11-Jul-02\",\"12-ago-02\",\"12-set-02\",\"11-out-02\",\"12-Nov-02\",\"10-dez-02\",\"10-Jan-03\",\"11-fev-03\",\"11-Mar-03\",\"10-abr-03\",\"12-mai-03\",\"11-Jun-03\",\"11-Jul-03\",\"12-ago-03\",\"11-set-03\",\"10-out-03\",\"12-Nov-03\",\"11-dez-03\",\"12-Jan-04\",\"10-fev-04\",\"10-Mar-04\",\"8-abr-04\",\"12-mai-04\",\"10-Jun-04\",\"12-Jul-04\",\"12-ago-04\",\"10-set-04\",\"12-out-04\",\"12-Nov-04\",\"10-dez-04\",\"12-Jan-05\",\"9-fev-05\",\"10-Mar-05\",\"8-abr-05\",\"12-mai-05\",\"10-Jun-05\",\"12-Jul-05\",\"12-ago-05\",\"12-set-05\",\"12-out-05\",\"10-Nov-05\",\"9-dez-05\",\"12-Jan-06\",\"9-fev-06\",\"13-Mar-06\",\"10-abr-06\",\"12-mai-06\",\"9-Jun-06\",\"12-Jul-06\",\"11-ago-06\",\"12-set-06\",\"12-out-06\",\"9-Nov-06\",\"11-dez-06\",\"12-Jan-07\",\"9-fev-07\",\"9-Mar-07\",\"10-abr-07\",\"11-mai-07\",\"11-Jun-07\",\"12-Jul-07\",\"10-ago-07\",\"12-set-07\",\"12-out-07\",\"9-Nov-07\",\"11-dez-07\",\"11-Jan-08\",\"8-fev-08\",\"11-Mar-08\",\"9-abr-08\",\"9-mai-08\",\"10-Jun-08\",\"11-Jul-08\",\"12-ago-08\",\"12-set-08\",\"28-out-08\",\"10-Nov-08\",\"12-dez-08\",\"12-Jan-09\",\"10-fev-09\",\"11-Mar-09\",\"9-abr-09\",\"12-mai-09\",\"10-Jun-09\",\"10-Jul-09\",\"12-ago-09\",\"14-set-09\",\"9-out-09\",\"10-Nov-09\",\"10-dez-09\",\"12-Jan-10\",\"9-fev-10\",\"10-Mar-10\",\"9-abr-10\",\"11-mai-10\",\"10-Jun-10\",\"9-Jul-10\",\"12-ago-10\",\"10-set-10\",\"8-out-10\",\"9-Nov-10\",\"15-dez-10\",\"12-Jan-11\",\"9-fev-11\",\"10-Mar-11\",\"8-abr-11\",\"11-mai-11\",\"9-Jun-11\",\"12-Jul-11\",\"11-ago-11\",\"12-set-11\",\"12-out-11\",\"9-Nov-11\",\"9-dez-11\",\"12-Jan-12\",\"9-fev-12\",\"9-Mar-12\",\"10-abr-12\",\"10-mai-12\",\"12-Jun-12\",\"11-Jul-12\",\"10-ago-12\",\"12-set-12\",\"11-out-12\",\"9-Nov-12\",\"11-dez-12\",\"11-Jan-13\",\"8-fev-13\",\"8-Mar-13\",\"10-abr-13\",\"10-mai-13\",\"12-Jun-13\",\"11-Jul-13\",\"12-ago-13\",\"12-set-13\",\"10-out-13\",\"8-Nov-13\",\"10-dez-13\",\"23-Jan-14\",\"10-fev-14\",\"10-Mar-14\",\"9-abr-14\",\"9-mai-14\",\"11-Jun-14\",\"11-Jul-14\",\"12-ago-14\",\"11-set-14\",\"10-out-14\"],\"xaxis\":\"x\",\"y\":[6.4121794504230225,6.367586663019273,6.339318197590887,6.292920078481128,6.3265071909196005,6.331306101198798,6.311843696146471,6.317597805934016,6.345039691628857,6.354300473160187,6.358240800601035,6.3794104189972085,6.423311896490265,6.389854686544183,6.449253251993195,6.485871112845677,6.521769216411457,6.577652712868601,6.5999657327732155,6.593071931027413,6.583768770238365,6.6709690886267685,6.689972333910023,6.652191836411816,6.666358649200617,6.692480686046623,6.696774954793733,6.561030665896573,6.544904158814502,6.551308880353507,6.590149937878998,6.637703541466492,6.725573712389097,6.7484429674910285,6.767124459242344,6.720690490830987,6.6375856316149875,6.590589468138117,6.541361834458381,6.525601341908314,6.58235749362917,6.540380437621107,6.506351910828644,6.512651308423623,6.482296625354069,6.460530236625741,6.464977635989993,6.444083560809433,6.450138613547289,6.310590779319685,6.265282201150146,6.3032231887758385,6.347739411025374,6.322888347506968,6.274950327428353,6.192546521619673,6.165837934052762,6.180244370994232,6.144872093737295,6.1369708286950395,6.065597518949209,6.148575127817754,6.197787420691848,6.183860189473411,6.14382076070048,6.137035670427201,6.195649514820894,6.226378554021108,6.25319399473728,6.2848615084298665,6.302802109158108,6.231996048023419,6.13469871519389,6.124223766683616,6.19670885853436,6.157974252854599,6.179146710144033,6.22707012381324,6.170551712225272,6.121571332453198,6.103251866549288,6.067893039057554,6.100341373293369,6.138245278316177,6.228649061121947,6.209173356932146,6.150815965334412,6.080253509922041,6.092937516038615,6.077091633075419,6.076173275034936,6.077619307306189,6.1310090745458785,6.144850649005728,6.176199855125872,6.223468726854389,6.3429485413496325,6.3397241814453675,6.339035676797244,6.2999046726442725,6.349715748100583,6.34076486521555,6.341240749355558,6.3466884387794,6.349366238284537,6.403971470005192,6.449411409771724,6.438311492994916,6.370619902425785,6.33979477051115,6.444083560809433,6.595876137804507,6.633976111699347,6.64668917154408,6.707253458148752,6.756804474090014,6.889183893396702,6.896936971546258,6.846337217475666,6.770238813635364,6.678995988882291,6.42080892900609,6.335515138181274,6.266137364966123,6.28018982523146,6.293844327132821,6.27844637444537,6.288768926321882,6.4526166166304,6.433904258007508,6.456534149035768,6.541462805948445,6.5348638413054605,6.441137909880466,6.358760389098643,6.353848165513696,6.351635871578385,6.380817210812198,6.3673806862595885,6.370414549560391,6.361147025076374,6.342579060466065,6.382069792309123,6.37881659978922,6.383084248394093,6.3185536134386355,6.295708707858741,6.385177535449128,6.49904992694902,6.4953410817857655,6.545665702341906,6.6296406257984115,6.625074014951731,6.602669300001818,6.6497355632804975,6.714376819309962,6.748782993875661,6.734567878477328,6.848015890231269,6.882857895427622,6.965910973150485,7.049992416402622,7.134412649596143,7.231786156141617,7.2021323895664136,7.1807855359015536,7.195007258957407,7.315604210191609,7.32294627031474,7.156207838241916,7.078687219648618,6.826566915295296,6.797136518509772,6.768217311522724,6.90065009685209,6.835324361324533,6.811321468140831,6.926164779464886,7.047734589035578,7.099523739601103,6.99426319592369,7.014814351275545,6.85695659909477,6.872936065003859,6.918764455001449,6.938148684301931,6.887348469204475,6.844133670684812,6.856125085745279,6.8792632075808875,6.8558091399589465,6.854881789375069,6.915227293820838,6.939961060318355,6.9665617784270575,7.0583969522980174,7.13245761476034,7.183870715062453,7.238310041839313,7.23871233491524,7.2132895484652515,7.2192905874560775,7.214084900118871,7.2153576188690485,7.217942206773987,7.21865326448392,7.2008576351194495,7.101560643717377,7.060519283533766,7.04235609956468,7.090168498241626,7.136236559240827,7.208363448320052,7.272759438496232,7.255711323544635,7.259503104584313,7.411387089207857,7.435609096625506,7.425810704632811,7.3389596062684195,7.278449492127982,7.282561847025398,7.266128779556451,7.284827771255645,7.283716050032169,7.2507703502170955,7.296853849670004,7.329421766428309,7.310770722443709,7.21190353663921,7.224155995015752,7.159937108739367,7.168849506524821,7.1930169245627,7.1680944173421945,7.208851971730779,7.25886979234022,7.30675285092727,7.3047849082692,7.27030592711257,7.14380715819706,7.071904379029589,6.915465478852035,6.871744608125743],\"yaxis\":\"y\",\"type\":\"scatter\"}],                        {\"template\":{\"data\":{\"bar\":[{\"error_x\":{\"color\":\"#2a3f5f\"},\"error_y\":{\"color\":\"#2a3f5f\"},\"marker\":{\"line\":{\"color\":\"#E5ECF6\",\"width\":0.5},\"pattern\":{\"fillmode\":\"overlay\",\"size\":10,\"solidity\":0.2}},\"type\":\"bar\"}],\"barpolar\":[{\"marker\":{\"line\":{\"color\":\"#E5ECF6\",\"width\":0.5},\"pattern\":{\"fillmode\":\"overlay\",\"size\":10,\"solidity\":0.2}},\"type\":\"barpolar\"}],\"carpet\":[{\"aaxis\":{\"endlinecolor\":\"#2a3f5f\",\"gridcolor\":\"white\",\"linecolor\":\"white\",\"minorgridcolor\":\"white\",\"startlinecolor\":\"#2a3f5f\"},\"baxis\":{\"endlinecolor\":\"#2a3f5f\",\"gridcolor\":\"white\",\"linecolor\":\"white\",\"minorgridcolor\":\"white\",\"startlinecolor\":\"#2a3f5f\"},\"type\":\"carpet\"}],\"choropleth\":[{\"colorbar\":{\"outlinewidth\":0,\"ticks\":\"\"},\"type\":\"choropleth\"}],\"contour\":[{\"colorbar\":{\"outlinewidth\":0,\"ticks\":\"\"},\"colorscale\":[[0.0,\"#0d0887\"],[0.1111111111111111,\"#46039f\"],[0.2222222222222222,\"#7201a8\"],[0.3333333333333333,\"#9c179e\"],[0.4444444444444444,\"#bd3786\"],[0.5555555555555556,\"#d8576b\"],[0.6666666666666666,\"#ed7953\"],[0.7777777777777778,\"#fb9f3a\"],[0.8888888888888888,\"#fdca26\"],[1.0,\"#f0f921\"]],\"type\":\"contour\"}],\"contourcarpet\":[{\"colorbar\":{\"outlinewidth\":0,\"ticks\":\"\"},\"type\":\"contourcarpet\"}],\"heatmap\":[{\"colorbar\":{\"outlinewidth\":0,\"ticks\":\"\"},\"colorscale\":[[0.0,\"#0d0887\"],[0.1111111111111111,\"#46039f\"],[0.2222222222222222,\"#7201a8\"],[0.3333333333333333,\"#9c179e\"],[0.4444444444444444,\"#bd3786\"],[0.5555555555555556,\"#d8576b\"],[0.6666666666666666,\"#ed7953\"],[0.7777777777777778,\"#fb9f3a\"],[0.8888888888888888,\"#fdca26\"],[1.0,\"#f0f921\"]],\"type\":\"heatmap\"}],\"heatmapgl\":[{\"colorbar\":{\"outlinewidth\":0,\"ticks\":\"\"},\"colorscale\":[[0.0,\"#0d0887\"],[0.1111111111111111,\"#46039f\"],[0.2222222222222222,\"#7201a8\"],[0.3333333333333333,\"#9c179e\"],[0.4444444444444444,\"#bd3786\"],[0.5555555555555556,\"#d8576b\"],[0.6666666666666666,\"#ed7953\"],[0.7777777777777778,\"#fb9f3a\"],[0.8888888888888888,\"#fdca26\"],[1.0,\"#f0f921\"]],\"type\":\"heatmapgl\"}],\"histogram\":[{\"marker\":{\"pattern\":{\"fillmode\":\"overlay\",\"size\":10,\"solidity\":0.2}},\"type\":\"histogram\"}],\"histogram2d\":[{\"colorbar\":{\"outlinewidth\":0,\"ticks\":\"\"},\"colorscale\":[[0.0,\"#0d0887\"],[0.1111111111111111,\"#46039f\"],[0.2222222222222222,\"#7201a8\"],[0.3333333333333333,\"#9c179e\"],[0.4444444444444444,\"#bd3786\"],[0.5555555555555556,\"#d8576b\"],[0.6666666666666666,\"#ed7953\"],[0.7777777777777778,\"#fb9f3a\"],[0.8888888888888888,\"#fdca26\"],[1.0,\"#f0f921\"]],\"type\":\"histogram2d\"}],\"histogram2dcontour\":[{\"colorbar\":{\"outlinewidth\":0,\"ticks\":\"\"},\"colorscale\":[[0.0,\"#0d0887\"],[0.1111111111111111,\"#46039f\"],[0.2222222222222222,\"#7201a8\"],[0.3333333333333333,\"#9c179e\"],[0.4444444444444444,\"#bd3786\"],[0.5555555555555556,\"#d8576b\"],[0.6666666666666666,\"#ed7953\"],[0.7777777777777778,\"#fb9f3a\"],[0.8888888888888888,\"#fdca26\"],[1.0,\"#f0f921\"]],\"type\":\"histogram2dcontour\"}],\"mesh3d\":[{\"colorbar\":{\"outlinewidth\":0,\"ticks\":\"\"},\"type\":\"mesh3d\"}],\"parcoords\":[{\"line\":{\"colorbar\":{\"outlinewidth\":0,\"ticks\":\"\"}},\"type\":\"parcoords\"}],\"pie\":[{\"automargin\":true,\"type\":\"pie\"}],\"scatter\":[{\"marker\":{\"colorbar\":{\"outlinewidth\":0,\"ticks\":\"\"}},\"type\":\"scatter\"}],\"scatter3d\":[{\"line\":{\"colorbar\":{\"outlinewidth\":0,\"ticks\":\"\"}},\"marker\":{\"colorbar\":{\"outlinewidth\":0,\"ticks\":\"\"}},\"type\":\"scatter3d\"}],\"scattercarpet\":[{\"marker\":{\"colorbar\":{\"outlinewidth\":0,\"ticks\":\"\"}},\"type\":\"scattercarpet\"}],\"scattergeo\":[{\"marker\":{\"colorbar\":{\"outlinewidth\":0,\"ticks\":\"\"}},\"type\":\"scattergeo\"}],\"scattergl\":[{\"marker\":{\"colorbar\":{\"outlinewidth\":0,\"ticks\":\"\"}},\"type\":\"scattergl\"}],\"scattermapbox\":[{\"marker\":{\"colorbar\":{\"outlinewidth\":0,\"ticks\":\"\"}},\"type\":\"scattermapbox\"}],\"scatterpolar\":[{\"marker\":{\"colorbar\":{\"outlinewidth\":0,\"ticks\":\"\"}},\"type\":\"scatterpolar\"}],\"scatterpolargl\":[{\"marker\":{\"colorbar\":{\"outlinewidth\":0,\"ticks\":\"\"}},\"type\":\"scatterpolargl\"}],\"scatterternary\":[{\"marker\":{\"colorbar\":{\"outlinewidth\":0,\"ticks\":\"\"}},\"type\":\"scatterternary\"}],\"surface\":[{\"colorbar\":{\"outlinewidth\":0,\"ticks\":\"\"},\"colorscale\":[[0.0,\"#0d0887\"],[0.1111111111111111,\"#46039f\"],[0.2222222222222222,\"#7201a8\"],[0.3333333333333333,\"#9c179e\"],[0.4444444444444444,\"#bd3786\"],[0.5555555555555556,\"#d8576b\"],[0.6666666666666666,\"#ed7953\"],[0.7777777777777778,\"#fb9f3a\"],[0.8888888888888888,\"#fdca26\"],[1.0,\"#f0f921\"]],\"type\":\"surface\"}],\"table\":[{\"cells\":{\"fill\":{\"color\":\"#EBF0F8\"},\"line\":{\"color\":\"white\"}},\"header\":{\"fill\":{\"color\":\"#C8D4E3\"},\"line\":{\"color\":\"white\"}},\"type\":\"table\"}]},\"layout\":{\"annotationdefaults\":{\"arrowcolor\":\"#2a3f5f\",\"arrowhead\":0,\"arrowwidth\":1},\"autotypenumbers\":\"strict\",\"coloraxis\":{\"colorbar\":{\"outlinewidth\":0,\"ticks\":\"\"}},\"colorscale\":{\"diverging\":[[0,\"#8e0152\"],[0.1,\"#c51b7d\"],[0.2,\"#de77ae\"],[0.3,\"#f1b6da\"],[0.4,\"#fde0ef\"],[0.5,\"#f7f7f7\"],[0.6,\"#e6f5d0\"],[0.7,\"#b8e186\"],[0.8,\"#7fbc41\"],[0.9,\"#4d9221\"],[1,\"#276419\"]],\"sequential\":[[0.0,\"#0d0887\"],[0.1111111111111111,\"#46039f\"],[0.2222222222222222,\"#7201a8\"],[0.3333333333333333,\"#9c179e\"],[0.4444444444444444,\"#bd3786\"],[0.5555555555555556,\"#d8576b\"],[0.6666666666666666,\"#ed7953\"],[0.7777777777777778,\"#fb9f3a\"],[0.8888888888888888,\"#fdca26\"],[1.0,\"#f0f921\"]],\"sequentialminus\":[[0.0,\"#0d0887\"],[0.1111111111111111,\"#46039f\"],[0.2222222222222222,\"#7201a8\"],[0.3333333333333333,\"#9c179e\"],[0.4444444444444444,\"#bd3786\"],[0.5555555555555556,\"#d8576b\"],[0.6666666666666666,\"#ed7953\"],[0.7777777777777778,\"#fb9f3a\"],[0.8888888888888888,\"#fdca26\"],[1.0,\"#f0f921\"]]},\"colorway\":[\"#636efa\",\"#EF553B\",\"#00cc96\",\"#ab63fa\",\"#FFA15A\",\"#19d3f3\",\"#FF6692\",\"#B6E880\",\"#FF97FF\",\"#FECB52\"],\"font\":{\"color\":\"#2a3f5f\"},\"geo\":{\"bgcolor\":\"white\",\"lakecolor\":\"white\",\"landcolor\":\"#E5ECF6\",\"showlakes\":true,\"showland\":true,\"subunitcolor\":\"white\"},\"hoverlabel\":{\"align\":\"left\"},\"hovermode\":\"closest\",\"mapbox\":{\"style\":\"light\"},\"paper_bgcolor\":\"white\",\"plot_bgcolor\":\"#E5ECF6\",\"polar\":{\"angularaxis\":{\"gridcolor\":\"white\",\"linecolor\":\"white\",\"ticks\":\"\"},\"bgcolor\":\"#E5ECF6\",\"radialaxis\":{\"gridcolor\":\"white\",\"linecolor\":\"white\",\"ticks\":\"\"}},\"scene\":{\"xaxis\":{\"backgroundcolor\":\"#E5ECF6\",\"gridcolor\":\"white\",\"gridwidth\":2,\"linecolor\":\"white\",\"showbackground\":true,\"ticks\":\"\",\"zerolinecolor\":\"white\"},\"yaxis\":{\"backgroundcolor\":\"#E5ECF6\",\"gridcolor\":\"white\",\"gridwidth\":2,\"linecolor\":\"white\",\"showbackground\":true,\"ticks\":\"\",\"zerolinecolor\":\"white\"},\"zaxis\":{\"backgroundcolor\":\"#E5ECF6\",\"gridcolor\":\"white\",\"gridwidth\":2,\"linecolor\":\"white\",\"showbackground\":true,\"ticks\":\"\",\"zerolinecolor\":\"white\"}},\"shapedefaults\":{\"line\":{\"color\":\"#2a3f5f\"}},\"ternary\":{\"aaxis\":{\"gridcolor\":\"white\",\"linecolor\":\"white\",\"ticks\":\"\"},\"baxis\":{\"gridcolor\":\"white\",\"linecolor\":\"white\",\"ticks\":\"\"},\"bgcolor\":\"#E5ECF6\",\"caxis\":{\"gridcolor\":\"white\",\"linecolor\":\"white\",\"ticks\":\"\"}},\"title\":{\"x\":0.05},\"xaxis\":{\"automargin\":true,\"gridcolor\":\"white\",\"linecolor\":\"white\",\"ticks\":\"\",\"title\":{\"standoff\":15},\"zerolinecolor\":\"white\",\"zerolinewidth\":2},\"yaxis\":{\"automargin\":true,\"gridcolor\":\"white\",\"linecolor\":\"white\",\"ticks\":\"\",\"title\":{\"standoff\":15},\"zerolinecolor\":\"white\",\"zerolinewidth\":2}}},\"xaxis\":{\"anchor\":\"y\",\"domain\":[0.0,1.0],\"title\":{\"text\":\"Data\"}},\"yaxis\":{\"anchor\":\"x\",\"domain\":[0.0,1.0],\"title\":{\"text\":\"y\"}},\"legend\":{\"tracegroupgap\":0},\"margin\":{\"t\":60}},                        {\"responsive\": true}                    ).then(function(){\n",
              "                            \n",
              "var gd = document.getElementById('04b74afe-b281-4c6a-971d-9cce06eb705c');\n",
              "var x = new MutationObserver(function (mutations, observer) {{\n",
              "        var display = window.getComputedStyle(gd).display;\n",
              "        if (!display || display === 'none') {{\n",
              "            console.log([gd, 'removed!']);\n",
              "            Plotly.purge(gd);\n",
              "            observer.disconnect();\n",
              "        }}\n",
              "}});\n",
              "\n",
              "// Listen for the removal of the full notebook cells\n",
              "var notebookContainer = gd.closest('#notebook-container');\n",
              "if (notebookContainer) {{\n",
              "    x.observe(notebookContainer, {childList: true});\n",
              "}}\n",
              "\n",
              "// Listen for the clearing of the current output cell\n",
              "var outputEl = gd.closest('.output');\n",
              "if (outputEl) {{\n",
              "    x.observe(outputEl, {childList: true});\n",
              "}}\n",
              "\n",
              "                        })                };                            </script>        </div>\n",
              "</body>\n",
              "</html>"
            ]
          },
          "metadata": {},
          "output_type": "display_data"
        }
      ],
      "source": [
        "indexdDataset_logSoybeans = np.log(Dataset['Soybeans (CBT $/bu)'])\n",
        "df = px.data.stocks()\n",
        "fig = px.line(Dataset, x='Data', y=indexdDataset_logSoybeans )\n",
        "fig.show()"
      ]
    },
    {
      "cell_type": "code",
      "execution_count": null,
      "metadata": {
        "id": "52h0AAaIdR6_"
      },
      "outputs": [],
      "source": [
        "#USD/BRL rate"
      ]
    },
    {
      "cell_type": "code",
      "execution_count": null,
      "metadata": {
        "colab": {
          "base_uri": "https://localhost:8080/",
          "height": 542
        },
        "id": "9iwJbjFSpg5F",
        "outputId": "5389bbca-6895-43d5-e998-8c9c3fde5548"
      },
      "outputs": [
        {
          "data": {
            "text/html": [
              "<html>\n",
              "<head><meta charset=\"utf-8\" /></head>\n",
              "<body>\n",
              "    <div>            <script src=\"https://cdnjs.cloudflare.com/ajax/libs/mathjax/2.7.5/MathJax.js?config=TeX-AMS-MML_SVG\"></script><script type=\"text/javascript\">if (window.MathJax) {MathJax.Hub.Config({SVG: {font: \"STIX-Web\"}});}</script>                <script type=\"text/javascript\">window.PlotlyConfig = {MathJaxConfig: 'local'};</script>\n",
              "        <script src=\"https://cdn.plot.ly/plotly-2.8.3.min.js\"></script>                <div id=\"89a27a7f-f9bb-419e-9666-ba9fb832621d\" class=\"plotly-graph-div\" style=\"height:525px; width:100%;\"></div>            <script type=\"text/javascript\">                                    window.PLOTLYENV=window.PLOTLYENV || {};                                    if (document.getElementById(\"89a27a7f-f9bb-419e-9666-ba9fb832621d\")) {                    Plotly.newPlot(                        \"89a27a7f-f9bb-419e-9666-ba9fb832621d\",                        [{\"hovertemplate\":\"Data=%{x}<br>y=%{y}<extra></extra>\",\"legendgroup\":\"\",\"line\":{\"color\":\"#636efa\",\"dash\":\"solid\"},\"marker\":{\"symbol\":\"circle\"},\"mode\":\"lines\",\"name\":\"\",\"orientation\":\"v\",\"showlegend\":false,\"x\":[\"12-Jul-94\",\"11-ago-94\",\"12-set-94\",\"12-out-94\",\"9-Nov-94\",\"9-dez-94\",\"31-Jan-95\",\"12-fev-95\",\"12-Mar-95\",\"11-abr-95\",\"11-mai-95\",\"12-Jun-95\",\"12-Jul-95\",\"14-ago-95\",\"12-set-95\",\"11-out-95\",\"9-Nov-95\",\"12-dez-95\",\"16-Jan-96\",\"9-fev-96\",\"14-Mar-96\",\"11-abr-96\",\"10-mai-96\",\"12-Jun-96\",\"12-Jul-96\",\"12-ago-96\",\"11-set-96\",\"11-out-96\",\"12-Nov-96\",\"12-dez-96\",\"10-Jan-97\",\"12-fev-97\",\"11-Mar-97\",\"11-abr-97\",\"12-mai-97\",\"12-Jun-97\",\"11-Jul-97\",\"12-ago-97\",\"12-set-97\",\"10-out-97\",\"10-Nov-97\",\"11-dez-97\",\"13-Jan-98\",\"11-fev-98\",\"12-Mar-98\",\"9-abr-98\",\"12-mai-98\",\"12-Jun-98\",\"10-Jul-98\",\"12-ago-98\",\"11-set-98\",\"9-out-98\",\"10-Nov-98\",\"11-dez-98\",\"12-Jan-99\",\"10-fev-99\",\"11-Mar-99\",\"9-abr-99\",\"12-mai-99\",\"11-Jun-99\",\"12-Jul-99\",\"12-ago-99\",\"10-set-99\",\"8-out-99\",\"10-Nov-99\",\"10-dez-99\",\"12-Jan-00\",\"11-fev-00\",\"10-Mar-00\",\"1-abr-00\",\"12-mai-00\",\"9-Jun-00\",\"12-Jul-00\",\"11-ago-00\",\"12-set-00\",\"12-out-00\",\"9-Nov-00\",\"12-dez-00\",\"11-Jan-01\",\"8-fev-01\",\"8-Mar-01\",\"10-abr-01\",\"10-mai-01\",\"12-Jun-01\",\"11-Jul-01\",\"10-ago-01\",\"14-set-01\",\"12-out-01\",\"9-Nov-01\",\"11-dez-01\",\"11-Jan-02\",\"8-fev-02\",\"8-Mar-02\",\"10-abr-02\",\"10-mai-02\",\"12-Jun-02\",\"11-Jul-02\",\"12-ago-02\",\"12-set-02\",\"11-out-02\",\"12-Nov-02\",\"10-dez-02\",\"10-Jan-03\",\"11-fev-03\",\"11-Mar-03\",\"10-abr-03\",\"12-mai-03\",\"11-Jun-03\",\"11-Jul-03\",\"12-ago-03\",\"11-set-03\",\"10-out-03\",\"12-Nov-03\",\"11-dez-03\",\"12-Jan-04\",\"10-fev-04\",\"10-Mar-04\",\"8-abr-04\",\"12-mai-04\",\"10-Jun-04\",\"12-Jul-04\",\"12-ago-04\",\"10-set-04\",\"12-out-04\",\"12-Nov-04\",\"10-dez-04\",\"12-Jan-05\",\"9-fev-05\",\"10-Mar-05\",\"8-abr-05\",\"12-mai-05\",\"10-Jun-05\",\"12-Jul-05\",\"12-ago-05\",\"12-set-05\",\"12-out-05\",\"10-Nov-05\",\"9-dez-05\",\"12-Jan-06\",\"9-fev-06\",\"13-Mar-06\",\"10-abr-06\",\"12-mai-06\",\"9-Jun-06\",\"12-Jul-06\",\"11-ago-06\",\"12-set-06\",\"12-out-06\",\"9-Nov-06\",\"11-dez-06\",\"12-Jan-07\",\"9-fev-07\",\"9-Mar-07\",\"10-abr-07\",\"11-mai-07\",\"11-Jun-07\",\"12-Jul-07\",\"10-ago-07\",\"12-set-07\",\"12-out-07\",\"9-Nov-07\",\"11-dez-07\",\"11-Jan-08\",\"8-fev-08\",\"11-Mar-08\",\"9-abr-08\",\"9-mai-08\",\"10-Jun-08\",\"11-Jul-08\",\"12-ago-08\",\"12-set-08\",\"28-out-08\",\"10-Nov-08\",\"12-dez-08\",\"12-Jan-09\",\"10-fev-09\",\"11-Mar-09\",\"9-abr-09\",\"12-mai-09\",\"10-Jun-09\",\"10-Jul-09\",\"12-ago-09\",\"14-set-09\",\"9-out-09\",\"10-Nov-09\",\"10-dez-09\",\"12-Jan-10\",\"9-fev-10\",\"10-Mar-10\",\"9-abr-10\",\"11-mai-10\",\"10-Jun-10\",\"9-Jul-10\",\"12-ago-10\",\"10-set-10\",\"8-out-10\",\"9-Nov-10\",\"15-dez-10\",\"12-Jan-11\",\"9-fev-11\",\"10-Mar-11\",\"8-abr-11\",\"11-mai-11\",\"9-Jun-11\",\"12-Jul-11\",\"11-ago-11\",\"12-set-11\",\"12-out-11\",\"9-Nov-11\",\"9-dez-11\",\"12-Jan-12\",\"9-fev-12\",\"9-Mar-12\",\"10-abr-12\",\"10-mai-12\",\"12-Jun-12\",\"11-Jul-12\",\"10-ago-12\",\"12-set-12\",\"11-out-12\",\"9-Nov-12\",\"11-dez-12\",\"11-Jan-13\",\"8-fev-13\",\"8-Mar-13\",\"10-abr-13\",\"10-mai-13\",\"12-Jun-13\",\"11-Jul-13\",\"12-ago-13\",\"12-set-13\",\"10-out-13\",\"8-Nov-13\",\"10-dez-13\",\"23-Jan-14\",\"10-fev-14\",\"10-Mar-14\",\"9-abr-14\",\"9-mai-14\",\"11-Jun-14\",\"11-Jul-14\",\"12-ago-14\",\"11-set-14\",\"10-out-14\"],\"xaxis\":\"x\",\"y\":[-0.07257069283483537,-0.10536051565782628,-0.13926206733350766,-0.16251892949777494,-0.1743533871447778,-0.16251892949777494,-0.16251892949777494,-0.1743533871447778,-0.11653381625595151,-0.09431067947124129,-0.10536051565782628,-0.09431067947124129,-0.07257069283483537,-0.06187540371808753,-0.05129329438755058,-0.040821994520255166,-0.040821994520255166,-0.030459207484708574,-0.030459207484708574,-0.020202707317519466,-0.01005033585350145,-0.01005033585350145,0.0,0.0,0.009950330853168092,0.009950330853168092,0.01980262729617973,0.01980262729617973,0.02955880224154443,-0.01005033585350145,0.03922071315328133,0.04879016416943205,0.058268908123975824,0.058268908123975824,0.06765864847381486,0.06765864847381486,0.0769610411361284,0.08617769624105241,0.08617769624105241,0.09531017980432493,0.10436001532424286,0.10436001532424286,0.11332868530700327,0.12221763272424911,0.12221763272424911,0.131028262406404,0.13976194237515863,0.13976194237515863,0.14842000511827322,0.1570037488096647,0.16551443847757333,0.17395330712343798,0.17395330712343798,0.1906203596086497,0.3987761199573678,0.6471032420585384,0.6418538861723947,0.5306282510621704,0.5187937934151675,0.5653138090500605,0.5877866649021191,0.6312717768418578,0.6418538861723947,0.6780335427498971,0.6575200029167941,0.6097655716208943,0.5877866649021191,0.5766133643039938,0.5538851132264376,0.5709795465857378,0.6043159668533296,0.5933268452777344,0.5877866649021191,0.5933268452777344,0.6097655716208943,0.6312717768418578,0.6678293725756554,0.6729444732424258,0.6678293725756554,0.6981347220709843,0.7371640659767196,0.7839015438284094,0.8285518175661483,0.8671004876833833,0.9042181506398859,0.9202827531436925,0.9820784724121582,1.007957920399979,0.9360933591703348,0.8586616190375187,0.8671004876833833,0.883767540168595,0.8544153281560676,0.8415671856782185,0.9082585601768908,0.9969486348916096,1.075002423028976,1.1346227261911428,1.205970806988609,1.3376291891386096,1.275362800412609,1.2864740258376797,1.235471471385307,1.2781522025001875,1.2412685890696329,1.1346227261911428,1.0818051703517284,1.0577902941478545,1.0577902941478545,1.0986122886681098,1.0715836162801904,1.0508216248317612,1.0681530811834012,1.0715836162801904,1.0473189942805592,1.0784095813505903,1.0681530811834012,1.0681530811834012,1.1314021114911006,1.1410330045520618,1.1118575154181303,1.0986122886681098,1.0612565021243408,1.0473189942805592,1.0260415958332743,1.000631880307906,0.9895411936137477,0.9555114450274363,0.9969486348916096,0.9477893989335261,0.8960880245566357,0.8796267475025636,0.8628899551470398,0.8586616190375187,0.8329091229351039,0.8153648132841944,0.7929925155296614,0.8285518175661483,0.8197798314933114,0.7701082216960737,0.7654678421395714,0.7561219797213337,0.7747271675523681,0.8109302162163288,0.7839015438284094,0.7701082216960737,0.7747271675523681,0.7654678421395714,0.7701082216960737,0.7654678421395714,0.7608058290337602,0.7419373447293773,0.7371640659767196,0.7080357930536959,0.6830968447064438,0.6575200029167941,0.6312717768418578,0.6780335427498971,0.6418538861723947,0.661159485946089,0.5709795465857378,0.5822156198526637,0.5709795465857378,0.5481214085096876,0.5364933705145685,0.5247285289349821,0.5068176023684519,0.4824261492442928,0.4637340162321402,0.4762341789963717,0.5877866649021191,0.7747271675523681,0.8197798314933114,0.8712933659434193,0.8372475245337022,0.8415671856782185,0.8372475245337022,0.7929925155296614,0.7275486072772777,0.6729444732424258,0.6575200029167941,0.6151856390902335,0.598836501088704,0.5538851132264376,0.5481214085096876,0.5596157879354227,0.5766133643039938,0.6097655716208943,0.5822156198526637,0.5653138090500605,0.5933268452777344,0.5933268452777344,0.5709795465857378,0.5653138090500605,0.5423242908253617,0.5187937934151675,0.5364933705145685,0.5247285289349821,0.5128236264286637,0.5128236264286637,0.5068176023684519,0.4637340162321402,0.4762341789963717,0.4637340162321402,0.44468582126144574,0.47000362924573563,0.5596157879354227,0.5709795465857378,0.5822156198526637,0.6097655716208943,0.5822156198526637,0.5423242908253617,0.5877866649021191,0.6151856390902335,0.6830968447064438,0.7178397931503168,0.7080357930536959,0.7080357930536959,0.7080357930536959,0.7080357930536959,0.7275486072772777,0.7323678937132266,0.7080357930536959,0.6780335427498971,0.6830968447064438,0.6931471805599453,0.712949807856125,0.7747271675523681,0.8109302162163288,0.85015092936961,0.8197798314933114,0.7839015438284094,0.8329091229351039,0.8544153281560676,0.8671004876833833,0.8671004876833833,0.8458682675776092,0.8020015854720274,0.7975071958841882,0.8064758658669485,0.7975071958841882,0.8197798314933114,0.8458682675776092,0.8960880245566357],\"yaxis\":\"y\",\"type\":\"scatter\"}],                        {\"template\":{\"data\":{\"bar\":[{\"error_x\":{\"color\":\"#2a3f5f\"},\"error_y\":{\"color\":\"#2a3f5f\"},\"marker\":{\"line\":{\"color\":\"#E5ECF6\",\"width\":0.5},\"pattern\":{\"fillmode\":\"overlay\",\"size\":10,\"solidity\":0.2}},\"type\":\"bar\"}],\"barpolar\":[{\"marker\":{\"line\":{\"color\":\"#E5ECF6\",\"width\":0.5},\"pattern\":{\"fillmode\":\"overlay\",\"size\":10,\"solidity\":0.2}},\"type\":\"barpolar\"}],\"carpet\":[{\"aaxis\":{\"endlinecolor\":\"#2a3f5f\",\"gridcolor\":\"white\",\"linecolor\":\"white\",\"minorgridcolor\":\"white\",\"startlinecolor\":\"#2a3f5f\"},\"baxis\":{\"endlinecolor\":\"#2a3f5f\",\"gridcolor\":\"white\",\"linecolor\":\"white\",\"minorgridcolor\":\"white\",\"startlinecolor\":\"#2a3f5f\"},\"type\":\"carpet\"}],\"choropleth\":[{\"colorbar\":{\"outlinewidth\":0,\"ticks\":\"\"},\"type\":\"choropleth\"}],\"contour\":[{\"colorbar\":{\"outlinewidth\":0,\"ticks\":\"\"},\"colorscale\":[[0.0,\"#0d0887\"],[0.1111111111111111,\"#46039f\"],[0.2222222222222222,\"#7201a8\"],[0.3333333333333333,\"#9c179e\"],[0.4444444444444444,\"#bd3786\"],[0.5555555555555556,\"#d8576b\"],[0.6666666666666666,\"#ed7953\"],[0.7777777777777778,\"#fb9f3a\"],[0.8888888888888888,\"#fdca26\"],[1.0,\"#f0f921\"]],\"type\":\"contour\"}],\"contourcarpet\":[{\"colorbar\":{\"outlinewidth\":0,\"ticks\":\"\"},\"type\":\"contourcarpet\"}],\"heatmap\":[{\"colorbar\":{\"outlinewidth\":0,\"ticks\":\"\"},\"colorscale\":[[0.0,\"#0d0887\"],[0.1111111111111111,\"#46039f\"],[0.2222222222222222,\"#7201a8\"],[0.3333333333333333,\"#9c179e\"],[0.4444444444444444,\"#bd3786\"],[0.5555555555555556,\"#d8576b\"],[0.6666666666666666,\"#ed7953\"],[0.7777777777777778,\"#fb9f3a\"],[0.8888888888888888,\"#fdca26\"],[1.0,\"#f0f921\"]],\"type\":\"heatmap\"}],\"heatmapgl\":[{\"colorbar\":{\"outlinewidth\":0,\"ticks\":\"\"},\"colorscale\":[[0.0,\"#0d0887\"],[0.1111111111111111,\"#46039f\"],[0.2222222222222222,\"#7201a8\"],[0.3333333333333333,\"#9c179e\"],[0.4444444444444444,\"#bd3786\"],[0.5555555555555556,\"#d8576b\"],[0.6666666666666666,\"#ed7953\"],[0.7777777777777778,\"#fb9f3a\"],[0.8888888888888888,\"#fdca26\"],[1.0,\"#f0f921\"]],\"type\":\"heatmapgl\"}],\"histogram\":[{\"marker\":{\"pattern\":{\"fillmode\":\"overlay\",\"size\":10,\"solidity\":0.2}},\"type\":\"histogram\"}],\"histogram2d\":[{\"colorbar\":{\"outlinewidth\":0,\"ticks\":\"\"},\"colorscale\":[[0.0,\"#0d0887\"],[0.1111111111111111,\"#46039f\"],[0.2222222222222222,\"#7201a8\"],[0.3333333333333333,\"#9c179e\"],[0.4444444444444444,\"#bd3786\"],[0.5555555555555556,\"#d8576b\"],[0.6666666666666666,\"#ed7953\"],[0.7777777777777778,\"#fb9f3a\"],[0.8888888888888888,\"#fdca26\"],[1.0,\"#f0f921\"]],\"type\":\"histogram2d\"}],\"histogram2dcontour\":[{\"colorbar\":{\"outlinewidth\":0,\"ticks\":\"\"},\"colorscale\":[[0.0,\"#0d0887\"],[0.1111111111111111,\"#46039f\"],[0.2222222222222222,\"#7201a8\"],[0.3333333333333333,\"#9c179e\"],[0.4444444444444444,\"#bd3786\"],[0.5555555555555556,\"#d8576b\"],[0.6666666666666666,\"#ed7953\"],[0.7777777777777778,\"#fb9f3a\"],[0.8888888888888888,\"#fdca26\"],[1.0,\"#f0f921\"]],\"type\":\"histogram2dcontour\"}],\"mesh3d\":[{\"colorbar\":{\"outlinewidth\":0,\"ticks\":\"\"},\"type\":\"mesh3d\"}],\"parcoords\":[{\"line\":{\"colorbar\":{\"outlinewidth\":0,\"ticks\":\"\"}},\"type\":\"parcoords\"}],\"pie\":[{\"automargin\":true,\"type\":\"pie\"}],\"scatter\":[{\"marker\":{\"colorbar\":{\"outlinewidth\":0,\"ticks\":\"\"}},\"type\":\"scatter\"}],\"scatter3d\":[{\"line\":{\"colorbar\":{\"outlinewidth\":0,\"ticks\":\"\"}},\"marker\":{\"colorbar\":{\"outlinewidth\":0,\"ticks\":\"\"}},\"type\":\"scatter3d\"}],\"scattercarpet\":[{\"marker\":{\"colorbar\":{\"outlinewidth\":0,\"ticks\":\"\"}},\"type\":\"scattercarpet\"}],\"scattergeo\":[{\"marker\":{\"colorbar\":{\"outlinewidth\":0,\"ticks\":\"\"}},\"type\":\"scattergeo\"}],\"scattergl\":[{\"marker\":{\"colorbar\":{\"outlinewidth\":0,\"ticks\":\"\"}},\"type\":\"scattergl\"}],\"scattermapbox\":[{\"marker\":{\"colorbar\":{\"outlinewidth\":0,\"ticks\":\"\"}},\"type\":\"scattermapbox\"}],\"scatterpolar\":[{\"marker\":{\"colorbar\":{\"outlinewidth\":0,\"ticks\":\"\"}},\"type\":\"scatterpolar\"}],\"scatterpolargl\":[{\"marker\":{\"colorbar\":{\"outlinewidth\":0,\"ticks\":\"\"}},\"type\":\"scatterpolargl\"}],\"scatterternary\":[{\"marker\":{\"colorbar\":{\"outlinewidth\":0,\"ticks\":\"\"}},\"type\":\"scatterternary\"}],\"surface\":[{\"colorbar\":{\"outlinewidth\":0,\"ticks\":\"\"},\"colorscale\":[[0.0,\"#0d0887\"],[0.1111111111111111,\"#46039f\"],[0.2222222222222222,\"#7201a8\"],[0.3333333333333333,\"#9c179e\"],[0.4444444444444444,\"#bd3786\"],[0.5555555555555556,\"#d8576b\"],[0.6666666666666666,\"#ed7953\"],[0.7777777777777778,\"#fb9f3a\"],[0.8888888888888888,\"#fdca26\"],[1.0,\"#f0f921\"]],\"type\":\"surface\"}],\"table\":[{\"cells\":{\"fill\":{\"color\":\"#EBF0F8\"},\"line\":{\"color\":\"white\"}},\"header\":{\"fill\":{\"color\":\"#C8D4E3\"},\"line\":{\"color\":\"white\"}},\"type\":\"table\"}]},\"layout\":{\"annotationdefaults\":{\"arrowcolor\":\"#2a3f5f\",\"arrowhead\":0,\"arrowwidth\":1},\"autotypenumbers\":\"strict\",\"coloraxis\":{\"colorbar\":{\"outlinewidth\":0,\"ticks\":\"\"}},\"colorscale\":{\"diverging\":[[0,\"#8e0152\"],[0.1,\"#c51b7d\"],[0.2,\"#de77ae\"],[0.3,\"#f1b6da\"],[0.4,\"#fde0ef\"],[0.5,\"#f7f7f7\"],[0.6,\"#e6f5d0\"],[0.7,\"#b8e186\"],[0.8,\"#7fbc41\"],[0.9,\"#4d9221\"],[1,\"#276419\"]],\"sequential\":[[0.0,\"#0d0887\"],[0.1111111111111111,\"#46039f\"],[0.2222222222222222,\"#7201a8\"],[0.3333333333333333,\"#9c179e\"],[0.4444444444444444,\"#bd3786\"],[0.5555555555555556,\"#d8576b\"],[0.6666666666666666,\"#ed7953\"],[0.7777777777777778,\"#fb9f3a\"],[0.8888888888888888,\"#fdca26\"],[1.0,\"#f0f921\"]],\"sequentialminus\":[[0.0,\"#0d0887\"],[0.1111111111111111,\"#46039f\"],[0.2222222222222222,\"#7201a8\"],[0.3333333333333333,\"#9c179e\"],[0.4444444444444444,\"#bd3786\"],[0.5555555555555556,\"#d8576b\"],[0.6666666666666666,\"#ed7953\"],[0.7777777777777778,\"#fb9f3a\"],[0.8888888888888888,\"#fdca26\"],[1.0,\"#f0f921\"]]},\"colorway\":[\"#636efa\",\"#EF553B\",\"#00cc96\",\"#ab63fa\",\"#FFA15A\",\"#19d3f3\",\"#FF6692\",\"#B6E880\",\"#FF97FF\",\"#FECB52\"],\"font\":{\"color\":\"#2a3f5f\"},\"geo\":{\"bgcolor\":\"white\",\"lakecolor\":\"white\",\"landcolor\":\"#E5ECF6\",\"showlakes\":true,\"showland\":true,\"subunitcolor\":\"white\"},\"hoverlabel\":{\"align\":\"left\"},\"hovermode\":\"closest\",\"mapbox\":{\"style\":\"light\"},\"paper_bgcolor\":\"white\",\"plot_bgcolor\":\"#E5ECF6\",\"polar\":{\"angularaxis\":{\"gridcolor\":\"white\",\"linecolor\":\"white\",\"ticks\":\"\"},\"bgcolor\":\"#E5ECF6\",\"radialaxis\":{\"gridcolor\":\"white\",\"linecolor\":\"white\",\"ticks\":\"\"}},\"scene\":{\"xaxis\":{\"backgroundcolor\":\"#E5ECF6\",\"gridcolor\":\"white\",\"gridwidth\":2,\"linecolor\":\"white\",\"showbackground\":true,\"ticks\":\"\",\"zerolinecolor\":\"white\"},\"yaxis\":{\"backgroundcolor\":\"#E5ECF6\",\"gridcolor\":\"white\",\"gridwidth\":2,\"linecolor\":\"white\",\"showbackground\":true,\"ticks\":\"\",\"zerolinecolor\":\"white\"},\"zaxis\":{\"backgroundcolor\":\"#E5ECF6\",\"gridcolor\":\"white\",\"gridwidth\":2,\"linecolor\":\"white\",\"showbackground\":true,\"ticks\":\"\",\"zerolinecolor\":\"white\"}},\"shapedefaults\":{\"line\":{\"color\":\"#2a3f5f\"}},\"ternary\":{\"aaxis\":{\"gridcolor\":\"white\",\"linecolor\":\"white\",\"ticks\":\"\"},\"baxis\":{\"gridcolor\":\"white\",\"linecolor\":\"white\",\"ticks\":\"\"},\"bgcolor\":\"#E5ECF6\",\"caxis\":{\"gridcolor\":\"white\",\"linecolor\":\"white\",\"ticks\":\"\"}},\"title\":{\"x\":0.05},\"xaxis\":{\"automargin\":true,\"gridcolor\":\"white\",\"linecolor\":\"white\",\"ticks\":\"\",\"title\":{\"standoff\":15},\"zerolinecolor\":\"white\",\"zerolinewidth\":2},\"yaxis\":{\"automargin\":true,\"gridcolor\":\"white\",\"linecolor\":\"white\",\"ticks\":\"\",\"title\":{\"standoff\":15},\"zerolinecolor\":\"white\",\"zerolinewidth\":2}}},\"xaxis\":{\"anchor\":\"y\",\"domain\":[0.0,1.0],\"title\":{\"text\":\"Data\"}},\"yaxis\":{\"anchor\":\"x\",\"domain\":[0.0,1.0],\"title\":{\"text\":\"y\"}},\"legend\":{\"tracegroupgap\":0},\"margin\":{\"t\":60}},                        {\"responsive\": true}                    ).then(function(){\n",
              "                            \n",
              "var gd = document.getElementById('89a27a7f-f9bb-419e-9666-ba9fb832621d');\n",
              "var x = new MutationObserver(function (mutations, observer) {{\n",
              "        var display = window.getComputedStyle(gd).display;\n",
              "        if (!display || display === 'none') {{\n",
              "            console.log([gd, 'removed!']);\n",
              "            Plotly.purge(gd);\n",
              "            observer.disconnect();\n",
              "        }}\n",
              "}});\n",
              "\n",
              "// Listen for the removal of the full notebook cells\n",
              "var notebookContainer = gd.closest('#notebook-container');\n",
              "if (notebookContainer) {{\n",
              "    x.observe(notebookContainer, {childList: true});\n",
              "}}\n",
              "\n",
              "// Listen for the clearing of the current output cell\n",
              "var outputEl = gd.closest('.output');\n",
              "if (outputEl) {{\n",
              "    x.observe(outputEl, {childList: true});\n",
              "}}\n",
              "\n",
              "                        })                };                            </script>        </div>\n",
              "</body>\n",
              "</html>"
            ]
          },
          "metadata": {},
          "output_type": "display_data"
        }
      ],
      "source": [
        "indexdDataset_logUSD_BRL = np.log(Dataset['USD/BRL rate'])\n",
        "df = px.data.stocks()\n",
        "fig = px.line(Dataset, x='Data', y=indexdDataset_logUSD_BRL)\n",
        "fig.show()"
      ]
    },
    {
      "cell_type": "code",
      "execution_count": null,
      "metadata": {
        "id": "ax0qyzV6cuW9"
      },
      "outputs": [],
      "source": [
        "#Corn"
      ]
    },
    {
      "cell_type": "code",
      "execution_count": null,
      "metadata": {
        "colab": {
          "base_uri": "https://localhost:8080/",
          "height": 542
        },
        "id": "39csvztzZInU",
        "outputId": "ffbbc599-41f0-49b2-c5f5-613289eb9f8f"
      },
      "outputs": [
        {
          "data": {
            "text/html": [
              "<html>\n",
              "<head><meta charset=\"utf-8\" /></head>\n",
              "<body>\n",
              "    <div>            <script src=\"https://cdnjs.cloudflare.com/ajax/libs/mathjax/2.7.5/MathJax.js?config=TeX-AMS-MML_SVG\"></script><script type=\"text/javascript\">if (window.MathJax) {MathJax.Hub.Config({SVG: {font: \"STIX-Web\"}});}</script>                <script type=\"text/javascript\">window.PlotlyConfig = {MathJaxConfig: 'local'};</script>\n",
              "        <script src=\"https://cdn.plot.ly/plotly-2.8.3.min.js\"></script>                <div id=\"f76e7c15-663a-42dc-b203-901a0c2fe9a7\" class=\"plotly-graph-div\" style=\"height:525px; width:100%;\"></div>            <script type=\"text/javascript\">                                    window.PLOTLYENV=window.PLOTLYENV || {};                                    if (document.getElementById(\"f76e7c15-663a-42dc-b203-901a0c2fe9a7\")) {                    Plotly.newPlot(                        \"f76e7c15-663a-42dc-b203-901a0c2fe9a7\",                        [{\"hovertemplate\":\"Data=%{x}<br>Corn (CBT $/bu)=%{y}<extra></extra>\",\"legendgroup\":\"\",\"line\":{\"color\":\"#636efa\",\"dash\":\"solid\"},\"marker\":{\"symbol\":\"circle\"},\"mode\":\"lines\",\"name\":\"\",\"orientation\":\"v\",\"showlegend\":false,\"x\":[\"12-Jul-94\",\"11-ago-94\",\"12-set-94\",\"12-out-94\",\"9-Nov-94\",\"9-dez-94\",\"31-Jan-95\",\"12-fev-95\",\"12-Mar-95\",\"11-abr-95\",\"11-mai-95\",\"12-Jun-95\",\"12-Jul-95\",\"14-ago-95\",\"12-set-95\",\"11-out-95\",\"9-Nov-95\",\"12-dez-95\",\"16-Jan-96\",\"9-fev-96\",\"14-Mar-96\",\"11-abr-96\",\"10-mai-96\",\"12-Jun-96\",\"12-Jul-96\",\"12-ago-96\",\"11-set-96\",\"11-out-96\",\"12-Nov-96\",\"12-dez-96\",\"10-Jan-97\",\"12-fev-97\",\"11-Mar-97\",\"11-abr-97\",\"12-mai-97\",\"12-Jun-97\",\"11-Jul-97\",\"12-ago-97\",\"12-set-97\",\"10-out-97\",\"10-Nov-97\",\"11-dez-97\",\"13-Jan-98\",\"11-fev-98\",\"12-Mar-98\",\"9-abr-98\",\"12-mai-98\",\"12-Jun-98\",\"10-Jul-98\",\"12-ago-98\",\"11-set-98\",\"9-out-98\",\"10-Nov-98\",\"11-dez-98\",\"12-Jan-99\",\"10-fev-99\",\"11-Mar-99\",\"9-abr-99\",\"12-mai-99\",\"11-Jun-99\",\"12-Jul-99\",\"12-ago-99\",\"10-set-99\",\"8-out-99\",\"10-Nov-99\",\"10-dez-99\",\"12-Jan-00\",\"11-fev-00\",\"10-Mar-00\",\"1-abr-00\",\"12-mai-00\",\"9-Jun-00\",\"12-Jul-00\",\"11-ago-00\",\"12-set-00\",\"12-out-00\",\"9-Nov-00\",\"12-dez-00\",\"11-Jan-01\",\"8-fev-01\",\"8-Mar-01\",\"10-abr-01\",\"10-mai-01\",\"12-Jun-01\",\"11-Jul-01\",\"10-ago-01\",\"14-set-01\",\"12-out-01\",\"9-Nov-01\",\"11-dez-01\",\"11-Jan-02\",\"8-fev-02\",\"8-Mar-02\",\"10-abr-02\",\"10-mai-02\",\"12-Jun-02\",\"11-Jul-02\",\"12-ago-02\",\"12-set-02\",\"11-out-02\",\"12-Nov-02\",\"10-dez-02\",\"10-Jan-03\",\"11-fev-03\",\"11-Mar-03\",\"10-abr-03\",\"12-mai-03\",\"11-Jun-03\",\"11-Jul-03\",\"12-ago-03\",\"11-set-03\",\"10-out-03\",\"12-Nov-03\",\"11-dez-03\",\"12-Jan-04\",\"10-fev-04\",\"10-Mar-04\",\"8-abr-04\",\"12-mai-04\",\"10-Jun-04\",\"12-Jul-04\",\"12-ago-04\",\"10-set-04\",\"12-out-04\",\"12-Nov-04\",\"10-dez-04\",\"12-Jan-05\",\"9-fev-05\",\"10-Mar-05\",\"8-abr-05\",\"12-mai-05\",\"10-Jun-05\",\"12-Jul-05\",\"12-ago-05\",\"12-set-05\",\"12-out-05\",\"10-Nov-05\",\"9-dez-05\",\"12-Jan-06\",\"9-fev-06\",\"13-Mar-06\",\"10-abr-06\",\"12-mai-06\",\"9-Jun-06\",\"12-Jul-06\",\"11-ago-06\",\"12-set-06\",\"12-out-06\",\"9-Nov-06\",\"11-dez-06\",\"12-Jan-07\",\"9-fev-07\",\"9-Mar-07\",\"10-abr-07\",\"11-mai-07\",\"11-Jun-07\",\"12-Jul-07\",\"10-ago-07\",\"12-set-07\",\"12-out-07\",\"9-Nov-07\",\"11-dez-07\",\"11-Jan-08\",\"8-fev-08\",\"11-Mar-08\",\"9-abr-08\",\"9-mai-08\",\"10-Jun-08\",\"11-Jul-08\",\"12-ago-08\",\"12-set-08\",\"28-out-08\",\"10-Nov-08\",\"12-dez-08\",\"12-Jan-09\",\"10-fev-09\",\"11-Mar-09\",\"9-abr-09\",\"12-mai-09\",\"10-Jun-09\",\"10-Jul-09\",\"12-ago-09\",\"14-set-09\",\"9-out-09\",\"10-Nov-09\",\"10-dez-09\",\"12-Jan-10\",\"9-fev-10\",\"10-Mar-10\",\"9-abr-10\",\"11-mai-10\",\"10-Jun-10\",\"9-Jul-10\",\"12-ago-10\",\"10-set-10\",\"8-out-10\",\"9-Nov-10\",\"15-dez-10\",\"12-Jan-11\",\"9-fev-11\",\"10-Mar-11\",\"8-abr-11\",\"11-mai-11\",\"9-Jun-11\",\"12-Jul-11\",\"11-ago-11\",\"12-set-11\",\"12-out-11\",\"9-Nov-11\",\"9-dez-11\",\"12-Jan-12\",\"9-fev-12\",\"9-Mar-12\",\"10-abr-12\",\"10-mai-12\",\"12-Jun-12\",\"11-Jul-12\",\"10-ago-12\",\"12-set-12\",\"11-out-12\",\"9-Nov-12\",\"11-dez-12\",\"11-Jan-13\",\"8-fev-13\",\"8-Mar-13\",\"10-abr-13\",\"10-mai-13\",\"12-Jun-13\",\"11-Jul-13\",\"12-ago-13\",\"12-set-13\",\"10-out-13\",\"8-Nov-13\",\"10-dez-13\",\"23-Jan-14\",\"10-fev-14\",\"10-Mar-14\",\"9-abr-14\",\"9-mai-14\",\"11-Jun-14\",\"11-Jul-14\",\"12-ago-14\",\"11-set-14\",\"10-out-14\"],\"xaxis\":\"x\",\"y\":[230.99,219.24,219.51,216.01,215.55,222.23,232.4,233.38,241.71,248.56,257.38,272.76,286.37,283.05,299.02,322.86,327.88,345.61,362.58,374.62,393.52,452.91,494.8,468.74,469.65,364.36,343.39,283.79,268.24,266.6,267.61,280.29,304.93,299.3,282.94,266.17,254.41,262.55,264.42,281.34,275.94,266.03,270.83,268.86,266.13,248.88,243.25,242.16,230.66,206.27,200.09,218.67,218.86,215.77,216.56,214.61,219.85,218.14,217.96,217.41,192.19,213.58,206.6,201.25,195.51,194.14,216.13,219.7,227.45,227.44,235.68,207.92,181.65,178.29,187.57,204.17,210.65,217.76,219.55,211.34,211.17,205.89,195.92,192.71,211.64,216.97,216.41,208.43,205.08,210.13,210.04,204.61,203.56,198.77,205.61,211.96,232.17,259.39,267.33,252.42,242.61,238.09,235.7,236.49,233.15,238.63,245.82,239.44,216.02,220.42,229.08,225.55,237.3,246.78,266.05,282.94,302.49,316.24,300.01,286.19,236.52,224.8,214.42,204.98,198.89,200.86,199.99,200.33,213.67,207.88,208.7,221.84,235.48,215.16,204.18,202.06,192.89,202.38,213.5,223.14,223.59,236.79,245.85,238.13,244.3,229.78,241.36,303.26,356.13,370.3,391.07,411.51,402.01,361.76,370.53,380.98,325.7,330.88,349.69,357.86,381.57,424.75,487.55,516.01,545.77,348.04749,597.94,698.89,646.16,549.32,541.11,412.63,372.83,363.92,391.69,361.95,376.5,387.36,418.56,412.45,332.57,327.14,321.4,372.01,390.04,396.07,386.55,362.71,363.6,353.59,364.19,346.78,374.34,408.61,481.31,545.55,551.64,586.82,635.88,691.41,683.66,752.35,723.56,720.74,681.68,713.4,692.0,632.12,625.3,602.81,630.15,640.45,650.8,635.11,615.34,603.19,774.7,803.54,765.24,750.12,740.15,717.3,714.5,706.6,724.76,648.5,671.01,662.26,593.11,483.17,467.38,439.16,422.73,426.73,426.86,447.19,482.43,501.86,488.22,446.67,384.76,359.35,336.47,349.41],\"yaxis\":\"y\",\"type\":\"scatter\"}],                        {\"template\":{\"data\":{\"bar\":[{\"error_x\":{\"color\":\"#2a3f5f\"},\"error_y\":{\"color\":\"#2a3f5f\"},\"marker\":{\"line\":{\"color\":\"#E5ECF6\",\"width\":0.5},\"pattern\":{\"fillmode\":\"overlay\",\"size\":10,\"solidity\":0.2}},\"type\":\"bar\"}],\"barpolar\":[{\"marker\":{\"line\":{\"color\":\"#E5ECF6\",\"width\":0.5},\"pattern\":{\"fillmode\":\"overlay\",\"size\":10,\"solidity\":0.2}},\"type\":\"barpolar\"}],\"carpet\":[{\"aaxis\":{\"endlinecolor\":\"#2a3f5f\",\"gridcolor\":\"white\",\"linecolor\":\"white\",\"minorgridcolor\":\"white\",\"startlinecolor\":\"#2a3f5f\"},\"baxis\":{\"endlinecolor\":\"#2a3f5f\",\"gridcolor\":\"white\",\"linecolor\":\"white\",\"minorgridcolor\":\"white\",\"startlinecolor\":\"#2a3f5f\"},\"type\":\"carpet\"}],\"choropleth\":[{\"colorbar\":{\"outlinewidth\":0,\"ticks\":\"\"},\"type\":\"choropleth\"}],\"contour\":[{\"colorbar\":{\"outlinewidth\":0,\"ticks\":\"\"},\"colorscale\":[[0.0,\"#0d0887\"],[0.1111111111111111,\"#46039f\"],[0.2222222222222222,\"#7201a8\"],[0.3333333333333333,\"#9c179e\"],[0.4444444444444444,\"#bd3786\"],[0.5555555555555556,\"#d8576b\"],[0.6666666666666666,\"#ed7953\"],[0.7777777777777778,\"#fb9f3a\"],[0.8888888888888888,\"#fdca26\"],[1.0,\"#f0f921\"]],\"type\":\"contour\"}],\"contourcarpet\":[{\"colorbar\":{\"outlinewidth\":0,\"ticks\":\"\"},\"type\":\"contourcarpet\"}],\"heatmap\":[{\"colorbar\":{\"outlinewidth\":0,\"ticks\":\"\"},\"colorscale\":[[0.0,\"#0d0887\"],[0.1111111111111111,\"#46039f\"],[0.2222222222222222,\"#7201a8\"],[0.3333333333333333,\"#9c179e\"],[0.4444444444444444,\"#bd3786\"],[0.5555555555555556,\"#d8576b\"],[0.6666666666666666,\"#ed7953\"],[0.7777777777777778,\"#fb9f3a\"],[0.8888888888888888,\"#fdca26\"],[1.0,\"#f0f921\"]],\"type\":\"heatmap\"}],\"heatmapgl\":[{\"colorbar\":{\"outlinewidth\":0,\"ticks\":\"\"},\"colorscale\":[[0.0,\"#0d0887\"],[0.1111111111111111,\"#46039f\"],[0.2222222222222222,\"#7201a8\"],[0.3333333333333333,\"#9c179e\"],[0.4444444444444444,\"#bd3786\"],[0.5555555555555556,\"#d8576b\"],[0.6666666666666666,\"#ed7953\"],[0.7777777777777778,\"#fb9f3a\"],[0.8888888888888888,\"#fdca26\"],[1.0,\"#f0f921\"]],\"type\":\"heatmapgl\"}],\"histogram\":[{\"marker\":{\"pattern\":{\"fillmode\":\"overlay\",\"size\":10,\"solidity\":0.2}},\"type\":\"histogram\"}],\"histogram2d\":[{\"colorbar\":{\"outlinewidth\":0,\"ticks\":\"\"},\"colorscale\":[[0.0,\"#0d0887\"],[0.1111111111111111,\"#46039f\"],[0.2222222222222222,\"#7201a8\"],[0.3333333333333333,\"#9c179e\"],[0.4444444444444444,\"#bd3786\"],[0.5555555555555556,\"#d8576b\"],[0.6666666666666666,\"#ed7953\"],[0.7777777777777778,\"#fb9f3a\"],[0.8888888888888888,\"#fdca26\"],[1.0,\"#f0f921\"]],\"type\":\"histogram2d\"}],\"histogram2dcontour\":[{\"colorbar\":{\"outlinewidth\":0,\"ticks\":\"\"},\"colorscale\":[[0.0,\"#0d0887\"],[0.1111111111111111,\"#46039f\"],[0.2222222222222222,\"#7201a8\"],[0.3333333333333333,\"#9c179e\"],[0.4444444444444444,\"#bd3786\"],[0.5555555555555556,\"#d8576b\"],[0.6666666666666666,\"#ed7953\"],[0.7777777777777778,\"#fb9f3a\"],[0.8888888888888888,\"#fdca26\"],[1.0,\"#f0f921\"]],\"type\":\"histogram2dcontour\"}],\"mesh3d\":[{\"colorbar\":{\"outlinewidth\":0,\"ticks\":\"\"},\"type\":\"mesh3d\"}],\"parcoords\":[{\"line\":{\"colorbar\":{\"outlinewidth\":0,\"ticks\":\"\"}},\"type\":\"parcoords\"}],\"pie\":[{\"automargin\":true,\"type\":\"pie\"}],\"scatter\":[{\"marker\":{\"colorbar\":{\"outlinewidth\":0,\"ticks\":\"\"}},\"type\":\"scatter\"}],\"scatter3d\":[{\"line\":{\"colorbar\":{\"outlinewidth\":0,\"ticks\":\"\"}},\"marker\":{\"colorbar\":{\"outlinewidth\":0,\"ticks\":\"\"}},\"type\":\"scatter3d\"}],\"scattercarpet\":[{\"marker\":{\"colorbar\":{\"outlinewidth\":0,\"ticks\":\"\"}},\"type\":\"scattercarpet\"}],\"scattergeo\":[{\"marker\":{\"colorbar\":{\"outlinewidth\":0,\"ticks\":\"\"}},\"type\":\"scattergeo\"}],\"scattergl\":[{\"marker\":{\"colorbar\":{\"outlinewidth\":0,\"ticks\":\"\"}},\"type\":\"scattergl\"}],\"scattermapbox\":[{\"marker\":{\"colorbar\":{\"outlinewidth\":0,\"ticks\":\"\"}},\"type\":\"scattermapbox\"}],\"scatterpolar\":[{\"marker\":{\"colorbar\":{\"outlinewidth\":0,\"ticks\":\"\"}},\"type\":\"scatterpolar\"}],\"scatterpolargl\":[{\"marker\":{\"colorbar\":{\"outlinewidth\":0,\"ticks\":\"\"}},\"type\":\"scatterpolargl\"}],\"scatterternary\":[{\"marker\":{\"colorbar\":{\"outlinewidth\":0,\"ticks\":\"\"}},\"type\":\"scatterternary\"}],\"surface\":[{\"colorbar\":{\"outlinewidth\":0,\"ticks\":\"\"},\"colorscale\":[[0.0,\"#0d0887\"],[0.1111111111111111,\"#46039f\"],[0.2222222222222222,\"#7201a8\"],[0.3333333333333333,\"#9c179e\"],[0.4444444444444444,\"#bd3786\"],[0.5555555555555556,\"#d8576b\"],[0.6666666666666666,\"#ed7953\"],[0.7777777777777778,\"#fb9f3a\"],[0.8888888888888888,\"#fdca26\"],[1.0,\"#f0f921\"]],\"type\":\"surface\"}],\"table\":[{\"cells\":{\"fill\":{\"color\":\"#EBF0F8\"},\"line\":{\"color\":\"white\"}},\"header\":{\"fill\":{\"color\":\"#C8D4E3\"},\"line\":{\"color\":\"white\"}},\"type\":\"table\"}]},\"layout\":{\"annotationdefaults\":{\"arrowcolor\":\"#2a3f5f\",\"arrowhead\":0,\"arrowwidth\":1},\"autotypenumbers\":\"strict\",\"coloraxis\":{\"colorbar\":{\"outlinewidth\":0,\"ticks\":\"\"}},\"colorscale\":{\"diverging\":[[0,\"#8e0152\"],[0.1,\"#c51b7d\"],[0.2,\"#de77ae\"],[0.3,\"#f1b6da\"],[0.4,\"#fde0ef\"],[0.5,\"#f7f7f7\"],[0.6,\"#e6f5d0\"],[0.7,\"#b8e186\"],[0.8,\"#7fbc41\"],[0.9,\"#4d9221\"],[1,\"#276419\"]],\"sequential\":[[0.0,\"#0d0887\"],[0.1111111111111111,\"#46039f\"],[0.2222222222222222,\"#7201a8\"],[0.3333333333333333,\"#9c179e\"],[0.4444444444444444,\"#bd3786\"],[0.5555555555555556,\"#d8576b\"],[0.6666666666666666,\"#ed7953\"],[0.7777777777777778,\"#fb9f3a\"],[0.8888888888888888,\"#fdca26\"],[1.0,\"#f0f921\"]],\"sequentialminus\":[[0.0,\"#0d0887\"],[0.1111111111111111,\"#46039f\"],[0.2222222222222222,\"#7201a8\"],[0.3333333333333333,\"#9c179e\"],[0.4444444444444444,\"#bd3786\"],[0.5555555555555556,\"#d8576b\"],[0.6666666666666666,\"#ed7953\"],[0.7777777777777778,\"#fb9f3a\"],[0.8888888888888888,\"#fdca26\"],[1.0,\"#f0f921\"]]},\"colorway\":[\"#636efa\",\"#EF553B\",\"#00cc96\",\"#ab63fa\",\"#FFA15A\",\"#19d3f3\",\"#FF6692\",\"#B6E880\",\"#FF97FF\",\"#FECB52\"],\"font\":{\"color\":\"#2a3f5f\"},\"geo\":{\"bgcolor\":\"white\",\"lakecolor\":\"white\",\"landcolor\":\"#E5ECF6\",\"showlakes\":true,\"showland\":true,\"subunitcolor\":\"white\"},\"hoverlabel\":{\"align\":\"left\"},\"hovermode\":\"closest\",\"mapbox\":{\"style\":\"light\"},\"paper_bgcolor\":\"white\",\"plot_bgcolor\":\"#E5ECF6\",\"polar\":{\"angularaxis\":{\"gridcolor\":\"white\",\"linecolor\":\"white\",\"ticks\":\"\"},\"bgcolor\":\"#E5ECF6\",\"radialaxis\":{\"gridcolor\":\"white\",\"linecolor\":\"white\",\"ticks\":\"\"}},\"scene\":{\"xaxis\":{\"backgroundcolor\":\"#E5ECF6\",\"gridcolor\":\"white\",\"gridwidth\":2,\"linecolor\":\"white\",\"showbackground\":true,\"ticks\":\"\",\"zerolinecolor\":\"white\"},\"yaxis\":{\"backgroundcolor\":\"#E5ECF6\",\"gridcolor\":\"white\",\"gridwidth\":2,\"linecolor\":\"white\",\"showbackground\":true,\"ticks\":\"\",\"zerolinecolor\":\"white\"},\"zaxis\":{\"backgroundcolor\":\"#E5ECF6\",\"gridcolor\":\"white\",\"gridwidth\":2,\"linecolor\":\"white\",\"showbackground\":true,\"ticks\":\"\",\"zerolinecolor\":\"white\"}},\"shapedefaults\":{\"line\":{\"color\":\"#2a3f5f\"}},\"ternary\":{\"aaxis\":{\"gridcolor\":\"white\",\"linecolor\":\"white\",\"ticks\":\"\"},\"baxis\":{\"gridcolor\":\"white\",\"linecolor\":\"white\",\"ticks\":\"\"},\"bgcolor\":\"#E5ECF6\",\"caxis\":{\"gridcolor\":\"white\",\"linecolor\":\"white\",\"ticks\":\"\"}},\"title\":{\"x\":0.05},\"xaxis\":{\"automargin\":true,\"gridcolor\":\"white\",\"linecolor\":\"white\",\"ticks\":\"\",\"title\":{\"standoff\":15},\"zerolinecolor\":\"white\",\"zerolinewidth\":2},\"yaxis\":{\"automargin\":true,\"gridcolor\":\"white\",\"linecolor\":\"white\",\"ticks\":\"\",\"title\":{\"standoff\":15},\"zerolinecolor\":\"white\",\"zerolinewidth\":2}}},\"xaxis\":{\"anchor\":\"y\",\"domain\":[0.0,1.0],\"title\":{\"text\":\"Data\"}},\"yaxis\":{\"anchor\":\"x\",\"domain\":[0.0,1.0],\"title\":{\"text\":\"Corn (CBT $/bu)\"}},\"legend\":{\"tracegroupgap\":0},\"margin\":{\"t\":60}},                        {\"responsive\": true}                    ).then(function(){\n",
              "                            \n",
              "var gd = document.getElementById('f76e7c15-663a-42dc-b203-901a0c2fe9a7');\n",
              "var x = new MutationObserver(function (mutations, observer) {{\n",
              "        var display = window.getComputedStyle(gd).display;\n",
              "        if (!display || display === 'none') {{\n",
              "            console.log([gd, 'removed!']);\n",
              "            Plotly.purge(gd);\n",
              "            observer.disconnect();\n",
              "        }}\n",
              "}});\n",
              "\n",
              "// Listen for the removal of the full notebook cells\n",
              "var notebookContainer = gd.closest('#notebook-container');\n",
              "if (notebookContainer) {{\n",
              "    x.observe(notebookContainer, {childList: true});\n",
              "}}\n",
              "\n",
              "// Listen for the clearing of the current output cell\n",
              "var outputEl = gd.closest('.output');\n",
              "if (outputEl) {{\n",
              "    x.observe(outputEl, {childList: true});\n",
              "}}\n",
              "\n",
              "                        })                };                            </script>        </div>\n",
              "</body>\n",
              "</html>"
            ]
          },
          "metadata": {},
          "output_type": "display_data"
        }
      ],
      "source": [
        "df = px.data.stocks()\n",
        "fig = px.line(Dataset, x='Data', y=\"Corn (CBT $/bu)\")\n",
        "fig.show()"
      ]
    },
    {
      "cell_type": "code",
      "execution_count": null,
      "metadata": {
        "id": "UFZW9oLHKaDm"
      },
      "outputs": [],
      "source": [
        "#U.S. Dollar Index (DXY)\""
      ]
    },
    {
      "cell_type": "code",
      "execution_count": null,
      "metadata": {
        "colab": {
          "base_uri": "https://localhost:8080/",
          "height": 542
        },
        "id": "eoOTH3VyZix4",
        "outputId": "bc6baf8e-60f8-4415-a051-57dfc9a85295"
      },
      "outputs": [
        {
          "data": {
            "text/html": [
              "<html>\n",
              "<head><meta charset=\"utf-8\" /></head>\n",
              "<body>\n",
              "    <div>            <script src=\"https://cdnjs.cloudflare.com/ajax/libs/mathjax/2.7.5/MathJax.js?config=TeX-AMS-MML_SVG\"></script><script type=\"text/javascript\">if (window.MathJax) {MathJax.Hub.Config({SVG: {font: \"STIX-Web\"}});}</script>                <script type=\"text/javascript\">window.PlotlyConfig = {MathJaxConfig: 'local'};</script>\n",
              "        <script src=\"https://cdn.plot.ly/plotly-2.8.3.min.js\"></script>                <div id=\"9342a609-56a3-4e82-9734-ebf25cf0e6b2\" class=\"plotly-graph-div\" style=\"height:525px; width:100%;\"></div>            <script type=\"text/javascript\">                                    window.PLOTLYENV=window.PLOTLYENV || {};                                    if (document.getElementById(\"9342a609-56a3-4e82-9734-ebf25cf0e6b2\")) {                    Plotly.newPlot(                        \"9342a609-56a3-4e82-9734-ebf25cf0e6b2\",                        [{\"hovertemplate\":\"Data=%{x}<br>U.S. Dollar Index (DXY)=%{y}<extra></extra>\",\"legendgroup\":\"\",\"line\":{\"color\":\"#636efa\",\"dash\":\"solid\"},\"marker\":{\"symbol\":\"circle\"},\"mode\":\"lines\",\"name\":\"\",\"orientation\":\"v\",\"showlegend\":false,\"x\":[\"12-Jul-94\",\"11-ago-94\",\"12-set-94\",\"12-out-94\",\"9-Nov-94\",\"9-dez-94\",\"31-Jan-95\",\"12-fev-95\",\"12-Mar-95\",\"11-abr-95\",\"11-mai-95\",\"12-Jun-95\",\"12-Jul-95\",\"14-ago-95\",\"12-set-95\",\"11-out-95\",\"9-Nov-95\",\"12-dez-95\",\"16-Jan-96\",\"9-fev-96\",\"14-Mar-96\",\"11-abr-96\",\"10-mai-96\",\"12-Jun-96\",\"12-Jul-96\",\"12-ago-96\",\"11-set-96\",\"11-out-96\",\"12-Nov-96\",\"12-dez-96\",\"10-Jan-97\",\"12-fev-97\",\"11-Mar-97\",\"11-abr-97\",\"12-mai-97\",\"12-Jun-97\",\"11-Jul-97\",\"12-ago-97\",\"12-set-97\",\"10-out-97\",\"10-Nov-97\",\"11-dez-97\",\"13-Jan-98\",\"11-fev-98\",\"12-Mar-98\",\"9-abr-98\",\"12-mai-98\",\"12-Jun-98\",\"10-Jul-98\",\"12-ago-98\",\"11-set-98\",\"9-out-98\",\"10-Nov-98\",\"11-dez-98\",\"12-Jan-99\",\"10-fev-99\",\"11-Mar-99\",\"9-abr-99\",\"12-mai-99\",\"11-Jun-99\",\"12-Jul-99\",\"12-ago-99\",\"10-set-99\",\"8-out-99\",\"10-Nov-99\",\"10-dez-99\",\"12-Jan-00\",\"11-fev-00\",\"10-Mar-00\",\"1-abr-00\",\"12-mai-00\",\"9-Jun-00\",\"12-Jul-00\",\"11-ago-00\",\"12-set-00\",\"12-out-00\",\"9-Nov-00\",\"12-dez-00\",\"11-Jan-01\",\"8-fev-01\",\"8-Mar-01\",\"10-abr-01\",\"10-mai-01\",\"12-Jun-01\",\"11-Jul-01\",\"10-ago-01\",\"14-set-01\",\"12-out-01\",\"9-Nov-01\",\"11-dez-01\",\"11-Jan-02\",\"8-fev-02\",\"8-Mar-02\",\"10-abr-02\",\"10-mai-02\",\"12-Jun-02\",\"11-Jul-02\",\"12-ago-02\",\"12-set-02\",\"11-out-02\",\"12-Nov-02\",\"10-dez-02\",\"10-Jan-03\",\"11-fev-03\",\"11-Mar-03\",\"10-abr-03\",\"12-mai-03\",\"11-Jun-03\",\"11-Jul-03\",\"12-ago-03\",\"11-set-03\",\"10-out-03\",\"12-Nov-03\",\"11-dez-03\",\"12-Jan-04\",\"10-fev-04\",\"10-Mar-04\",\"8-abr-04\",\"12-mai-04\",\"10-Jun-04\",\"12-Jul-04\",\"12-ago-04\",\"10-set-04\",\"12-out-04\",\"12-Nov-04\",\"10-dez-04\",\"12-Jan-05\",\"9-fev-05\",\"10-Mar-05\",\"8-abr-05\",\"12-mai-05\",\"10-Jun-05\",\"12-Jul-05\",\"12-ago-05\",\"12-set-05\",\"12-out-05\",\"10-Nov-05\",\"9-dez-05\",\"12-Jan-06\",\"9-fev-06\",\"13-Mar-06\",\"10-abr-06\",\"12-mai-06\",\"9-Jun-06\",\"12-Jul-06\",\"11-ago-06\",\"12-set-06\",\"12-out-06\",\"9-Nov-06\",\"11-dez-06\",\"12-Jan-07\",\"9-fev-07\",\"9-Mar-07\",\"10-abr-07\",\"11-mai-07\",\"11-Jun-07\",\"12-Jul-07\",\"10-ago-07\",\"12-set-07\",\"12-out-07\",\"9-Nov-07\",\"11-dez-07\",\"11-Jan-08\",\"8-fev-08\",\"11-Mar-08\",\"9-abr-08\",\"9-mai-08\",\"10-Jun-08\",\"11-Jul-08\",\"12-ago-08\",\"12-set-08\",\"28-out-08\",\"10-Nov-08\",\"12-dez-08\",\"12-Jan-09\",\"10-fev-09\",\"11-Mar-09\",\"9-abr-09\",\"12-mai-09\",\"10-Jun-09\",\"10-Jul-09\",\"12-ago-09\",\"14-set-09\",\"9-out-09\",\"10-Nov-09\",\"10-dez-09\",\"12-Jan-10\",\"9-fev-10\",\"10-Mar-10\",\"9-abr-10\",\"11-mai-10\",\"10-Jun-10\",\"9-Jul-10\",\"12-ago-10\",\"10-set-10\",\"8-out-10\",\"9-Nov-10\",\"15-dez-10\",\"12-Jan-11\",\"9-fev-11\",\"10-Mar-11\",\"8-abr-11\",\"11-mai-11\",\"9-Jun-11\",\"12-Jul-11\",\"11-ago-11\",\"12-set-11\",\"12-out-11\",\"9-Nov-11\",\"9-dez-11\",\"12-Jan-12\",\"9-fev-12\",\"9-Mar-12\",\"10-abr-12\",\"10-mai-12\",\"12-Jun-12\",\"11-Jul-12\",\"10-ago-12\",\"12-set-12\",\"11-out-12\",\"9-Nov-12\",\"11-dez-12\",\"11-Jan-13\",\"8-fev-13\",\"8-Mar-13\",\"10-abr-13\",\"10-mai-13\",\"12-Jun-13\",\"11-Jul-13\",\"12-ago-13\",\"12-set-13\",\"10-out-13\",\"8-Nov-13\",\"10-dez-13\",\"23-Jan-14\",\"10-fev-14\",\"10-Mar-14\",\"9-abr-14\",\"9-mai-14\",\"11-Jun-14\",\"11-Jul-14\",\"12-ago-14\",\"11-set-14\",\"10-out-14\"],\"xaxis\":\"x\",\"y\":[89.1,89.11,87.98,86.55,87.71,89.5,88.17,87.09,83.53,81.61,82.58,82.08,81.73,84.49,85.58,83.95,84.04,84.94,86.04,86.21,86.43,87.37,88.22,88.03,87.14,86.41,87.33,87.89,86.91,88.61,90.82,94.41,95.46,96.28,95.1,95.32,97.34,99.83,98.23,96.95,96.28,98.71,100.41,99.81,100.35,100.19,99.49,100.81,101.26,101.68,97.11,93.58,95.4,94.49,94.58,97.08,99.42,100.48,101.0,102.46,102.7,100.27,99.84,98.25,100.61,101.76,101.69,104.42,105.53,106.78,110.73,107.15,108.26,111.19,114.24,116.05,116.48,112.61,110.09,111.83,113.93,115.49,116.81,118.94,118.44,114.39,113.46,114.17,116.05,116.29,117.73,118.98,117.97,116.89,113.37,109.64,105.96,107.39,107.27,107.53,105.67,104.18,100.86,99.89,99.75,99.38,94.37,93.53,95.66,97.23,95.82,92.08,91.87,88.37,86.48,86.32,88.45,89.79,90.48,89.15,88.34,88.87,88.65,86.88,83.58,81.6,83.12,83.72,82.89,84.27,85.68,88.43,89.69,87.94,88.0,89.72,91.49,90.9,89.14,90.36,89.97,88.47,84.84,85.77,85.86,85.06,85.57,86.35,84.84,83.39,84.73,84.38,83.48,82.19,82.12,82.47,80.81,80.94,79.38,77.85,75.64,76.8,75.98,75.7,72.47,72.1,72.85,73.18,72.55,76.06,78.24,83.11,86.39,83.02,84.02,86.56,86.46,85.28,82.01,80.09,79.53,78.45,77.05,76.01,75.31,76.83,77.8,80.16,80.67,81.23,85.42,86.58,83.14,82.15,81.08,77.46,78.44,80.07,79.16,77.78,76.29,74.7,74.94,74.69,74.73,74.24,76.92,77.16,77.96,79.63,80.34,78.95,79.54,79.43,80.99,82.24,83.02,82.16,79.88,79.74,80.69,79.75,79.87,80.6,82.63,82.53,83.22,81.87,82.82,81.48,81.21,79.87,80.84,80.32,80.8,80.44,79.87,79.85,79.96,80.44,80.54,81.85,84.37,85.68],\"yaxis\":\"y\",\"type\":\"scatter\"}],                        {\"template\":{\"data\":{\"bar\":[{\"error_x\":{\"color\":\"#2a3f5f\"},\"error_y\":{\"color\":\"#2a3f5f\"},\"marker\":{\"line\":{\"color\":\"#E5ECF6\",\"width\":0.5},\"pattern\":{\"fillmode\":\"overlay\",\"size\":10,\"solidity\":0.2}},\"type\":\"bar\"}],\"barpolar\":[{\"marker\":{\"line\":{\"color\":\"#E5ECF6\",\"width\":0.5},\"pattern\":{\"fillmode\":\"overlay\",\"size\":10,\"solidity\":0.2}},\"type\":\"barpolar\"}],\"carpet\":[{\"aaxis\":{\"endlinecolor\":\"#2a3f5f\",\"gridcolor\":\"white\",\"linecolor\":\"white\",\"minorgridcolor\":\"white\",\"startlinecolor\":\"#2a3f5f\"},\"baxis\":{\"endlinecolor\":\"#2a3f5f\",\"gridcolor\":\"white\",\"linecolor\":\"white\",\"minorgridcolor\":\"white\",\"startlinecolor\":\"#2a3f5f\"},\"type\":\"carpet\"}],\"choropleth\":[{\"colorbar\":{\"outlinewidth\":0,\"ticks\":\"\"},\"type\":\"choropleth\"}],\"contour\":[{\"colorbar\":{\"outlinewidth\":0,\"ticks\":\"\"},\"colorscale\":[[0.0,\"#0d0887\"],[0.1111111111111111,\"#46039f\"],[0.2222222222222222,\"#7201a8\"],[0.3333333333333333,\"#9c179e\"],[0.4444444444444444,\"#bd3786\"],[0.5555555555555556,\"#d8576b\"],[0.6666666666666666,\"#ed7953\"],[0.7777777777777778,\"#fb9f3a\"],[0.8888888888888888,\"#fdca26\"],[1.0,\"#f0f921\"]],\"type\":\"contour\"}],\"contourcarpet\":[{\"colorbar\":{\"outlinewidth\":0,\"ticks\":\"\"},\"type\":\"contourcarpet\"}],\"heatmap\":[{\"colorbar\":{\"outlinewidth\":0,\"ticks\":\"\"},\"colorscale\":[[0.0,\"#0d0887\"],[0.1111111111111111,\"#46039f\"],[0.2222222222222222,\"#7201a8\"],[0.3333333333333333,\"#9c179e\"],[0.4444444444444444,\"#bd3786\"],[0.5555555555555556,\"#d8576b\"],[0.6666666666666666,\"#ed7953\"],[0.7777777777777778,\"#fb9f3a\"],[0.8888888888888888,\"#fdca26\"],[1.0,\"#f0f921\"]],\"type\":\"heatmap\"}],\"heatmapgl\":[{\"colorbar\":{\"outlinewidth\":0,\"ticks\":\"\"},\"colorscale\":[[0.0,\"#0d0887\"],[0.1111111111111111,\"#46039f\"],[0.2222222222222222,\"#7201a8\"],[0.3333333333333333,\"#9c179e\"],[0.4444444444444444,\"#bd3786\"],[0.5555555555555556,\"#d8576b\"],[0.6666666666666666,\"#ed7953\"],[0.7777777777777778,\"#fb9f3a\"],[0.8888888888888888,\"#fdca26\"],[1.0,\"#f0f921\"]],\"type\":\"heatmapgl\"}],\"histogram\":[{\"marker\":{\"pattern\":{\"fillmode\":\"overlay\",\"size\":10,\"solidity\":0.2}},\"type\":\"histogram\"}],\"histogram2d\":[{\"colorbar\":{\"outlinewidth\":0,\"ticks\":\"\"},\"colorscale\":[[0.0,\"#0d0887\"],[0.1111111111111111,\"#46039f\"],[0.2222222222222222,\"#7201a8\"],[0.3333333333333333,\"#9c179e\"],[0.4444444444444444,\"#bd3786\"],[0.5555555555555556,\"#d8576b\"],[0.6666666666666666,\"#ed7953\"],[0.7777777777777778,\"#fb9f3a\"],[0.8888888888888888,\"#fdca26\"],[1.0,\"#f0f921\"]],\"type\":\"histogram2d\"}],\"histogram2dcontour\":[{\"colorbar\":{\"outlinewidth\":0,\"ticks\":\"\"},\"colorscale\":[[0.0,\"#0d0887\"],[0.1111111111111111,\"#46039f\"],[0.2222222222222222,\"#7201a8\"],[0.3333333333333333,\"#9c179e\"],[0.4444444444444444,\"#bd3786\"],[0.5555555555555556,\"#d8576b\"],[0.6666666666666666,\"#ed7953\"],[0.7777777777777778,\"#fb9f3a\"],[0.8888888888888888,\"#fdca26\"],[1.0,\"#f0f921\"]],\"type\":\"histogram2dcontour\"}],\"mesh3d\":[{\"colorbar\":{\"outlinewidth\":0,\"ticks\":\"\"},\"type\":\"mesh3d\"}],\"parcoords\":[{\"line\":{\"colorbar\":{\"outlinewidth\":0,\"ticks\":\"\"}},\"type\":\"parcoords\"}],\"pie\":[{\"automargin\":true,\"type\":\"pie\"}],\"scatter\":[{\"marker\":{\"colorbar\":{\"outlinewidth\":0,\"ticks\":\"\"}},\"type\":\"scatter\"}],\"scatter3d\":[{\"line\":{\"colorbar\":{\"outlinewidth\":0,\"ticks\":\"\"}},\"marker\":{\"colorbar\":{\"outlinewidth\":0,\"ticks\":\"\"}},\"type\":\"scatter3d\"}],\"scattercarpet\":[{\"marker\":{\"colorbar\":{\"outlinewidth\":0,\"ticks\":\"\"}},\"type\":\"scattercarpet\"}],\"scattergeo\":[{\"marker\":{\"colorbar\":{\"outlinewidth\":0,\"ticks\":\"\"}},\"type\":\"scattergeo\"}],\"scattergl\":[{\"marker\":{\"colorbar\":{\"outlinewidth\":0,\"ticks\":\"\"}},\"type\":\"scattergl\"}],\"scattermapbox\":[{\"marker\":{\"colorbar\":{\"outlinewidth\":0,\"ticks\":\"\"}},\"type\":\"scattermapbox\"}],\"scatterpolar\":[{\"marker\":{\"colorbar\":{\"outlinewidth\":0,\"ticks\":\"\"}},\"type\":\"scatterpolar\"}],\"scatterpolargl\":[{\"marker\":{\"colorbar\":{\"outlinewidth\":0,\"ticks\":\"\"}},\"type\":\"scatterpolargl\"}],\"scatterternary\":[{\"marker\":{\"colorbar\":{\"outlinewidth\":0,\"ticks\":\"\"}},\"type\":\"scatterternary\"}],\"surface\":[{\"colorbar\":{\"outlinewidth\":0,\"ticks\":\"\"},\"colorscale\":[[0.0,\"#0d0887\"],[0.1111111111111111,\"#46039f\"],[0.2222222222222222,\"#7201a8\"],[0.3333333333333333,\"#9c179e\"],[0.4444444444444444,\"#bd3786\"],[0.5555555555555556,\"#d8576b\"],[0.6666666666666666,\"#ed7953\"],[0.7777777777777778,\"#fb9f3a\"],[0.8888888888888888,\"#fdca26\"],[1.0,\"#f0f921\"]],\"type\":\"surface\"}],\"table\":[{\"cells\":{\"fill\":{\"color\":\"#EBF0F8\"},\"line\":{\"color\":\"white\"}},\"header\":{\"fill\":{\"color\":\"#C8D4E3\"},\"line\":{\"color\":\"white\"}},\"type\":\"table\"}]},\"layout\":{\"annotationdefaults\":{\"arrowcolor\":\"#2a3f5f\",\"arrowhead\":0,\"arrowwidth\":1},\"autotypenumbers\":\"strict\",\"coloraxis\":{\"colorbar\":{\"outlinewidth\":0,\"ticks\":\"\"}},\"colorscale\":{\"diverging\":[[0,\"#8e0152\"],[0.1,\"#c51b7d\"],[0.2,\"#de77ae\"],[0.3,\"#f1b6da\"],[0.4,\"#fde0ef\"],[0.5,\"#f7f7f7\"],[0.6,\"#e6f5d0\"],[0.7,\"#b8e186\"],[0.8,\"#7fbc41\"],[0.9,\"#4d9221\"],[1,\"#276419\"]],\"sequential\":[[0.0,\"#0d0887\"],[0.1111111111111111,\"#46039f\"],[0.2222222222222222,\"#7201a8\"],[0.3333333333333333,\"#9c179e\"],[0.4444444444444444,\"#bd3786\"],[0.5555555555555556,\"#d8576b\"],[0.6666666666666666,\"#ed7953\"],[0.7777777777777778,\"#fb9f3a\"],[0.8888888888888888,\"#fdca26\"],[1.0,\"#f0f921\"]],\"sequentialminus\":[[0.0,\"#0d0887\"],[0.1111111111111111,\"#46039f\"],[0.2222222222222222,\"#7201a8\"],[0.3333333333333333,\"#9c179e\"],[0.4444444444444444,\"#bd3786\"],[0.5555555555555556,\"#d8576b\"],[0.6666666666666666,\"#ed7953\"],[0.7777777777777778,\"#fb9f3a\"],[0.8888888888888888,\"#fdca26\"],[1.0,\"#f0f921\"]]},\"colorway\":[\"#636efa\",\"#EF553B\",\"#00cc96\",\"#ab63fa\",\"#FFA15A\",\"#19d3f3\",\"#FF6692\",\"#B6E880\",\"#FF97FF\",\"#FECB52\"],\"font\":{\"color\":\"#2a3f5f\"},\"geo\":{\"bgcolor\":\"white\",\"lakecolor\":\"white\",\"landcolor\":\"#E5ECF6\",\"showlakes\":true,\"showland\":true,\"subunitcolor\":\"white\"},\"hoverlabel\":{\"align\":\"left\"},\"hovermode\":\"closest\",\"mapbox\":{\"style\":\"light\"},\"paper_bgcolor\":\"white\",\"plot_bgcolor\":\"#E5ECF6\",\"polar\":{\"angularaxis\":{\"gridcolor\":\"white\",\"linecolor\":\"white\",\"ticks\":\"\"},\"bgcolor\":\"#E5ECF6\",\"radialaxis\":{\"gridcolor\":\"white\",\"linecolor\":\"white\",\"ticks\":\"\"}},\"scene\":{\"xaxis\":{\"backgroundcolor\":\"#E5ECF6\",\"gridcolor\":\"white\",\"gridwidth\":2,\"linecolor\":\"white\",\"showbackground\":true,\"ticks\":\"\",\"zerolinecolor\":\"white\"},\"yaxis\":{\"backgroundcolor\":\"#E5ECF6\",\"gridcolor\":\"white\",\"gridwidth\":2,\"linecolor\":\"white\",\"showbackground\":true,\"ticks\":\"\",\"zerolinecolor\":\"white\"},\"zaxis\":{\"backgroundcolor\":\"#E5ECF6\",\"gridcolor\":\"white\",\"gridwidth\":2,\"linecolor\":\"white\",\"showbackground\":true,\"ticks\":\"\",\"zerolinecolor\":\"white\"}},\"shapedefaults\":{\"line\":{\"color\":\"#2a3f5f\"}},\"ternary\":{\"aaxis\":{\"gridcolor\":\"white\",\"linecolor\":\"white\",\"ticks\":\"\"},\"baxis\":{\"gridcolor\":\"white\",\"linecolor\":\"white\",\"ticks\":\"\"},\"bgcolor\":\"#E5ECF6\",\"caxis\":{\"gridcolor\":\"white\",\"linecolor\":\"white\",\"ticks\":\"\"}},\"title\":{\"x\":0.05},\"xaxis\":{\"automargin\":true,\"gridcolor\":\"white\",\"linecolor\":\"white\",\"ticks\":\"\",\"title\":{\"standoff\":15},\"zerolinecolor\":\"white\",\"zerolinewidth\":2},\"yaxis\":{\"automargin\":true,\"gridcolor\":\"white\",\"linecolor\":\"white\",\"ticks\":\"\",\"title\":{\"standoff\":15},\"zerolinecolor\":\"white\",\"zerolinewidth\":2}}},\"xaxis\":{\"anchor\":\"y\",\"domain\":[0.0,1.0],\"title\":{\"text\":\"Data\"}},\"yaxis\":{\"anchor\":\"x\",\"domain\":[0.0,1.0],\"title\":{\"text\":\"U.S. Dollar Index (DXY)\"}},\"legend\":{\"tracegroupgap\":0},\"margin\":{\"t\":60}},                        {\"responsive\": true}                    ).then(function(){\n",
              "                            \n",
              "var gd = document.getElementById('9342a609-56a3-4e82-9734-ebf25cf0e6b2');\n",
              "var x = new MutationObserver(function (mutations, observer) {{\n",
              "        var display = window.getComputedStyle(gd).display;\n",
              "        if (!display || display === 'none') {{\n",
              "            console.log([gd, 'removed!']);\n",
              "            Plotly.purge(gd);\n",
              "            observer.disconnect();\n",
              "        }}\n",
              "}});\n",
              "\n",
              "// Listen for the removal of the full notebook cells\n",
              "var notebookContainer = gd.closest('#notebook-container');\n",
              "if (notebookContainer) {{\n",
              "    x.observe(notebookContainer, {childList: true});\n",
              "}}\n",
              "\n",
              "// Listen for the clearing of the current output cell\n",
              "var outputEl = gd.closest('.output');\n",
              "if (outputEl) {{\n",
              "    x.observe(outputEl, {childList: true});\n",
              "}}\n",
              "\n",
              "                        })                };                            </script>        </div>\n",
              "</body>\n",
              "</html>"
            ]
          },
          "metadata": {},
          "output_type": "display_data"
        }
      ],
      "source": [
        "df = px.data.stocks()\n",
        "fig = px.line(Dataset, x='Data', y=\"U.S. Dollar Index (DXY)\")\n",
        "fig.show()"
      ]
    },
    {
      "cell_type": "code",
      "execution_count": null,
      "metadata": {
        "colab": {
          "base_uri": "https://localhost:8080/",
          "height": 542
        },
        "id": "6CNK4fO8VouL",
        "outputId": "1859371a-0c29-4e0c-a4e4-0059efc42b14"
      },
      "outputs": [
        {
          "data": {
            "text/html": [
              "<html>\n",
              "<head><meta charset=\"utf-8\" /></head>\n",
              "<body>\n",
              "    <div>            <script src=\"https://cdnjs.cloudflare.com/ajax/libs/mathjax/2.7.5/MathJax.js?config=TeX-AMS-MML_SVG\"></script><script type=\"text/javascript\">if (window.MathJax) {MathJax.Hub.Config({SVG: {font: \"STIX-Web\"}});}</script>                <script type=\"text/javascript\">window.PlotlyConfig = {MathJaxConfig: 'local'};</script>\n",
              "        <script src=\"https://cdn.plot.ly/plotly-2.8.3.min.js\"></script>                <div id=\"8e212d3a-0a3b-4944-89cc-193db6c97d30\" class=\"plotly-graph-div\" style=\"height:525px; width:100%;\"></div>            <script type=\"text/javascript\">                                    window.PLOTLYENV=window.PLOTLYENV || {};                                    if (document.getElementById(\"8e212d3a-0a3b-4944-89cc-193db6c97d30\")) {                    Plotly.newPlot(                        \"8e212d3a-0a3b-4944-89cc-193db6c97d30\",                        [{\"hovertemplate\":\"Data=%{x}<br>y=%{y}<extra></extra>\",\"legendgroup\":\"\",\"line\":{\"color\":\"#636efa\",\"dash\":\"solid\"},\"marker\":{\"symbol\":\"circle\"},\"mode\":\"lines\",\"name\":\"\",\"orientation\":\"v\",\"showlegend\":false,\"x\":[\"12-Jul-94\",\"11-ago-94\",\"12-set-94\",\"12-out-94\",\"9-Nov-94\",\"9-dez-94\",\"31-Jan-95\",\"12-fev-95\",\"12-Mar-95\",\"11-abr-95\",\"11-mai-95\",\"12-Jun-95\",\"12-Jul-95\",\"14-ago-95\",\"12-set-95\",\"11-out-95\",\"9-Nov-95\",\"12-dez-95\",\"16-Jan-96\",\"9-fev-96\",\"14-Mar-96\",\"11-abr-96\",\"10-mai-96\",\"12-Jun-96\",\"12-Jul-96\",\"12-ago-96\",\"11-set-96\",\"11-out-96\",\"12-Nov-96\",\"12-dez-96\",\"10-Jan-97\",\"12-fev-97\",\"11-Mar-97\",\"11-abr-97\",\"12-mai-97\",\"12-Jun-97\",\"11-Jul-97\",\"12-ago-97\",\"12-set-97\",\"10-out-97\",\"10-Nov-97\",\"11-dez-97\",\"13-Jan-98\",\"11-fev-98\",\"12-Mar-98\",\"9-abr-98\",\"12-mai-98\",\"12-Jun-98\",\"10-Jul-98\",\"12-ago-98\",\"11-set-98\",\"9-out-98\",\"10-Nov-98\",\"11-dez-98\",\"12-Jan-99\",\"10-fev-99\",\"11-Mar-99\",\"9-abr-99\",\"12-mai-99\",\"11-Jun-99\",\"12-Jul-99\",\"12-ago-99\",\"10-set-99\",\"8-out-99\",\"10-Nov-99\",\"10-dez-99\",\"12-Jan-00\",\"11-fev-00\",\"10-Mar-00\",\"1-abr-00\",\"12-mai-00\",\"9-Jun-00\",\"12-Jul-00\",\"11-ago-00\",\"12-set-00\",\"12-out-00\",\"9-Nov-00\",\"12-dez-00\",\"11-Jan-01\",\"8-fev-01\",\"8-Mar-01\",\"10-abr-01\",\"10-mai-01\",\"12-Jun-01\",\"11-Jul-01\",\"10-ago-01\",\"14-set-01\",\"12-out-01\",\"9-Nov-01\",\"11-dez-01\",\"11-Jan-02\",\"8-fev-02\",\"8-Mar-02\",\"10-abr-02\",\"10-mai-02\",\"12-Jun-02\",\"11-Jul-02\",\"12-ago-02\",\"12-set-02\",\"11-out-02\",\"12-Nov-02\",\"10-dez-02\",\"10-Jan-03\",\"11-fev-03\",\"11-Mar-03\",\"10-abr-03\",\"12-mai-03\",\"11-Jun-03\",\"11-Jul-03\",\"12-ago-03\",\"11-set-03\",\"10-out-03\",\"12-Nov-03\",\"11-dez-03\",\"12-Jan-04\",\"10-fev-04\",\"10-Mar-04\",\"8-abr-04\",\"12-mai-04\",\"10-Jun-04\",\"12-Jul-04\",\"12-ago-04\",\"10-set-04\",\"12-out-04\",\"12-Nov-04\",\"10-dez-04\",\"12-Jan-05\",\"9-fev-05\",\"10-Mar-05\",\"8-abr-05\",\"12-mai-05\",\"10-Jun-05\",\"12-Jul-05\",\"12-ago-05\",\"12-set-05\",\"12-out-05\",\"10-Nov-05\",\"9-dez-05\",\"12-Jan-06\",\"9-fev-06\",\"13-Mar-06\",\"10-abr-06\",\"12-mai-06\",\"9-Jun-06\",\"12-Jul-06\",\"11-ago-06\",\"12-set-06\",\"12-out-06\",\"9-Nov-06\",\"11-dez-06\",\"12-Jan-07\",\"9-fev-07\",\"9-Mar-07\",\"10-abr-07\",\"11-mai-07\",\"11-Jun-07\",\"12-Jul-07\",\"10-ago-07\",\"12-set-07\",\"12-out-07\",\"9-Nov-07\",\"11-dez-07\",\"11-Jan-08\",\"8-fev-08\",\"11-Mar-08\",\"9-abr-08\",\"9-mai-08\",\"10-Jun-08\",\"11-Jul-08\",\"12-ago-08\",\"12-set-08\",\"28-out-08\",\"10-Nov-08\",\"12-dez-08\",\"12-Jan-09\",\"10-fev-09\",\"11-Mar-09\",\"9-abr-09\",\"12-mai-09\",\"10-Jun-09\",\"10-Jul-09\",\"12-ago-09\",\"14-set-09\",\"9-out-09\",\"10-Nov-09\",\"10-dez-09\",\"12-Jan-10\",\"9-fev-10\",\"10-Mar-10\",\"9-abr-10\",\"11-mai-10\",\"10-Jun-10\",\"9-Jul-10\",\"12-ago-10\",\"10-set-10\",\"8-out-10\",\"9-Nov-10\",\"15-dez-10\",\"12-Jan-11\",\"9-fev-11\",\"10-Mar-11\",\"8-abr-11\",\"11-mai-11\",\"9-Jun-11\",\"12-Jul-11\",\"11-ago-11\",\"12-set-11\",\"12-out-11\",\"9-Nov-11\",\"9-dez-11\",\"12-Jan-12\",\"9-fev-12\",\"9-Mar-12\",\"10-abr-12\",\"10-mai-12\",\"12-Jun-12\",\"11-Jul-12\",\"10-ago-12\",\"12-set-12\",\"11-out-12\",\"9-Nov-12\",\"11-dez-12\",\"11-Jan-13\",\"8-fev-13\",\"8-Mar-13\",\"10-abr-13\",\"10-mai-13\",\"12-Jun-13\",\"11-Jul-13\",\"12-ago-13\",\"12-set-13\",\"10-out-13\",\"8-Nov-13\",\"10-dez-13\",\"23-Jan-14\",\"10-fev-14\",\"10-Mar-14\",\"9-abr-14\",\"9-mai-14\",\"11-Jun-14\",\"11-Jul-14\",\"12-ago-14\",\"11-set-14\",\"10-out-14\"],\"xaxis\":\"x\",\"y\":[4.489759334476764,4.4898715616246285,4.477109515920573,4.4607222816222185,4.47403591796329,4.4942386252808095,4.479266769098936,4.466942066704648,4.425205848767815,4.401951803481151,4.413767520457944,4.407694381422459,4.403421131528038,4.436633184164753,4.449451610988671,4.43022138352355,4.4312928759767996,4.441945124885125,4.454812304399529,4.456786180221833,4.459334837764547,4.470151974310003,4.479833694676794,4.4776776654728145,4.467516020689296,4.4591034098533076,4.469694046425642,4.4760860325765535,4.464873100449369,4.484244718059211,4.508879525669805,4.547646999744425,4.55870731157775,4.567260612914871,4.554928969551344,4.557239652230542,4.5782100044053085,4.603468739348334,4.5873116676867784,4.574195381688661,4.567260612914871,4.5921862584297966,4.609261803891345,4.603268378698495,4.608664075242347,4.607068383271171,4.600057136601269,4.61323755706585,4.617691466541763,4.621830626881199,4.575844356606263,4.5388166854380705,4.558078578454241,4.548494008794535,4.54944603721573,4.5755353808584,4.599353300666526,4.609958702719888,4.61512051684126,4.629472478511056,4.631812116934513,4.607866547535834,4.603568904621118,4.58751525074937,4.611251656303959,4.622617099591812,4.621928969803046,4.648421227982406,4.658995272682999,4.67077064307204,4.707094805710017,4.674229721919586,4.6845357413688316,4.711240449715158,4.738301498591274,4.754021132720446,4.757719584448376,4.723930521708934,4.701298213082312,4.716979861040097,4.735584224710024,4.749183946126996,4.760548683167605,4.778619164278448,4.774406503233391,4.739613662537582,4.731450351898421,4.737688565688236,4.754021132720446,4.756087071304952,4.768393867090105,4.7789554117597595,4.770430354853751,4.761233321619679,4.730656806029507,4.697202271434585,4.663061664403869,4.676467067870125,4.675349020609338,4.677769878402435,4.660321030452939,4.646120172317046,4.6137334166485795,4.604069580544058,4.602667055769973,4.598950886174174,4.547223226033242,4.53828224044646,4.560800238252151,4.577079305821566,4.562471431454976,4.522657764413627,4.520374534283375,4.481532545529913,4.4599131733309525,4.458061320949879,4.482437420605795,4.497473610532717,4.505128831807865,4.49032034430915,4.481193006168381,4.487174627750384,4.484696032520217,4.464527856185625,4.425804257019769,4.401829261970061,4.420285346790972,4.427477897577799,4.417514427603435,4.434025929784262,4.450619426139493,4.482211278587644,4.496359280129911,4.476654763752664,4.477336814478207,4.496693709652008,4.516229676691444,4.509760001183433,4.49020816751841,4.5038016915998025,4.499476281429027,4.482663511495295,4.440767129696482,4.45166929500233,4.452718062796414,4.443356889825488,4.449334754429963,4.458408804592688,4.440767129696482,4.423528398098894,4.439469730210373,4.435330406696193,4.4246070822090005,4.409033640160408,4.408181592150733,4.4124345908452645,4.392100720245356,4.393708139447719,4.37424644735492,4.354783898280007,4.325985243790257,4.341204640153626,4.330470147759479,4.3267781604434035,4.28317268312119,4.278054044290903,4.288402532641213,4.292922159591061,4.2842759793301965,4.331522502500114,4.359781025726562,4.420165031564935,4.458871928370793,4.419081542624893,4.431054865741236,4.460837815098172,4.4596818792394854,4.445939960417534,4.40684119104832,4.383151002335591,4.376134308969044,4.362461479179042,4.344454561766125,4.330864910577949,4.32161292811326,4.341595188879544,4.354141431184346,4.384024637336554,4.390366758948883,4.397284637062863,4.44758026541332,4.461068842013835,4.420525933824491,4.408546844483277,4.395436321583799,4.349761674086606,4.362334001328145,4.382901252084542,4.371471120734365,4.3538843287276014,4.334541868102138,4.3134800921387715,4.316687793365541,4.313346214368975,4.313881617942199,4.307303088477945,4.342765920720579,4.345881188037528,4.35619587463936,4.377390906269353,4.386267628931136,4.3688147407016515,4.376260039779544,4.374876130645041,4.3943256902608985,4.409641801706855,4.419081542624893,4.408668565620303,4.380525508547614,4.378771341953209,4.390614651860415,4.378896741664954,4.380400312929297,4.389498649512583,4.414372810713093,4.413161863604593,4.421487703554795,4.405132623388357,4.416669578117421,4.400357591358605,4.397038392294319,4.380400312929297,4.39247189253542,4.386018655943419,4.39197696552705,4.387511564904451,4.380400312929297,4.380149874661021,4.3815265096322,4.387511564904451,4.388753955423308,4.404888303817144,4.435211888177536,4.450619426139493],\"yaxis\":\"y\",\"type\":\"scatter\"}],                        {\"template\":{\"data\":{\"bar\":[{\"error_x\":{\"color\":\"#2a3f5f\"},\"error_y\":{\"color\":\"#2a3f5f\"},\"marker\":{\"line\":{\"color\":\"#E5ECF6\",\"width\":0.5},\"pattern\":{\"fillmode\":\"overlay\",\"size\":10,\"solidity\":0.2}},\"type\":\"bar\"}],\"barpolar\":[{\"marker\":{\"line\":{\"color\":\"#E5ECF6\",\"width\":0.5},\"pattern\":{\"fillmode\":\"overlay\",\"size\":10,\"solidity\":0.2}},\"type\":\"barpolar\"}],\"carpet\":[{\"aaxis\":{\"endlinecolor\":\"#2a3f5f\",\"gridcolor\":\"white\",\"linecolor\":\"white\",\"minorgridcolor\":\"white\",\"startlinecolor\":\"#2a3f5f\"},\"baxis\":{\"endlinecolor\":\"#2a3f5f\",\"gridcolor\":\"white\",\"linecolor\":\"white\",\"minorgridcolor\":\"white\",\"startlinecolor\":\"#2a3f5f\"},\"type\":\"carpet\"}],\"choropleth\":[{\"colorbar\":{\"outlinewidth\":0,\"ticks\":\"\"},\"type\":\"choropleth\"}],\"contour\":[{\"colorbar\":{\"outlinewidth\":0,\"ticks\":\"\"},\"colorscale\":[[0.0,\"#0d0887\"],[0.1111111111111111,\"#46039f\"],[0.2222222222222222,\"#7201a8\"],[0.3333333333333333,\"#9c179e\"],[0.4444444444444444,\"#bd3786\"],[0.5555555555555556,\"#d8576b\"],[0.6666666666666666,\"#ed7953\"],[0.7777777777777778,\"#fb9f3a\"],[0.8888888888888888,\"#fdca26\"],[1.0,\"#f0f921\"]],\"type\":\"contour\"}],\"contourcarpet\":[{\"colorbar\":{\"outlinewidth\":0,\"ticks\":\"\"},\"type\":\"contourcarpet\"}],\"heatmap\":[{\"colorbar\":{\"outlinewidth\":0,\"ticks\":\"\"},\"colorscale\":[[0.0,\"#0d0887\"],[0.1111111111111111,\"#46039f\"],[0.2222222222222222,\"#7201a8\"],[0.3333333333333333,\"#9c179e\"],[0.4444444444444444,\"#bd3786\"],[0.5555555555555556,\"#d8576b\"],[0.6666666666666666,\"#ed7953\"],[0.7777777777777778,\"#fb9f3a\"],[0.8888888888888888,\"#fdca26\"],[1.0,\"#f0f921\"]],\"type\":\"heatmap\"}],\"heatmapgl\":[{\"colorbar\":{\"outlinewidth\":0,\"ticks\":\"\"},\"colorscale\":[[0.0,\"#0d0887\"],[0.1111111111111111,\"#46039f\"],[0.2222222222222222,\"#7201a8\"],[0.3333333333333333,\"#9c179e\"],[0.4444444444444444,\"#bd3786\"],[0.5555555555555556,\"#d8576b\"],[0.6666666666666666,\"#ed7953\"],[0.7777777777777778,\"#fb9f3a\"],[0.8888888888888888,\"#fdca26\"],[1.0,\"#f0f921\"]],\"type\":\"heatmapgl\"}],\"histogram\":[{\"marker\":{\"pattern\":{\"fillmode\":\"overlay\",\"size\":10,\"solidity\":0.2}},\"type\":\"histogram\"}],\"histogram2d\":[{\"colorbar\":{\"outlinewidth\":0,\"ticks\":\"\"},\"colorscale\":[[0.0,\"#0d0887\"],[0.1111111111111111,\"#46039f\"],[0.2222222222222222,\"#7201a8\"],[0.3333333333333333,\"#9c179e\"],[0.4444444444444444,\"#bd3786\"],[0.5555555555555556,\"#d8576b\"],[0.6666666666666666,\"#ed7953\"],[0.7777777777777778,\"#fb9f3a\"],[0.8888888888888888,\"#fdca26\"],[1.0,\"#f0f921\"]],\"type\":\"histogram2d\"}],\"histogram2dcontour\":[{\"colorbar\":{\"outlinewidth\":0,\"ticks\":\"\"},\"colorscale\":[[0.0,\"#0d0887\"],[0.1111111111111111,\"#46039f\"],[0.2222222222222222,\"#7201a8\"],[0.3333333333333333,\"#9c179e\"],[0.4444444444444444,\"#bd3786\"],[0.5555555555555556,\"#d8576b\"],[0.6666666666666666,\"#ed7953\"],[0.7777777777777778,\"#fb9f3a\"],[0.8888888888888888,\"#fdca26\"],[1.0,\"#f0f921\"]],\"type\":\"histogram2dcontour\"}],\"mesh3d\":[{\"colorbar\":{\"outlinewidth\":0,\"ticks\":\"\"},\"type\":\"mesh3d\"}],\"parcoords\":[{\"line\":{\"colorbar\":{\"outlinewidth\":0,\"ticks\":\"\"}},\"type\":\"parcoords\"}],\"pie\":[{\"automargin\":true,\"type\":\"pie\"}],\"scatter\":[{\"marker\":{\"colorbar\":{\"outlinewidth\":0,\"ticks\":\"\"}},\"type\":\"scatter\"}],\"scatter3d\":[{\"line\":{\"colorbar\":{\"outlinewidth\":0,\"ticks\":\"\"}},\"marker\":{\"colorbar\":{\"outlinewidth\":0,\"ticks\":\"\"}},\"type\":\"scatter3d\"}],\"scattercarpet\":[{\"marker\":{\"colorbar\":{\"outlinewidth\":0,\"ticks\":\"\"}},\"type\":\"scattercarpet\"}],\"scattergeo\":[{\"marker\":{\"colorbar\":{\"outlinewidth\":0,\"ticks\":\"\"}},\"type\":\"scattergeo\"}],\"scattergl\":[{\"marker\":{\"colorbar\":{\"outlinewidth\":0,\"ticks\":\"\"}},\"type\":\"scattergl\"}],\"scattermapbox\":[{\"marker\":{\"colorbar\":{\"outlinewidth\":0,\"ticks\":\"\"}},\"type\":\"scattermapbox\"}],\"scatterpolar\":[{\"marker\":{\"colorbar\":{\"outlinewidth\":0,\"ticks\":\"\"}},\"type\":\"scatterpolar\"}],\"scatterpolargl\":[{\"marker\":{\"colorbar\":{\"outlinewidth\":0,\"ticks\":\"\"}},\"type\":\"scatterpolargl\"}],\"scatterternary\":[{\"marker\":{\"colorbar\":{\"outlinewidth\":0,\"ticks\":\"\"}},\"type\":\"scatterternary\"}],\"surface\":[{\"colorbar\":{\"outlinewidth\":0,\"ticks\":\"\"},\"colorscale\":[[0.0,\"#0d0887\"],[0.1111111111111111,\"#46039f\"],[0.2222222222222222,\"#7201a8\"],[0.3333333333333333,\"#9c179e\"],[0.4444444444444444,\"#bd3786\"],[0.5555555555555556,\"#d8576b\"],[0.6666666666666666,\"#ed7953\"],[0.7777777777777778,\"#fb9f3a\"],[0.8888888888888888,\"#fdca26\"],[1.0,\"#f0f921\"]],\"type\":\"surface\"}],\"table\":[{\"cells\":{\"fill\":{\"color\":\"#EBF0F8\"},\"line\":{\"color\":\"white\"}},\"header\":{\"fill\":{\"color\":\"#C8D4E3\"},\"line\":{\"color\":\"white\"}},\"type\":\"table\"}]},\"layout\":{\"annotationdefaults\":{\"arrowcolor\":\"#2a3f5f\",\"arrowhead\":0,\"arrowwidth\":1},\"autotypenumbers\":\"strict\",\"coloraxis\":{\"colorbar\":{\"outlinewidth\":0,\"ticks\":\"\"}},\"colorscale\":{\"diverging\":[[0,\"#8e0152\"],[0.1,\"#c51b7d\"],[0.2,\"#de77ae\"],[0.3,\"#f1b6da\"],[0.4,\"#fde0ef\"],[0.5,\"#f7f7f7\"],[0.6,\"#e6f5d0\"],[0.7,\"#b8e186\"],[0.8,\"#7fbc41\"],[0.9,\"#4d9221\"],[1,\"#276419\"]],\"sequential\":[[0.0,\"#0d0887\"],[0.1111111111111111,\"#46039f\"],[0.2222222222222222,\"#7201a8\"],[0.3333333333333333,\"#9c179e\"],[0.4444444444444444,\"#bd3786\"],[0.5555555555555556,\"#d8576b\"],[0.6666666666666666,\"#ed7953\"],[0.7777777777777778,\"#fb9f3a\"],[0.8888888888888888,\"#fdca26\"],[1.0,\"#f0f921\"]],\"sequentialminus\":[[0.0,\"#0d0887\"],[0.1111111111111111,\"#46039f\"],[0.2222222222222222,\"#7201a8\"],[0.3333333333333333,\"#9c179e\"],[0.4444444444444444,\"#bd3786\"],[0.5555555555555556,\"#d8576b\"],[0.6666666666666666,\"#ed7953\"],[0.7777777777777778,\"#fb9f3a\"],[0.8888888888888888,\"#fdca26\"],[1.0,\"#f0f921\"]]},\"colorway\":[\"#636efa\",\"#EF553B\",\"#00cc96\",\"#ab63fa\",\"#FFA15A\",\"#19d3f3\",\"#FF6692\",\"#B6E880\",\"#FF97FF\",\"#FECB52\"],\"font\":{\"color\":\"#2a3f5f\"},\"geo\":{\"bgcolor\":\"white\",\"lakecolor\":\"white\",\"landcolor\":\"#E5ECF6\",\"showlakes\":true,\"showland\":true,\"subunitcolor\":\"white\"},\"hoverlabel\":{\"align\":\"left\"},\"hovermode\":\"closest\",\"mapbox\":{\"style\":\"light\"},\"paper_bgcolor\":\"white\",\"plot_bgcolor\":\"#E5ECF6\",\"polar\":{\"angularaxis\":{\"gridcolor\":\"white\",\"linecolor\":\"white\",\"ticks\":\"\"},\"bgcolor\":\"#E5ECF6\",\"radialaxis\":{\"gridcolor\":\"white\",\"linecolor\":\"white\",\"ticks\":\"\"}},\"scene\":{\"xaxis\":{\"backgroundcolor\":\"#E5ECF6\",\"gridcolor\":\"white\",\"gridwidth\":2,\"linecolor\":\"white\",\"showbackground\":true,\"ticks\":\"\",\"zerolinecolor\":\"white\"},\"yaxis\":{\"backgroundcolor\":\"#E5ECF6\",\"gridcolor\":\"white\",\"gridwidth\":2,\"linecolor\":\"white\",\"showbackground\":true,\"ticks\":\"\",\"zerolinecolor\":\"white\"},\"zaxis\":{\"backgroundcolor\":\"#E5ECF6\",\"gridcolor\":\"white\",\"gridwidth\":2,\"linecolor\":\"white\",\"showbackground\":true,\"ticks\":\"\",\"zerolinecolor\":\"white\"}},\"shapedefaults\":{\"line\":{\"color\":\"#2a3f5f\"}},\"ternary\":{\"aaxis\":{\"gridcolor\":\"white\",\"linecolor\":\"white\",\"ticks\":\"\"},\"baxis\":{\"gridcolor\":\"white\",\"linecolor\":\"white\",\"ticks\":\"\"},\"bgcolor\":\"#E5ECF6\",\"caxis\":{\"gridcolor\":\"white\",\"linecolor\":\"white\",\"ticks\":\"\"}},\"title\":{\"x\":0.05},\"xaxis\":{\"automargin\":true,\"gridcolor\":\"white\",\"linecolor\":\"white\",\"ticks\":\"\",\"title\":{\"standoff\":15},\"zerolinecolor\":\"white\",\"zerolinewidth\":2},\"yaxis\":{\"automargin\":true,\"gridcolor\":\"white\",\"linecolor\":\"white\",\"ticks\":\"\",\"title\":{\"standoff\":15},\"zerolinecolor\":\"white\",\"zerolinewidth\":2}}},\"xaxis\":{\"anchor\":\"y\",\"domain\":[0.0,1.0],\"title\":{\"text\":\"Data\"}},\"yaxis\":{\"anchor\":\"x\",\"domain\":[0.0,1.0],\"title\":{\"text\":\"y\"}},\"legend\":{\"tracegroupgap\":0},\"margin\":{\"t\":60}},                        {\"responsive\": true}                    ).then(function(){\n",
              "                            \n",
              "var gd = document.getElementById('8e212d3a-0a3b-4944-89cc-193db6c97d30');\n",
              "var x = new MutationObserver(function (mutations, observer) {{\n",
              "        var display = window.getComputedStyle(gd).display;\n",
              "        if (!display || display === 'none') {{\n",
              "            console.log([gd, 'removed!']);\n",
              "            Plotly.purge(gd);\n",
              "            observer.disconnect();\n",
              "        }}\n",
              "}});\n",
              "\n",
              "// Listen for the removal of the full notebook cells\n",
              "var notebookContainer = gd.closest('#notebook-container');\n",
              "if (notebookContainer) {{\n",
              "    x.observe(notebookContainer, {childList: true});\n",
              "}}\n",
              "\n",
              "// Listen for the clearing of the current output cell\n",
              "var outputEl = gd.closest('.output');\n",
              "if (outputEl) {{\n",
              "    x.observe(outputEl, {childList: true});\n",
              "}}\n",
              "\n",
              "                        })                };                            </script>        </div>\n",
              "</body>\n",
              "</html>"
            ]
          },
          "metadata": {},
          "output_type": "display_data"
        }
      ],
      "source": [
        "indexdDataset_logDollar = np.log(Dataset['U.S. Dollar Index (DXY)'])\n",
        "df = px.data.stocks()\n",
        "fig = px.line(Dataset, x='Data', y=indexdDataset_logDollar)\n",
        "fig.show()"
      ]
    },
    {
      "cell_type": "code",
      "execution_count": null,
      "metadata": {
        "id": "NZfNP7cTVnxo"
      },
      "outputs": [],
      "source": [
        "#Transformação LOG - "
      ]
    },
    {
      "cell_type": "code",
      "execution_count": null,
      "metadata": {
        "colab": {
          "base_uri": "https://localhost:8080/",
          "height": 542
        },
        "id": "VfFB4TtyZtZa",
        "outputId": "491f3a18-3298-4ac6-bbb8-80740b7df894"
      },
      "outputs": [
        {
          "data": {
            "text/html": [
              "<html>\n",
              "<head><meta charset=\"utf-8\" /></head>\n",
              "<body>\n",
              "    <div>            <script src=\"https://cdnjs.cloudflare.com/ajax/libs/mathjax/2.7.5/MathJax.js?config=TeX-AMS-MML_SVG\"></script><script type=\"text/javascript\">if (window.MathJax) {MathJax.Hub.Config({SVG: {font: \"STIX-Web\"}});}</script>                <script type=\"text/javascript\">window.PlotlyConfig = {MathJaxConfig: 'local'};</script>\n",
              "        <script src=\"https://cdn.plot.ly/plotly-2.8.3.min.js\"></script>                <div id=\"a222b5a9-0cc7-484f-9c0d-df62edb46126\" class=\"plotly-graph-div\" style=\"height:525px; width:100%;\"></div>            <script type=\"text/javascript\">                                    window.PLOTLYENV=window.PLOTLYENV || {};                                    if (document.getElementById(\"a222b5a9-0cc7-484f-9c0d-df62edb46126\")) {                    Plotly.newPlot(                        \"a222b5a9-0cc7-484f-9c0d-df62edb46126\",                        [{\"hovertemplate\":\"Data=%{x}<br>Crude Oil WTI (NYM $/bbl)=%{y}<extra></extra>\",\"legendgroup\":\"\",\"line\":{\"color\":\"#636efa\",\"dash\":\"solid\"},\"marker\":{\"symbol\":\"circle\"},\"mode\":\"lines\",\"name\":\"\",\"orientation\":\"v\",\"showlegend\":false,\"x\":[\"12-Jul-94\",\"11-ago-94\",\"12-set-94\",\"12-out-94\",\"9-Nov-94\",\"9-dez-94\",\"31-Jan-95\",\"12-fev-95\",\"12-Mar-95\",\"11-abr-95\",\"11-mai-95\",\"12-Jun-95\",\"12-Jul-95\",\"14-ago-95\",\"12-set-95\",\"11-out-95\",\"9-Nov-95\",\"12-dez-95\",\"16-Jan-96\",\"9-fev-96\",\"14-Mar-96\",\"11-abr-96\",\"10-mai-96\",\"12-Jun-96\",\"12-Jul-96\",\"12-ago-96\",\"11-set-96\",\"11-out-96\",\"12-Nov-96\",\"12-dez-96\",\"10-Jan-97\",\"12-fev-97\",\"11-Mar-97\",\"11-abr-97\",\"12-mai-97\",\"12-Jun-97\",\"11-Jul-97\",\"12-ago-97\",\"12-set-97\",\"10-out-97\",\"10-Nov-97\",\"11-dez-97\",\"13-Jan-98\",\"11-fev-98\",\"12-Mar-98\",\"9-abr-98\",\"12-mai-98\",\"12-Jun-98\",\"10-Jul-98\",\"12-ago-98\",\"11-set-98\",\"9-out-98\",\"10-Nov-98\",\"11-dez-98\",\"12-Jan-99\",\"10-fev-99\",\"11-Mar-99\",\"9-abr-99\",\"12-mai-99\",\"11-Jun-99\",\"12-Jul-99\",\"12-ago-99\",\"10-set-99\",\"8-out-99\",\"10-Nov-99\",\"10-dez-99\",\"12-Jan-00\",\"11-fev-00\",\"10-Mar-00\",\"1-abr-00\",\"12-mai-00\",\"9-Jun-00\",\"12-Jul-00\",\"11-ago-00\",\"12-set-00\",\"12-out-00\",\"9-Nov-00\",\"12-dez-00\",\"11-Jan-01\",\"8-fev-01\",\"8-Mar-01\",\"10-abr-01\",\"10-mai-01\",\"12-Jun-01\",\"11-Jul-01\",\"10-ago-01\",\"14-set-01\",\"12-out-01\",\"9-Nov-01\",\"11-dez-01\",\"11-Jan-02\",\"8-fev-02\",\"8-Mar-02\",\"10-abr-02\",\"10-mai-02\",\"12-Jun-02\",\"11-Jul-02\",\"12-ago-02\",\"12-set-02\",\"11-out-02\",\"12-Nov-02\",\"10-dez-02\",\"10-Jan-03\",\"11-fev-03\",\"11-Mar-03\",\"10-abr-03\",\"12-mai-03\",\"11-Jun-03\",\"11-Jul-03\",\"12-ago-03\",\"11-set-03\",\"10-out-03\",\"12-Nov-03\",\"11-dez-03\",\"12-Jan-04\",\"10-fev-04\",\"10-Mar-04\",\"8-abr-04\",\"12-mai-04\",\"10-Jun-04\",\"12-Jul-04\",\"12-ago-04\",\"10-set-04\",\"12-out-04\",\"12-Nov-04\",\"10-dez-04\",\"12-Jan-05\",\"9-fev-05\",\"10-Mar-05\",\"8-abr-05\",\"12-mai-05\",\"10-Jun-05\",\"12-Jul-05\",\"12-ago-05\",\"12-set-05\",\"12-out-05\",\"10-Nov-05\",\"9-dez-05\",\"12-Jan-06\",\"9-fev-06\",\"13-Mar-06\",\"10-abr-06\",\"12-mai-06\",\"9-Jun-06\",\"12-Jul-06\",\"11-ago-06\",\"12-set-06\",\"12-out-06\",\"9-Nov-06\",\"11-dez-06\",\"12-Jan-07\",\"9-fev-07\",\"9-Mar-07\",\"10-abr-07\",\"11-mai-07\",\"11-Jun-07\",\"12-Jul-07\",\"10-ago-07\",\"12-set-07\",\"12-out-07\",\"9-Nov-07\",\"11-dez-07\",\"11-Jan-08\",\"8-fev-08\",\"11-Mar-08\",\"9-abr-08\",\"9-mai-08\",\"10-Jun-08\",\"11-Jul-08\",\"12-ago-08\",\"12-set-08\",\"28-out-08\",\"10-Nov-08\",\"12-dez-08\",\"12-Jan-09\",\"10-fev-09\",\"11-Mar-09\",\"9-abr-09\",\"12-mai-09\",\"10-Jun-09\",\"10-Jul-09\",\"12-ago-09\",\"14-set-09\",\"9-out-09\",\"10-Nov-09\",\"10-dez-09\",\"12-Jan-10\",\"9-fev-10\",\"10-Mar-10\",\"9-abr-10\",\"11-mai-10\",\"10-Jun-10\",\"9-Jul-10\",\"12-ago-10\",\"10-set-10\",\"8-out-10\",\"9-Nov-10\",\"15-dez-10\",\"12-Jan-11\",\"9-fev-11\",\"10-Mar-11\",\"8-abr-11\",\"11-mai-11\",\"9-Jun-11\",\"12-Jul-11\",\"11-ago-11\",\"12-set-11\",\"12-out-11\",\"9-Nov-11\",\"9-dez-11\",\"12-Jan-12\",\"9-fev-12\",\"9-Mar-12\",\"10-abr-12\",\"10-mai-12\",\"12-Jun-12\",\"11-Jul-12\",\"10-ago-12\",\"12-set-12\",\"11-out-12\",\"9-Nov-12\",\"11-dez-12\",\"11-Jan-13\",\"8-fev-13\",\"8-Mar-13\",\"10-abr-13\",\"10-mai-13\",\"12-Jun-13\",\"11-Jul-13\",\"12-ago-13\",\"12-set-13\",\"10-out-13\",\"8-Nov-13\",\"10-dez-13\",\"23-Jan-14\",\"10-fev-14\",\"10-Mar-14\",\"9-abr-14\",\"9-mai-14\",\"11-Jun-14\",\"11-Jul-14\",\"12-ago-14\",\"11-set-14\",\"10-out-14\"],\"xaxis\":\"x\",\"y\":[19.64,18.37,17.47,17.72,18.1,17.17,17.98,18.55,18.55,19.85,19.69,18.4,17.27,17.81,18.2,17.4,18.02,19.04,18.81,18.8,21.18,23.27,21.1,20.43,21.25,21.91,23.85,24.9,23.57,25.12,25.21,22.18,20.96,19.73,20.91,19.22,19.65,19.95,19.77,21.28,20.11,18.32,16.78,16.08,14.95,15.47,14.62,13.62,14.09,13.39,14.95,14.39,12.91,11.29,12.45,11.99,14.68,17.27,17.73,17.92,20.08,21.28,23.71,22.67,24.96,26.06,26.99,29.31,29.89,25.55,28.86,31.53,29.98,31.14,33.84,32.93,34.37,28.29,29.19,29.62,27.27,27.65,28.67,27.58,26.46,27.31,26.27,22.21,19.61,19.42,19.66,20.79,24.53,26.26,26.91,25.55,26.93,28.2,29.64,28.86,26.26,29.51,32.69,35.79,33.16,28.25,28.12,30.52,30.69,31.6,28.46,30.35,30.99,32.2,34.11,34.5,36.72,36.64,40.26,38.07,40.7,44.88,45.85,53.09,48.56,43.3,46.92,48.07,54.64,53.22,49.96,56.42,59.01,64.99,65.64,62.27,58.38,59.4,65.26,61.82,62.97,70.12,70.98,70.97,74.41,73.08,64.15,59.14,59.39,62.1,54.88,59.39,60.74,64.05,63.6,67.53,74.03,72.36,79.35,85.66,94.75,91.86,92.96,95.36,105.25,112.46,125.76,134.02,134.0,116.69,104.3,76.72,57.29,41.75,41.8,39.17,48.06,50.05,59.33,69.7,64.4,71.14,69.4,75.82,78.14,74.75,78.43,76.34,81.29,84.59,74.11,75.4,76.19,76.67,75.51,81.97,84.29,89.33,89.67,89.57,102.98,110.15,101.32,96.29,97.23,86.34,85.65,86.43,97.12,98.63,100.18,102.31,106.21,103.34,94.55,82.41,87.92,94.16,94.65,89.57,86.76,88.26,94.73,95.35,93.16,92.07,94.77,95.8,104.55,106.54,106.3,100.55,93.85,97.95,94.99,100.66,100.51,102.14,101.91,105.15,102.46,96.08,93.17,84.34],\"yaxis\":\"y\",\"type\":\"scatter\"}],                        {\"template\":{\"data\":{\"bar\":[{\"error_x\":{\"color\":\"#2a3f5f\"},\"error_y\":{\"color\":\"#2a3f5f\"},\"marker\":{\"line\":{\"color\":\"#E5ECF6\",\"width\":0.5},\"pattern\":{\"fillmode\":\"overlay\",\"size\":10,\"solidity\":0.2}},\"type\":\"bar\"}],\"barpolar\":[{\"marker\":{\"line\":{\"color\":\"#E5ECF6\",\"width\":0.5},\"pattern\":{\"fillmode\":\"overlay\",\"size\":10,\"solidity\":0.2}},\"type\":\"barpolar\"}],\"carpet\":[{\"aaxis\":{\"endlinecolor\":\"#2a3f5f\",\"gridcolor\":\"white\",\"linecolor\":\"white\",\"minorgridcolor\":\"white\",\"startlinecolor\":\"#2a3f5f\"},\"baxis\":{\"endlinecolor\":\"#2a3f5f\",\"gridcolor\":\"white\",\"linecolor\":\"white\",\"minorgridcolor\":\"white\",\"startlinecolor\":\"#2a3f5f\"},\"type\":\"carpet\"}],\"choropleth\":[{\"colorbar\":{\"outlinewidth\":0,\"ticks\":\"\"},\"type\":\"choropleth\"}],\"contour\":[{\"colorbar\":{\"outlinewidth\":0,\"ticks\":\"\"},\"colorscale\":[[0.0,\"#0d0887\"],[0.1111111111111111,\"#46039f\"],[0.2222222222222222,\"#7201a8\"],[0.3333333333333333,\"#9c179e\"],[0.4444444444444444,\"#bd3786\"],[0.5555555555555556,\"#d8576b\"],[0.6666666666666666,\"#ed7953\"],[0.7777777777777778,\"#fb9f3a\"],[0.8888888888888888,\"#fdca26\"],[1.0,\"#f0f921\"]],\"type\":\"contour\"}],\"contourcarpet\":[{\"colorbar\":{\"outlinewidth\":0,\"ticks\":\"\"},\"type\":\"contourcarpet\"}],\"heatmap\":[{\"colorbar\":{\"outlinewidth\":0,\"ticks\":\"\"},\"colorscale\":[[0.0,\"#0d0887\"],[0.1111111111111111,\"#46039f\"],[0.2222222222222222,\"#7201a8\"],[0.3333333333333333,\"#9c179e\"],[0.4444444444444444,\"#bd3786\"],[0.5555555555555556,\"#d8576b\"],[0.6666666666666666,\"#ed7953\"],[0.7777777777777778,\"#fb9f3a\"],[0.8888888888888888,\"#fdca26\"],[1.0,\"#f0f921\"]],\"type\":\"heatmap\"}],\"heatmapgl\":[{\"colorbar\":{\"outlinewidth\":0,\"ticks\":\"\"},\"colorscale\":[[0.0,\"#0d0887\"],[0.1111111111111111,\"#46039f\"],[0.2222222222222222,\"#7201a8\"],[0.3333333333333333,\"#9c179e\"],[0.4444444444444444,\"#bd3786\"],[0.5555555555555556,\"#d8576b\"],[0.6666666666666666,\"#ed7953\"],[0.7777777777777778,\"#fb9f3a\"],[0.8888888888888888,\"#fdca26\"],[1.0,\"#f0f921\"]],\"type\":\"heatmapgl\"}],\"histogram\":[{\"marker\":{\"pattern\":{\"fillmode\":\"overlay\",\"size\":10,\"solidity\":0.2}},\"type\":\"histogram\"}],\"histogram2d\":[{\"colorbar\":{\"outlinewidth\":0,\"ticks\":\"\"},\"colorscale\":[[0.0,\"#0d0887\"],[0.1111111111111111,\"#46039f\"],[0.2222222222222222,\"#7201a8\"],[0.3333333333333333,\"#9c179e\"],[0.4444444444444444,\"#bd3786\"],[0.5555555555555556,\"#d8576b\"],[0.6666666666666666,\"#ed7953\"],[0.7777777777777778,\"#fb9f3a\"],[0.8888888888888888,\"#fdca26\"],[1.0,\"#f0f921\"]],\"type\":\"histogram2d\"}],\"histogram2dcontour\":[{\"colorbar\":{\"outlinewidth\":0,\"ticks\":\"\"},\"colorscale\":[[0.0,\"#0d0887\"],[0.1111111111111111,\"#46039f\"],[0.2222222222222222,\"#7201a8\"],[0.3333333333333333,\"#9c179e\"],[0.4444444444444444,\"#bd3786\"],[0.5555555555555556,\"#d8576b\"],[0.6666666666666666,\"#ed7953\"],[0.7777777777777778,\"#fb9f3a\"],[0.8888888888888888,\"#fdca26\"],[1.0,\"#f0f921\"]],\"type\":\"histogram2dcontour\"}],\"mesh3d\":[{\"colorbar\":{\"outlinewidth\":0,\"ticks\":\"\"},\"type\":\"mesh3d\"}],\"parcoords\":[{\"line\":{\"colorbar\":{\"outlinewidth\":0,\"ticks\":\"\"}},\"type\":\"parcoords\"}],\"pie\":[{\"automargin\":true,\"type\":\"pie\"}],\"scatter\":[{\"marker\":{\"colorbar\":{\"outlinewidth\":0,\"ticks\":\"\"}},\"type\":\"scatter\"}],\"scatter3d\":[{\"line\":{\"colorbar\":{\"outlinewidth\":0,\"ticks\":\"\"}},\"marker\":{\"colorbar\":{\"outlinewidth\":0,\"ticks\":\"\"}},\"type\":\"scatter3d\"}],\"scattercarpet\":[{\"marker\":{\"colorbar\":{\"outlinewidth\":0,\"ticks\":\"\"}},\"type\":\"scattercarpet\"}],\"scattergeo\":[{\"marker\":{\"colorbar\":{\"outlinewidth\":0,\"ticks\":\"\"}},\"type\":\"scattergeo\"}],\"scattergl\":[{\"marker\":{\"colorbar\":{\"outlinewidth\":0,\"ticks\":\"\"}},\"type\":\"scattergl\"}],\"scattermapbox\":[{\"marker\":{\"colorbar\":{\"outlinewidth\":0,\"ticks\":\"\"}},\"type\":\"scattermapbox\"}],\"scatterpolar\":[{\"marker\":{\"colorbar\":{\"outlinewidth\":0,\"ticks\":\"\"}},\"type\":\"scatterpolar\"}],\"scatterpolargl\":[{\"marker\":{\"colorbar\":{\"outlinewidth\":0,\"ticks\":\"\"}},\"type\":\"scatterpolargl\"}],\"scatterternary\":[{\"marker\":{\"colorbar\":{\"outlinewidth\":0,\"ticks\":\"\"}},\"type\":\"scatterternary\"}],\"surface\":[{\"colorbar\":{\"outlinewidth\":0,\"ticks\":\"\"},\"colorscale\":[[0.0,\"#0d0887\"],[0.1111111111111111,\"#46039f\"],[0.2222222222222222,\"#7201a8\"],[0.3333333333333333,\"#9c179e\"],[0.4444444444444444,\"#bd3786\"],[0.5555555555555556,\"#d8576b\"],[0.6666666666666666,\"#ed7953\"],[0.7777777777777778,\"#fb9f3a\"],[0.8888888888888888,\"#fdca26\"],[1.0,\"#f0f921\"]],\"type\":\"surface\"}],\"table\":[{\"cells\":{\"fill\":{\"color\":\"#EBF0F8\"},\"line\":{\"color\":\"white\"}},\"header\":{\"fill\":{\"color\":\"#C8D4E3\"},\"line\":{\"color\":\"white\"}},\"type\":\"table\"}]},\"layout\":{\"annotationdefaults\":{\"arrowcolor\":\"#2a3f5f\",\"arrowhead\":0,\"arrowwidth\":1},\"autotypenumbers\":\"strict\",\"coloraxis\":{\"colorbar\":{\"outlinewidth\":0,\"ticks\":\"\"}},\"colorscale\":{\"diverging\":[[0,\"#8e0152\"],[0.1,\"#c51b7d\"],[0.2,\"#de77ae\"],[0.3,\"#f1b6da\"],[0.4,\"#fde0ef\"],[0.5,\"#f7f7f7\"],[0.6,\"#e6f5d0\"],[0.7,\"#b8e186\"],[0.8,\"#7fbc41\"],[0.9,\"#4d9221\"],[1,\"#276419\"]],\"sequential\":[[0.0,\"#0d0887\"],[0.1111111111111111,\"#46039f\"],[0.2222222222222222,\"#7201a8\"],[0.3333333333333333,\"#9c179e\"],[0.4444444444444444,\"#bd3786\"],[0.5555555555555556,\"#d8576b\"],[0.6666666666666666,\"#ed7953\"],[0.7777777777777778,\"#fb9f3a\"],[0.8888888888888888,\"#fdca26\"],[1.0,\"#f0f921\"]],\"sequentialminus\":[[0.0,\"#0d0887\"],[0.1111111111111111,\"#46039f\"],[0.2222222222222222,\"#7201a8\"],[0.3333333333333333,\"#9c179e\"],[0.4444444444444444,\"#bd3786\"],[0.5555555555555556,\"#d8576b\"],[0.6666666666666666,\"#ed7953\"],[0.7777777777777778,\"#fb9f3a\"],[0.8888888888888888,\"#fdca26\"],[1.0,\"#f0f921\"]]},\"colorway\":[\"#636efa\",\"#EF553B\",\"#00cc96\",\"#ab63fa\",\"#FFA15A\",\"#19d3f3\",\"#FF6692\",\"#B6E880\",\"#FF97FF\",\"#FECB52\"],\"font\":{\"color\":\"#2a3f5f\"},\"geo\":{\"bgcolor\":\"white\",\"lakecolor\":\"white\",\"landcolor\":\"#E5ECF6\",\"showlakes\":true,\"showland\":true,\"subunitcolor\":\"white\"},\"hoverlabel\":{\"align\":\"left\"},\"hovermode\":\"closest\",\"mapbox\":{\"style\":\"light\"},\"paper_bgcolor\":\"white\",\"plot_bgcolor\":\"#E5ECF6\",\"polar\":{\"angularaxis\":{\"gridcolor\":\"white\",\"linecolor\":\"white\",\"ticks\":\"\"},\"bgcolor\":\"#E5ECF6\",\"radialaxis\":{\"gridcolor\":\"white\",\"linecolor\":\"white\",\"ticks\":\"\"}},\"scene\":{\"xaxis\":{\"backgroundcolor\":\"#E5ECF6\",\"gridcolor\":\"white\",\"gridwidth\":2,\"linecolor\":\"white\",\"showbackground\":true,\"ticks\":\"\",\"zerolinecolor\":\"white\"},\"yaxis\":{\"backgroundcolor\":\"#E5ECF6\",\"gridcolor\":\"white\",\"gridwidth\":2,\"linecolor\":\"white\",\"showbackground\":true,\"ticks\":\"\",\"zerolinecolor\":\"white\"},\"zaxis\":{\"backgroundcolor\":\"#E5ECF6\",\"gridcolor\":\"white\",\"gridwidth\":2,\"linecolor\":\"white\",\"showbackground\":true,\"ticks\":\"\",\"zerolinecolor\":\"white\"}},\"shapedefaults\":{\"line\":{\"color\":\"#2a3f5f\"}},\"ternary\":{\"aaxis\":{\"gridcolor\":\"white\",\"linecolor\":\"white\",\"ticks\":\"\"},\"baxis\":{\"gridcolor\":\"white\",\"linecolor\":\"white\",\"ticks\":\"\"},\"bgcolor\":\"#E5ECF6\",\"caxis\":{\"gridcolor\":\"white\",\"linecolor\":\"white\",\"ticks\":\"\"}},\"title\":{\"x\":0.05},\"xaxis\":{\"automargin\":true,\"gridcolor\":\"white\",\"linecolor\":\"white\",\"ticks\":\"\",\"title\":{\"standoff\":15},\"zerolinecolor\":\"white\",\"zerolinewidth\":2},\"yaxis\":{\"automargin\":true,\"gridcolor\":\"white\",\"linecolor\":\"white\",\"ticks\":\"\",\"title\":{\"standoff\":15},\"zerolinecolor\":\"white\",\"zerolinewidth\":2}}},\"xaxis\":{\"anchor\":\"y\",\"domain\":[0.0,1.0],\"title\":{\"text\":\"Data\"}},\"yaxis\":{\"anchor\":\"x\",\"domain\":[0.0,1.0],\"title\":{\"text\":\"Crude Oil WTI (NYM $/bbl)\"}},\"legend\":{\"tracegroupgap\":0},\"margin\":{\"t\":60}},                        {\"responsive\": true}                    ).then(function(){\n",
              "                            \n",
              "var gd = document.getElementById('a222b5a9-0cc7-484f-9c0d-df62edb46126');\n",
              "var x = new MutationObserver(function (mutations, observer) {{\n",
              "        var display = window.getComputedStyle(gd).display;\n",
              "        if (!display || display === 'none') {{\n",
              "            console.log([gd, 'removed!']);\n",
              "            Plotly.purge(gd);\n",
              "            observer.disconnect();\n",
              "        }}\n",
              "}});\n",
              "\n",
              "// Listen for the removal of the full notebook cells\n",
              "var notebookContainer = gd.closest('#notebook-container');\n",
              "if (notebookContainer) {{\n",
              "    x.observe(notebookContainer, {childList: true});\n",
              "}}\n",
              "\n",
              "// Listen for the clearing of the current output cell\n",
              "var outputEl = gd.closest('.output');\n",
              "if (outputEl) {{\n",
              "    x.observe(outputEl, {childList: true});\n",
              "}}\n",
              "\n",
              "                        })                };                            </script>        </div>\n",
              "</body>\n",
              "</html>"
            ]
          },
          "metadata": {},
          "output_type": "display_data"
        }
      ],
      "source": [
        "df = px.data.stocks()\n",
        "fig = px.line(Dataset, x='Data', y=\"Crude Oil WTI (NYM $/bbl)\")\n",
        "fig.show()"
      ]
    },
    {
      "cell_type": "code",
      "execution_count": null,
      "metadata": {
        "colab": {
          "base_uri": "https://localhost:8080/",
          "height": 542
        },
        "id": "C3gjVCJOIyzr",
        "outputId": "c016b0fc-4425-45dc-9f5f-801fc86ecb38"
      },
      "outputs": [
        {
          "data": {
            "text/html": [
              "<html>\n",
              "<head><meta charset=\"utf-8\" /></head>\n",
              "<body>\n",
              "    <div>            <script src=\"https://cdnjs.cloudflare.com/ajax/libs/mathjax/2.7.5/MathJax.js?config=TeX-AMS-MML_SVG\"></script><script type=\"text/javascript\">if (window.MathJax) {MathJax.Hub.Config({SVG: {font: \"STIX-Web\"}});}</script>                <script type=\"text/javascript\">window.PlotlyConfig = {MathJaxConfig: 'local'};</script>\n",
              "        <script src=\"https://cdn.plot.ly/plotly-2.8.3.min.js\"></script>                <div id=\"c006929f-db52-4345-9795-4c553e49ddcd\" class=\"plotly-graph-div\" style=\"height:525px; width:100%;\"></div>            <script type=\"text/javascript\">                                    window.PLOTLYENV=window.PLOTLYENV || {};                                    if (document.getElementById(\"c006929f-db52-4345-9795-4c553e49ddcd\")) {                    Plotly.newPlot(                        \"c006929f-db52-4345-9795-4c553e49ddcd\",                        [{\"hovertemplate\":\"Data=%{x}<br>USD/BRL rate=%{y}<extra></extra>\",\"legendgroup\":\"\",\"line\":{\"color\":\"#636efa\",\"dash\":\"solid\"},\"marker\":{\"symbol\":\"circle\"},\"mode\":\"lines\",\"name\":\"\",\"orientation\":\"v\",\"showlegend\":false,\"x\":[\"12-Jul-94\",\"11-ago-94\",\"12-set-94\",\"12-out-94\",\"9-Nov-94\",\"9-dez-94\",\"31-Jan-95\",\"12-fev-95\",\"12-Mar-95\",\"11-abr-95\",\"11-mai-95\",\"12-Jun-95\",\"12-Jul-95\",\"14-ago-95\",\"12-set-95\",\"11-out-95\",\"9-Nov-95\",\"12-dez-95\",\"16-Jan-96\",\"9-fev-96\",\"14-Mar-96\",\"11-abr-96\",\"10-mai-96\",\"12-Jun-96\",\"12-Jul-96\",\"12-ago-96\",\"11-set-96\",\"11-out-96\",\"12-Nov-96\",\"12-dez-96\",\"10-Jan-97\",\"12-fev-97\",\"11-Mar-97\",\"11-abr-97\",\"12-mai-97\",\"12-Jun-97\",\"11-Jul-97\",\"12-ago-97\",\"12-set-97\",\"10-out-97\",\"10-Nov-97\",\"11-dez-97\",\"13-Jan-98\",\"11-fev-98\",\"12-Mar-98\",\"9-abr-98\",\"12-mai-98\",\"12-Jun-98\",\"10-Jul-98\",\"12-ago-98\",\"11-set-98\",\"9-out-98\",\"10-Nov-98\",\"11-dez-98\",\"12-Jan-99\",\"10-fev-99\",\"11-Mar-99\",\"9-abr-99\",\"12-mai-99\",\"11-Jun-99\",\"12-Jul-99\",\"12-ago-99\",\"10-set-99\",\"8-out-99\",\"10-Nov-99\",\"10-dez-99\",\"12-Jan-00\",\"11-fev-00\",\"10-Mar-00\",\"1-abr-00\",\"12-mai-00\",\"9-Jun-00\",\"12-Jul-00\",\"11-ago-00\",\"12-set-00\",\"12-out-00\",\"9-Nov-00\",\"12-dez-00\",\"11-Jan-01\",\"8-fev-01\",\"8-Mar-01\",\"10-abr-01\",\"10-mai-01\",\"12-Jun-01\",\"11-Jul-01\",\"10-ago-01\",\"14-set-01\",\"12-out-01\",\"9-Nov-01\",\"11-dez-01\",\"11-Jan-02\",\"8-fev-02\",\"8-Mar-02\",\"10-abr-02\",\"10-mai-02\",\"12-Jun-02\",\"11-Jul-02\",\"12-ago-02\",\"12-set-02\",\"11-out-02\",\"12-Nov-02\",\"10-dez-02\",\"10-Jan-03\",\"11-fev-03\",\"11-Mar-03\",\"10-abr-03\",\"12-mai-03\",\"11-Jun-03\",\"11-Jul-03\",\"12-ago-03\",\"11-set-03\",\"10-out-03\",\"12-Nov-03\",\"11-dez-03\",\"12-Jan-04\",\"10-fev-04\",\"10-Mar-04\",\"8-abr-04\",\"12-mai-04\",\"10-Jun-04\",\"12-Jul-04\",\"12-ago-04\",\"10-set-04\",\"12-out-04\",\"12-Nov-04\",\"10-dez-04\",\"12-Jan-05\",\"9-fev-05\",\"10-Mar-05\",\"8-abr-05\",\"12-mai-05\",\"10-Jun-05\",\"12-Jul-05\",\"12-ago-05\",\"12-set-05\",\"12-out-05\",\"10-Nov-05\",\"9-dez-05\",\"12-Jan-06\",\"9-fev-06\",\"13-Mar-06\",\"10-abr-06\",\"12-mai-06\",\"9-Jun-06\",\"12-Jul-06\",\"11-ago-06\",\"12-set-06\",\"12-out-06\",\"9-Nov-06\",\"11-dez-06\",\"12-Jan-07\",\"9-fev-07\",\"9-Mar-07\",\"10-abr-07\",\"11-mai-07\",\"11-Jun-07\",\"12-Jul-07\",\"10-ago-07\",\"12-set-07\",\"12-out-07\",\"9-Nov-07\",\"11-dez-07\",\"11-Jan-08\",\"8-fev-08\",\"11-Mar-08\",\"9-abr-08\",\"9-mai-08\",\"10-Jun-08\",\"11-Jul-08\",\"12-ago-08\",\"12-set-08\",\"28-out-08\",\"10-Nov-08\",\"12-dez-08\",\"12-Jan-09\",\"10-fev-09\",\"11-Mar-09\",\"9-abr-09\",\"12-mai-09\",\"10-Jun-09\",\"10-Jul-09\",\"12-ago-09\",\"14-set-09\",\"9-out-09\",\"10-Nov-09\",\"10-dez-09\",\"12-Jan-10\",\"9-fev-10\",\"10-Mar-10\",\"9-abr-10\",\"11-mai-10\",\"10-Jun-10\",\"9-Jul-10\",\"12-ago-10\",\"10-set-10\",\"8-out-10\",\"9-Nov-10\",\"15-dez-10\",\"12-Jan-11\",\"9-fev-11\",\"10-Mar-11\",\"8-abr-11\",\"11-mai-11\",\"9-Jun-11\",\"12-Jul-11\",\"11-ago-11\",\"12-set-11\",\"12-out-11\",\"9-Nov-11\",\"9-dez-11\",\"12-Jan-12\",\"9-fev-12\",\"9-Mar-12\",\"10-abr-12\",\"10-mai-12\",\"12-Jun-12\",\"11-Jul-12\",\"10-ago-12\",\"12-set-12\",\"11-out-12\",\"9-Nov-12\",\"11-dez-12\",\"11-Jan-13\",\"8-fev-13\",\"8-Mar-13\",\"10-abr-13\",\"10-mai-13\",\"12-Jun-13\",\"11-Jul-13\",\"12-ago-13\",\"12-set-13\",\"10-out-13\",\"8-Nov-13\",\"10-dez-13\",\"23-Jan-14\",\"10-fev-14\",\"10-Mar-14\",\"9-abr-14\",\"9-mai-14\",\"11-Jun-14\",\"11-Jul-14\",\"12-ago-14\",\"11-set-14\",\"10-out-14\"],\"xaxis\":\"x\",\"y\":[0.93,0.9,0.87,0.85,0.84,0.85,0.85,0.84,0.89,0.91,0.9,0.91,0.93,0.94,0.95,0.96,0.96,0.97,0.97,0.98,0.99,0.99,1.0,1.0,1.01,1.01,1.02,1.02,1.03,0.99,1.04,1.05,1.06,1.06,1.07,1.07,1.08,1.09,1.09,1.1,1.11,1.11,1.12,1.13,1.13,1.14,1.15,1.15,1.16,1.17,1.18,1.19,1.19,1.21,1.49,1.91,1.9,1.7,1.68,1.76,1.8,1.88,1.9,1.97,1.93,1.84,1.8,1.78,1.74,1.77,1.83,1.81,1.8,1.81,1.84,1.88,1.95,1.96,1.95,2.01,2.09,2.19,2.29,2.38,2.47,2.51,2.67,2.74,2.55,2.36,2.38,2.42,2.35,2.32,2.48,2.71,2.93,3.11,3.34,3.81,3.58,3.62,3.44,3.59,3.46,3.11,2.95,2.88,2.88,3.0,2.92,2.86,2.91,2.92,2.85,2.94,2.91,2.91,3.1,3.13,3.04,3.0,2.89,2.85,2.79,2.72,2.69,2.6,2.71,2.58,2.45,2.41,2.37,2.36,2.3,2.26,2.21,2.29,2.27,2.16,2.15,2.13,2.17,2.25,2.19,2.16,2.17,2.15,2.16,2.15,2.14,2.1,2.09,2.03,1.98,1.93,1.88,1.97,1.9,1.937037,1.77,1.79,1.77,1.73,1.71,1.69,1.66,1.62,1.59,1.61,1.8,2.17,2.27,2.39,2.31,2.32,2.31,2.21,2.07,1.96,1.93,1.85,1.82,1.74,1.73,1.75,1.78,1.84,1.79,1.76,1.81,1.81,1.77,1.76,1.72,1.68,1.71,1.69,1.67,1.67,1.66,1.59,1.61,1.59,1.56,1.6,1.75,1.77,1.79,1.84,1.79,1.72,1.8,1.85,1.98,2.05,2.03,2.03,2.03,2.03,2.07,2.08,2.03,1.97,1.98,2.0,2.04,2.17,2.25,2.34,2.27,2.19,2.3,2.35,2.38,2.38,2.33,2.23,2.22,2.24,2.22,2.27,2.33,2.45],\"yaxis\":\"y\",\"type\":\"scatter\"}],                        {\"template\":{\"data\":{\"bar\":[{\"error_x\":{\"color\":\"#2a3f5f\"},\"error_y\":{\"color\":\"#2a3f5f\"},\"marker\":{\"line\":{\"color\":\"#E5ECF6\",\"width\":0.5},\"pattern\":{\"fillmode\":\"overlay\",\"size\":10,\"solidity\":0.2}},\"type\":\"bar\"}],\"barpolar\":[{\"marker\":{\"line\":{\"color\":\"#E5ECF6\",\"width\":0.5},\"pattern\":{\"fillmode\":\"overlay\",\"size\":10,\"solidity\":0.2}},\"type\":\"barpolar\"}],\"carpet\":[{\"aaxis\":{\"endlinecolor\":\"#2a3f5f\",\"gridcolor\":\"white\",\"linecolor\":\"white\",\"minorgridcolor\":\"white\",\"startlinecolor\":\"#2a3f5f\"},\"baxis\":{\"endlinecolor\":\"#2a3f5f\",\"gridcolor\":\"white\",\"linecolor\":\"white\",\"minorgridcolor\":\"white\",\"startlinecolor\":\"#2a3f5f\"},\"type\":\"carpet\"}],\"choropleth\":[{\"colorbar\":{\"outlinewidth\":0,\"ticks\":\"\"},\"type\":\"choropleth\"}],\"contour\":[{\"colorbar\":{\"outlinewidth\":0,\"ticks\":\"\"},\"colorscale\":[[0.0,\"#0d0887\"],[0.1111111111111111,\"#46039f\"],[0.2222222222222222,\"#7201a8\"],[0.3333333333333333,\"#9c179e\"],[0.4444444444444444,\"#bd3786\"],[0.5555555555555556,\"#d8576b\"],[0.6666666666666666,\"#ed7953\"],[0.7777777777777778,\"#fb9f3a\"],[0.8888888888888888,\"#fdca26\"],[1.0,\"#f0f921\"]],\"type\":\"contour\"}],\"contourcarpet\":[{\"colorbar\":{\"outlinewidth\":0,\"ticks\":\"\"},\"type\":\"contourcarpet\"}],\"heatmap\":[{\"colorbar\":{\"outlinewidth\":0,\"ticks\":\"\"},\"colorscale\":[[0.0,\"#0d0887\"],[0.1111111111111111,\"#46039f\"],[0.2222222222222222,\"#7201a8\"],[0.3333333333333333,\"#9c179e\"],[0.4444444444444444,\"#bd3786\"],[0.5555555555555556,\"#d8576b\"],[0.6666666666666666,\"#ed7953\"],[0.7777777777777778,\"#fb9f3a\"],[0.8888888888888888,\"#fdca26\"],[1.0,\"#f0f921\"]],\"type\":\"heatmap\"}],\"heatmapgl\":[{\"colorbar\":{\"outlinewidth\":0,\"ticks\":\"\"},\"colorscale\":[[0.0,\"#0d0887\"],[0.1111111111111111,\"#46039f\"],[0.2222222222222222,\"#7201a8\"],[0.3333333333333333,\"#9c179e\"],[0.4444444444444444,\"#bd3786\"],[0.5555555555555556,\"#d8576b\"],[0.6666666666666666,\"#ed7953\"],[0.7777777777777778,\"#fb9f3a\"],[0.8888888888888888,\"#fdca26\"],[1.0,\"#f0f921\"]],\"type\":\"heatmapgl\"}],\"histogram\":[{\"marker\":{\"pattern\":{\"fillmode\":\"overlay\",\"size\":10,\"solidity\":0.2}},\"type\":\"histogram\"}],\"histogram2d\":[{\"colorbar\":{\"outlinewidth\":0,\"ticks\":\"\"},\"colorscale\":[[0.0,\"#0d0887\"],[0.1111111111111111,\"#46039f\"],[0.2222222222222222,\"#7201a8\"],[0.3333333333333333,\"#9c179e\"],[0.4444444444444444,\"#bd3786\"],[0.5555555555555556,\"#d8576b\"],[0.6666666666666666,\"#ed7953\"],[0.7777777777777778,\"#fb9f3a\"],[0.8888888888888888,\"#fdca26\"],[1.0,\"#f0f921\"]],\"type\":\"histogram2d\"}],\"histogram2dcontour\":[{\"colorbar\":{\"outlinewidth\":0,\"ticks\":\"\"},\"colorscale\":[[0.0,\"#0d0887\"],[0.1111111111111111,\"#46039f\"],[0.2222222222222222,\"#7201a8\"],[0.3333333333333333,\"#9c179e\"],[0.4444444444444444,\"#bd3786\"],[0.5555555555555556,\"#d8576b\"],[0.6666666666666666,\"#ed7953\"],[0.7777777777777778,\"#fb9f3a\"],[0.8888888888888888,\"#fdca26\"],[1.0,\"#f0f921\"]],\"type\":\"histogram2dcontour\"}],\"mesh3d\":[{\"colorbar\":{\"outlinewidth\":0,\"ticks\":\"\"},\"type\":\"mesh3d\"}],\"parcoords\":[{\"line\":{\"colorbar\":{\"outlinewidth\":0,\"ticks\":\"\"}},\"type\":\"parcoords\"}],\"pie\":[{\"automargin\":true,\"type\":\"pie\"}],\"scatter\":[{\"marker\":{\"colorbar\":{\"outlinewidth\":0,\"ticks\":\"\"}},\"type\":\"scatter\"}],\"scatter3d\":[{\"line\":{\"colorbar\":{\"outlinewidth\":0,\"ticks\":\"\"}},\"marker\":{\"colorbar\":{\"outlinewidth\":0,\"ticks\":\"\"}},\"type\":\"scatter3d\"}],\"scattercarpet\":[{\"marker\":{\"colorbar\":{\"outlinewidth\":0,\"ticks\":\"\"}},\"type\":\"scattercarpet\"}],\"scattergeo\":[{\"marker\":{\"colorbar\":{\"outlinewidth\":0,\"ticks\":\"\"}},\"type\":\"scattergeo\"}],\"scattergl\":[{\"marker\":{\"colorbar\":{\"outlinewidth\":0,\"ticks\":\"\"}},\"type\":\"scattergl\"}],\"scattermapbox\":[{\"marker\":{\"colorbar\":{\"outlinewidth\":0,\"ticks\":\"\"}},\"type\":\"scattermapbox\"}],\"scatterpolar\":[{\"marker\":{\"colorbar\":{\"outlinewidth\":0,\"ticks\":\"\"}},\"type\":\"scatterpolar\"}],\"scatterpolargl\":[{\"marker\":{\"colorbar\":{\"outlinewidth\":0,\"ticks\":\"\"}},\"type\":\"scatterpolargl\"}],\"scatterternary\":[{\"marker\":{\"colorbar\":{\"outlinewidth\":0,\"ticks\":\"\"}},\"type\":\"scatterternary\"}],\"surface\":[{\"colorbar\":{\"outlinewidth\":0,\"ticks\":\"\"},\"colorscale\":[[0.0,\"#0d0887\"],[0.1111111111111111,\"#46039f\"],[0.2222222222222222,\"#7201a8\"],[0.3333333333333333,\"#9c179e\"],[0.4444444444444444,\"#bd3786\"],[0.5555555555555556,\"#d8576b\"],[0.6666666666666666,\"#ed7953\"],[0.7777777777777778,\"#fb9f3a\"],[0.8888888888888888,\"#fdca26\"],[1.0,\"#f0f921\"]],\"type\":\"surface\"}],\"table\":[{\"cells\":{\"fill\":{\"color\":\"#EBF0F8\"},\"line\":{\"color\":\"white\"}},\"header\":{\"fill\":{\"color\":\"#C8D4E3\"},\"line\":{\"color\":\"white\"}},\"type\":\"table\"}]},\"layout\":{\"annotationdefaults\":{\"arrowcolor\":\"#2a3f5f\",\"arrowhead\":0,\"arrowwidth\":1},\"autotypenumbers\":\"strict\",\"coloraxis\":{\"colorbar\":{\"outlinewidth\":0,\"ticks\":\"\"}},\"colorscale\":{\"diverging\":[[0,\"#8e0152\"],[0.1,\"#c51b7d\"],[0.2,\"#de77ae\"],[0.3,\"#f1b6da\"],[0.4,\"#fde0ef\"],[0.5,\"#f7f7f7\"],[0.6,\"#e6f5d0\"],[0.7,\"#b8e186\"],[0.8,\"#7fbc41\"],[0.9,\"#4d9221\"],[1,\"#276419\"]],\"sequential\":[[0.0,\"#0d0887\"],[0.1111111111111111,\"#46039f\"],[0.2222222222222222,\"#7201a8\"],[0.3333333333333333,\"#9c179e\"],[0.4444444444444444,\"#bd3786\"],[0.5555555555555556,\"#d8576b\"],[0.6666666666666666,\"#ed7953\"],[0.7777777777777778,\"#fb9f3a\"],[0.8888888888888888,\"#fdca26\"],[1.0,\"#f0f921\"]],\"sequentialminus\":[[0.0,\"#0d0887\"],[0.1111111111111111,\"#46039f\"],[0.2222222222222222,\"#7201a8\"],[0.3333333333333333,\"#9c179e\"],[0.4444444444444444,\"#bd3786\"],[0.5555555555555556,\"#d8576b\"],[0.6666666666666666,\"#ed7953\"],[0.7777777777777778,\"#fb9f3a\"],[0.8888888888888888,\"#fdca26\"],[1.0,\"#f0f921\"]]},\"colorway\":[\"#636efa\",\"#EF553B\",\"#00cc96\",\"#ab63fa\",\"#FFA15A\",\"#19d3f3\",\"#FF6692\",\"#B6E880\",\"#FF97FF\",\"#FECB52\"],\"font\":{\"color\":\"#2a3f5f\"},\"geo\":{\"bgcolor\":\"white\",\"lakecolor\":\"white\",\"landcolor\":\"#E5ECF6\",\"showlakes\":true,\"showland\":true,\"subunitcolor\":\"white\"},\"hoverlabel\":{\"align\":\"left\"},\"hovermode\":\"closest\",\"mapbox\":{\"style\":\"light\"},\"paper_bgcolor\":\"white\",\"plot_bgcolor\":\"#E5ECF6\",\"polar\":{\"angularaxis\":{\"gridcolor\":\"white\",\"linecolor\":\"white\",\"ticks\":\"\"},\"bgcolor\":\"#E5ECF6\",\"radialaxis\":{\"gridcolor\":\"white\",\"linecolor\":\"white\",\"ticks\":\"\"}},\"scene\":{\"xaxis\":{\"backgroundcolor\":\"#E5ECF6\",\"gridcolor\":\"white\",\"gridwidth\":2,\"linecolor\":\"white\",\"showbackground\":true,\"ticks\":\"\",\"zerolinecolor\":\"white\"},\"yaxis\":{\"backgroundcolor\":\"#E5ECF6\",\"gridcolor\":\"white\",\"gridwidth\":2,\"linecolor\":\"white\",\"showbackground\":true,\"ticks\":\"\",\"zerolinecolor\":\"white\"},\"zaxis\":{\"backgroundcolor\":\"#E5ECF6\",\"gridcolor\":\"white\",\"gridwidth\":2,\"linecolor\":\"white\",\"showbackground\":true,\"ticks\":\"\",\"zerolinecolor\":\"white\"}},\"shapedefaults\":{\"line\":{\"color\":\"#2a3f5f\"}},\"ternary\":{\"aaxis\":{\"gridcolor\":\"white\",\"linecolor\":\"white\",\"ticks\":\"\"},\"baxis\":{\"gridcolor\":\"white\",\"linecolor\":\"white\",\"ticks\":\"\"},\"bgcolor\":\"#E5ECF6\",\"caxis\":{\"gridcolor\":\"white\",\"linecolor\":\"white\",\"ticks\":\"\"}},\"title\":{\"x\":0.05},\"xaxis\":{\"automargin\":true,\"gridcolor\":\"white\",\"linecolor\":\"white\",\"ticks\":\"\",\"title\":{\"standoff\":15},\"zerolinecolor\":\"white\",\"zerolinewidth\":2},\"yaxis\":{\"automargin\":true,\"gridcolor\":\"white\",\"linecolor\":\"white\",\"ticks\":\"\",\"title\":{\"standoff\":15},\"zerolinecolor\":\"white\",\"zerolinewidth\":2}}},\"xaxis\":{\"anchor\":\"y\",\"domain\":[0.0,1.0],\"title\":{\"text\":\"Data\"}},\"yaxis\":{\"anchor\":\"x\",\"domain\":[0.0,1.0],\"title\":{\"text\":\"USD/BRL rate\"}},\"legend\":{\"tracegroupgap\":0},\"margin\":{\"t\":60}},                        {\"responsive\": true}                    ).then(function(){\n",
              "                            \n",
              "var gd = document.getElementById('c006929f-db52-4345-9795-4c553e49ddcd');\n",
              "var x = new MutationObserver(function (mutations, observer) {{\n",
              "        var display = window.getComputedStyle(gd).display;\n",
              "        if (!display || display === 'none') {{\n",
              "            console.log([gd, 'removed!']);\n",
              "            Plotly.purge(gd);\n",
              "            observer.disconnect();\n",
              "        }}\n",
              "}});\n",
              "\n",
              "// Listen for the removal of the full notebook cells\n",
              "var notebookContainer = gd.closest('#notebook-container');\n",
              "if (notebookContainer) {{\n",
              "    x.observe(notebookContainer, {childList: true});\n",
              "}}\n",
              "\n",
              "// Listen for the clearing of the current output cell\n",
              "var outputEl = gd.closest('.output');\n",
              "if (outputEl) {{\n",
              "    x.observe(outputEl, {childList: true});\n",
              "}}\n",
              "\n",
              "                        })                };                            </script>        </div>\n",
              "</body>\n",
              "</html>"
            ]
          },
          "metadata": {},
          "output_type": "display_data"
        }
      ],
      "source": [
        "df = px.data.stocks()\n",
        "fig = px.line(Dataset, x='Data', y=\"USD/BRL rate\")\n",
        "fig.show()"
      ]
    },
    {
      "cell_type": "code",
      "execution_count": null,
      "metadata": {
        "colab": {
          "base_uri": "https://localhost:8080/",
          "height": 542
        },
        "id": "9TTuQ8KnVq4x",
        "outputId": "ba9d2067-fcaa-48b0-d5bf-fac89f6a43f1"
      },
      "outputs": [
        {
          "data": {
            "text/html": [
              "<html>\n",
              "<head><meta charset=\"utf-8\" /></head>\n",
              "<body>\n",
              "    <div>            <script src=\"https://cdnjs.cloudflare.com/ajax/libs/mathjax/2.7.5/MathJax.js?config=TeX-AMS-MML_SVG\"></script><script type=\"text/javascript\">if (window.MathJax) {MathJax.Hub.Config({SVG: {font: \"STIX-Web\"}});}</script>                <script type=\"text/javascript\">window.PlotlyConfig = {MathJaxConfig: 'local'};</script>\n",
              "        <script src=\"https://cdn.plot.ly/plotly-2.8.3.min.js\"></script>                <div id=\"0a2808d1-8d45-40a2-9cf8-526c9e81c920\" class=\"plotly-graph-div\" style=\"height:525px; width:100%;\"></div>            <script type=\"text/javascript\">                                    window.PLOTLYENV=window.PLOTLYENV || {};                                    if (document.getElementById(\"0a2808d1-8d45-40a2-9cf8-526c9e81c920\")) {                    Plotly.newPlot(                        \"0a2808d1-8d45-40a2-9cf8-526c9e81c920\",                        [{\"hovertemplate\":\"Data=%{x}<br>y=%{y}<extra></extra>\",\"legendgroup\":\"\",\"line\":{\"color\":\"#636efa\",\"dash\":\"solid\"},\"marker\":{\"symbol\":\"circle\"},\"mode\":\"lines\",\"name\":\"\",\"orientation\":\"v\",\"showlegend\":false,\"x\":[\"12-Jul-94\",\"11-ago-94\",\"12-set-94\",\"12-out-94\",\"9-Nov-94\",\"9-dez-94\",\"31-Jan-95\",\"12-fev-95\",\"12-Mar-95\",\"11-abr-95\",\"11-mai-95\",\"12-Jun-95\",\"12-Jul-95\",\"14-ago-95\",\"12-set-95\",\"11-out-95\",\"9-Nov-95\",\"12-dez-95\",\"16-Jan-96\",\"9-fev-96\",\"14-Mar-96\",\"11-abr-96\",\"10-mai-96\",\"12-Jun-96\",\"12-Jul-96\",\"12-ago-96\",\"11-set-96\",\"11-out-96\",\"12-Nov-96\",\"12-dez-96\",\"10-Jan-97\",\"12-fev-97\",\"11-Mar-97\",\"11-abr-97\",\"12-mai-97\",\"12-Jun-97\",\"11-Jul-97\",\"12-ago-97\",\"12-set-97\",\"10-out-97\",\"10-Nov-97\",\"11-dez-97\",\"13-Jan-98\",\"11-fev-98\",\"12-Mar-98\",\"9-abr-98\",\"12-mai-98\",\"12-Jun-98\",\"10-Jul-98\",\"12-ago-98\",\"11-set-98\",\"9-out-98\",\"10-Nov-98\",\"11-dez-98\",\"12-Jan-99\",\"10-fev-99\",\"11-Mar-99\",\"9-abr-99\",\"12-mai-99\",\"11-Jun-99\",\"12-Jul-99\",\"12-ago-99\",\"10-set-99\",\"8-out-99\",\"10-Nov-99\",\"10-dez-99\",\"12-Jan-00\",\"11-fev-00\",\"10-Mar-00\",\"1-abr-00\",\"12-mai-00\",\"9-Jun-00\",\"12-Jul-00\",\"11-ago-00\",\"12-set-00\",\"12-out-00\",\"9-Nov-00\",\"12-dez-00\",\"11-Jan-01\",\"8-fev-01\",\"8-Mar-01\",\"10-abr-01\",\"10-mai-01\",\"12-Jun-01\",\"11-Jul-01\",\"10-ago-01\",\"14-set-01\",\"12-out-01\",\"9-Nov-01\",\"11-dez-01\",\"11-Jan-02\",\"8-fev-02\",\"8-Mar-02\",\"10-abr-02\",\"10-mai-02\",\"12-Jun-02\",\"11-Jul-02\",\"12-ago-02\",\"12-set-02\",\"11-out-02\",\"12-Nov-02\",\"10-dez-02\",\"10-Jan-03\",\"11-fev-03\",\"11-Mar-03\",\"10-abr-03\",\"12-mai-03\",\"11-Jun-03\",\"11-Jul-03\",\"12-ago-03\",\"11-set-03\",\"10-out-03\",\"12-Nov-03\",\"11-dez-03\",\"12-Jan-04\",\"10-fev-04\",\"10-Mar-04\",\"8-abr-04\",\"12-mai-04\",\"10-Jun-04\",\"12-Jul-04\",\"12-ago-04\",\"10-set-04\",\"12-out-04\",\"12-Nov-04\",\"10-dez-04\",\"12-Jan-05\",\"9-fev-05\",\"10-Mar-05\",\"8-abr-05\",\"12-mai-05\",\"10-Jun-05\",\"12-Jul-05\",\"12-ago-05\",\"12-set-05\",\"12-out-05\",\"10-Nov-05\",\"9-dez-05\",\"12-Jan-06\",\"9-fev-06\",\"13-Mar-06\",\"10-abr-06\",\"12-mai-06\",\"9-Jun-06\",\"12-Jul-06\",\"11-ago-06\",\"12-set-06\",\"12-out-06\",\"9-Nov-06\",\"11-dez-06\",\"12-Jan-07\",\"9-fev-07\",\"9-Mar-07\",\"10-abr-07\",\"11-mai-07\",\"11-Jun-07\",\"12-Jul-07\",\"10-ago-07\",\"12-set-07\",\"12-out-07\",\"9-Nov-07\",\"11-dez-07\",\"11-Jan-08\",\"8-fev-08\",\"11-Mar-08\",\"9-abr-08\",\"9-mai-08\",\"10-Jun-08\",\"11-Jul-08\",\"12-ago-08\",\"12-set-08\",\"28-out-08\",\"10-Nov-08\",\"12-dez-08\",\"12-Jan-09\",\"10-fev-09\",\"11-Mar-09\",\"9-abr-09\",\"12-mai-09\",\"10-Jun-09\",\"10-Jul-09\",\"12-ago-09\",\"14-set-09\",\"9-out-09\",\"10-Nov-09\",\"10-dez-09\",\"12-Jan-10\",\"9-fev-10\",\"10-Mar-10\",\"9-abr-10\",\"11-mai-10\",\"10-Jun-10\",\"9-Jul-10\",\"12-ago-10\",\"10-set-10\",\"8-out-10\",\"9-Nov-10\",\"15-dez-10\",\"12-Jan-11\",\"9-fev-11\",\"10-Mar-11\",\"8-abr-11\",\"11-mai-11\",\"9-Jun-11\",\"12-Jul-11\",\"11-ago-11\",\"12-set-11\",\"12-out-11\",\"9-Nov-11\",\"9-dez-11\",\"12-Jan-12\",\"9-fev-12\",\"9-Mar-12\",\"10-abr-12\",\"10-mai-12\",\"12-Jun-12\",\"11-Jul-12\",\"10-ago-12\",\"12-set-12\",\"11-out-12\",\"9-Nov-12\",\"11-dez-12\",\"11-Jan-13\",\"8-fev-13\",\"8-Mar-13\",\"10-abr-13\",\"10-mai-13\",\"12-Jun-13\",\"11-Jul-13\",\"12-ago-13\",\"12-set-13\",\"10-out-13\",\"8-Nov-13\",\"10-dez-13\",\"23-Jan-14\",\"10-fev-14\",\"10-Mar-14\",\"9-abr-14\",\"9-mai-14\",\"11-Jun-14\",\"11-Jul-14\",\"12-ago-14\",\"11-set-14\",\"10-out-14\"],\"xaxis\":\"x\",\"y\":[2.97756830292632,2.9107188992270343,2.8604851241459652,2.8746939451769347,2.89591193827178,2.843163674909384,2.8892600290434745,2.920469789053444,2.920469789053444,2.9882040071331994,2.9801108926510342,2.91235066461494,2.848970892158587,2.87976009730157,2.9014215940827497,2.856470206220483,2.8914822521801917,2.9465420293632194,2.934388643312939,2.9338568698359038,3.0530573401732606,3.1471649773142003,3.0492730404820207,3.0170044088295307,3.056356895370426,3.086943153607375,3.1717842173343502,3.214867803470662,3.1599747169480397,3.223664341599998,3.2272407411998283,3.099190981922221,3.0426158594528414,2.982140320034524,3.0402275134405423,2.9559514035421466,2.9780773383152703,2.9932291433358724,2.9841656371825254,3.0577676644734435,3.001217203784561,2.9079933592459843,2.8201877010390604,2.77757626375082,2.7047112998366956,2.738902664584975,2.6823904543216326,2.611539300721366,2.645465325910589,2.5945081597030812,2.7047112998366956,2.6665335208992764,2.558002204858551,2.4239173781615704,2.5217206229107165,2.4840729690394228,2.6864860231863696,2.848970892158587,2.8752581200861167,2.8859174075467844,2.9997242948235283,3.0577676644734435,3.165896900077314,3.1210424645194377,3.217274543501227,3.260401571696699,3.2954664270299134,3.377928754722801,3.3975239762958465,3.2406373166497136,3.3624565533457247,3.4509394735569696,3.4005304926744517,3.4384931664058525,3.521643534738023,3.494384096388273,3.5371840908617425,3.342508385313476,3.3738261848660236,3.3884498088396526,3.305787196857497,3.3196257279683437,3.3558512798952784,3.3170908723651555,3.2756341586868096,3.3072529354856135,3.2684276036974484,3.100542637906336,2.976039640208255,2.966303462863179,2.9785861147190205,3.0344721018699214,3.199896858270398,3.26804686887465,3.2924979647388146,3.2406373166497136,3.2932409068235073,3.339321977944068,3.389124800427886,3.3624565533457247,3.26804686887465,3.3847291889548483,3.487069220736119,3.5776685247779345,3.501344330267094,3.34109345759245,3.336481066942464,3.4183822064162563,3.4239368686316447,3.4531571205928664,3.3484995926617063,3.4127965175055075,3.433664571799657,3.4719664525503626,3.5295905964305545,3.5409593240373143,3.6033215657522897,3.6011405398059297,3.695358420211645,3.639426570394406,3.7062280924485496,3.803992261214441,3.825375198702474,3.97198858659558,3.8828001467512427,3.768152635008444,3.848444023785275,3.8726582819058692,4.0007662152625345,3.9744342655495433,3.911222685257377,4.0328237055738505,4.077706921069077,4.174233411906258,4.18418526622189,4.13147976888436,4.0669733654259685,4.084294226368599,4.178379291165174,4.124226936703971,4.142658422500651,4.250208060053033,4.2623981472183505,4.262257252536892,4.309590341409169,4.291554731509806,4.161224091061645,4.079907514424331,4.0841258620277685,4.128745988939433,4.00514898341763,4.0841258620277685,4.106602459617603,4.1596640283427435,4.152613470346076,4.212571943586751,4.304470416455007,4.281653660527095,4.373868446972418,4.450385972187225,4.5512418439625355,4.520265678897648,4.532169293103601,4.55765920331704,4.656338472562491,4.722597602864056,4.834375328680896,4.897989042545024,4.897839799950911,4.759520845818016,4.647271362006727,4.340162430575183,4.048126088420487,3.7316994512968646,3.7328963395307104,3.66791114767774,3.872450230308323,3.9130225057612296,4.083115080270552,4.244200317766478,4.165113633110308,4.264649766520309,4.239886867512759,4.328362110088189,4.358502089626924,4.314149212270796,4.362206507224575,4.3351970473170836,4.398023007758481,4.437816056315923,4.305550475963267,4.32280727501391,4.333230220484919,4.339510497570803,4.324265097815334,4.406353326664939,4.434263234009391,4.492337377713747,4.4961362649639565,4.495020442487104,4.634534794617996,4.7018430732483525,4.618283825133474,4.567364471252192,4.577079305821566,4.458292990127331,4.450269224770129,4.459334837764547,4.575947327311188,4.591375474965902,4.606968567929471,4.6280074198908485,4.6654182663334485,4.638024522859038,4.549128795104466,4.411706788775292,4.4764273100953655,4.544995462952021,4.550185877655332,4.495020442487104,4.463145685958674,4.4802870038414015,4.551030739887443,4.557554332046428,4.53431844501614,4.522549157299754,4.551452903482104,4.562262684976814,4.649665425874643,4.668520501488853,4.666265285347902,4.610655116218661,4.541697763032518,4.58445714439055,4.553771622902091,4.611748501348214,4.610257225036649,4.626344421219498,4.6240900708406025,4.655387902148709,4.629472478511056,4.565181177771728,4.534425781462334,4.434856248318414],\"yaxis\":\"y\",\"type\":\"scatter\"}],                        {\"template\":{\"data\":{\"bar\":[{\"error_x\":{\"color\":\"#2a3f5f\"},\"error_y\":{\"color\":\"#2a3f5f\"},\"marker\":{\"line\":{\"color\":\"#E5ECF6\",\"width\":0.5},\"pattern\":{\"fillmode\":\"overlay\",\"size\":10,\"solidity\":0.2}},\"type\":\"bar\"}],\"barpolar\":[{\"marker\":{\"line\":{\"color\":\"#E5ECF6\",\"width\":0.5},\"pattern\":{\"fillmode\":\"overlay\",\"size\":10,\"solidity\":0.2}},\"type\":\"barpolar\"}],\"carpet\":[{\"aaxis\":{\"endlinecolor\":\"#2a3f5f\",\"gridcolor\":\"white\",\"linecolor\":\"white\",\"minorgridcolor\":\"white\",\"startlinecolor\":\"#2a3f5f\"},\"baxis\":{\"endlinecolor\":\"#2a3f5f\",\"gridcolor\":\"white\",\"linecolor\":\"white\",\"minorgridcolor\":\"white\",\"startlinecolor\":\"#2a3f5f\"},\"type\":\"carpet\"}],\"choropleth\":[{\"colorbar\":{\"outlinewidth\":0,\"ticks\":\"\"},\"type\":\"choropleth\"}],\"contour\":[{\"colorbar\":{\"outlinewidth\":0,\"ticks\":\"\"},\"colorscale\":[[0.0,\"#0d0887\"],[0.1111111111111111,\"#46039f\"],[0.2222222222222222,\"#7201a8\"],[0.3333333333333333,\"#9c179e\"],[0.4444444444444444,\"#bd3786\"],[0.5555555555555556,\"#d8576b\"],[0.6666666666666666,\"#ed7953\"],[0.7777777777777778,\"#fb9f3a\"],[0.8888888888888888,\"#fdca26\"],[1.0,\"#f0f921\"]],\"type\":\"contour\"}],\"contourcarpet\":[{\"colorbar\":{\"outlinewidth\":0,\"ticks\":\"\"},\"type\":\"contourcarpet\"}],\"heatmap\":[{\"colorbar\":{\"outlinewidth\":0,\"ticks\":\"\"},\"colorscale\":[[0.0,\"#0d0887\"],[0.1111111111111111,\"#46039f\"],[0.2222222222222222,\"#7201a8\"],[0.3333333333333333,\"#9c179e\"],[0.4444444444444444,\"#bd3786\"],[0.5555555555555556,\"#d8576b\"],[0.6666666666666666,\"#ed7953\"],[0.7777777777777778,\"#fb9f3a\"],[0.8888888888888888,\"#fdca26\"],[1.0,\"#f0f921\"]],\"type\":\"heatmap\"}],\"heatmapgl\":[{\"colorbar\":{\"outlinewidth\":0,\"ticks\":\"\"},\"colorscale\":[[0.0,\"#0d0887\"],[0.1111111111111111,\"#46039f\"],[0.2222222222222222,\"#7201a8\"],[0.3333333333333333,\"#9c179e\"],[0.4444444444444444,\"#bd3786\"],[0.5555555555555556,\"#d8576b\"],[0.6666666666666666,\"#ed7953\"],[0.7777777777777778,\"#fb9f3a\"],[0.8888888888888888,\"#fdca26\"],[1.0,\"#f0f921\"]],\"type\":\"heatmapgl\"}],\"histogram\":[{\"marker\":{\"pattern\":{\"fillmode\":\"overlay\",\"size\":10,\"solidity\":0.2}},\"type\":\"histogram\"}],\"histogram2d\":[{\"colorbar\":{\"outlinewidth\":0,\"ticks\":\"\"},\"colorscale\":[[0.0,\"#0d0887\"],[0.1111111111111111,\"#46039f\"],[0.2222222222222222,\"#7201a8\"],[0.3333333333333333,\"#9c179e\"],[0.4444444444444444,\"#bd3786\"],[0.5555555555555556,\"#d8576b\"],[0.6666666666666666,\"#ed7953\"],[0.7777777777777778,\"#fb9f3a\"],[0.8888888888888888,\"#fdca26\"],[1.0,\"#f0f921\"]],\"type\":\"histogram2d\"}],\"histogram2dcontour\":[{\"colorbar\":{\"outlinewidth\":0,\"ticks\":\"\"},\"colorscale\":[[0.0,\"#0d0887\"],[0.1111111111111111,\"#46039f\"],[0.2222222222222222,\"#7201a8\"],[0.3333333333333333,\"#9c179e\"],[0.4444444444444444,\"#bd3786\"],[0.5555555555555556,\"#d8576b\"],[0.6666666666666666,\"#ed7953\"],[0.7777777777777778,\"#fb9f3a\"],[0.8888888888888888,\"#fdca26\"],[1.0,\"#f0f921\"]],\"type\":\"histogram2dcontour\"}],\"mesh3d\":[{\"colorbar\":{\"outlinewidth\":0,\"ticks\":\"\"},\"type\":\"mesh3d\"}],\"parcoords\":[{\"line\":{\"colorbar\":{\"outlinewidth\":0,\"ticks\":\"\"}},\"type\":\"parcoords\"}],\"pie\":[{\"automargin\":true,\"type\":\"pie\"}],\"scatter\":[{\"marker\":{\"colorbar\":{\"outlinewidth\":0,\"ticks\":\"\"}},\"type\":\"scatter\"}],\"scatter3d\":[{\"line\":{\"colorbar\":{\"outlinewidth\":0,\"ticks\":\"\"}},\"marker\":{\"colorbar\":{\"outlinewidth\":0,\"ticks\":\"\"}},\"type\":\"scatter3d\"}],\"scattercarpet\":[{\"marker\":{\"colorbar\":{\"outlinewidth\":0,\"ticks\":\"\"}},\"type\":\"scattercarpet\"}],\"scattergeo\":[{\"marker\":{\"colorbar\":{\"outlinewidth\":0,\"ticks\":\"\"}},\"type\":\"scattergeo\"}],\"scattergl\":[{\"marker\":{\"colorbar\":{\"outlinewidth\":0,\"ticks\":\"\"}},\"type\":\"scattergl\"}],\"scattermapbox\":[{\"marker\":{\"colorbar\":{\"outlinewidth\":0,\"ticks\":\"\"}},\"type\":\"scattermapbox\"}],\"scatterpolar\":[{\"marker\":{\"colorbar\":{\"outlinewidth\":0,\"ticks\":\"\"}},\"type\":\"scatterpolar\"}],\"scatterpolargl\":[{\"marker\":{\"colorbar\":{\"outlinewidth\":0,\"ticks\":\"\"}},\"type\":\"scatterpolargl\"}],\"scatterternary\":[{\"marker\":{\"colorbar\":{\"outlinewidth\":0,\"ticks\":\"\"}},\"type\":\"scatterternary\"}],\"surface\":[{\"colorbar\":{\"outlinewidth\":0,\"ticks\":\"\"},\"colorscale\":[[0.0,\"#0d0887\"],[0.1111111111111111,\"#46039f\"],[0.2222222222222222,\"#7201a8\"],[0.3333333333333333,\"#9c179e\"],[0.4444444444444444,\"#bd3786\"],[0.5555555555555556,\"#d8576b\"],[0.6666666666666666,\"#ed7953\"],[0.7777777777777778,\"#fb9f3a\"],[0.8888888888888888,\"#fdca26\"],[1.0,\"#f0f921\"]],\"type\":\"surface\"}],\"table\":[{\"cells\":{\"fill\":{\"color\":\"#EBF0F8\"},\"line\":{\"color\":\"white\"}},\"header\":{\"fill\":{\"color\":\"#C8D4E3\"},\"line\":{\"color\":\"white\"}},\"type\":\"table\"}]},\"layout\":{\"annotationdefaults\":{\"arrowcolor\":\"#2a3f5f\",\"arrowhead\":0,\"arrowwidth\":1},\"autotypenumbers\":\"strict\",\"coloraxis\":{\"colorbar\":{\"outlinewidth\":0,\"ticks\":\"\"}},\"colorscale\":{\"diverging\":[[0,\"#8e0152\"],[0.1,\"#c51b7d\"],[0.2,\"#de77ae\"],[0.3,\"#f1b6da\"],[0.4,\"#fde0ef\"],[0.5,\"#f7f7f7\"],[0.6,\"#e6f5d0\"],[0.7,\"#b8e186\"],[0.8,\"#7fbc41\"],[0.9,\"#4d9221\"],[1,\"#276419\"]],\"sequential\":[[0.0,\"#0d0887\"],[0.1111111111111111,\"#46039f\"],[0.2222222222222222,\"#7201a8\"],[0.3333333333333333,\"#9c179e\"],[0.4444444444444444,\"#bd3786\"],[0.5555555555555556,\"#d8576b\"],[0.6666666666666666,\"#ed7953\"],[0.7777777777777778,\"#fb9f3a\"],[0.8888888888888888,\"#fdca26\"],[1.0,\"#f0f921\"]],\"sequentialminus\":[[0.0,\"#0d0887\"],[0.1111111111111111,\"#46039f\"],[0.2222222222222222,\"#7201a8\"],[0.3333333333333333,\"#9c179e\"],[0.4444444444444444,\"#bd3786\"],[0.5555555555555556,\"#d8576b\"],[0.6666666666666666,\"#ed7953\"],[0.7777777777777778,\"#fb9f3a\"],[0.8888888888888888,\"#fdca26\"],[1.0,\"#f0f921\"]]},\"colorway\":[\"#636efa\",\"#EF553B\",\"#00cc96\",\"#ab63fa\",\"#FFA15A\",\"#19d3f3\",\"#FF6692\",\"#B6E880\",\"#FF97FF\",\"#FECB52\"],\"font\":{\"color\":\"#2a3f5f\"},\"geo\":{\"bgcolor\":\"white\",\"lakecolor\":\"white\",\"landcolor\":\"#E5ECF6\",\"showlakes\":true,\"showland\":true,\"subunitcolor\":\"white\"},\"hoverlabel\":{\"align\":\"left\"},\"hovermode\":\"closest\",\"mapbox\":{\"style\":\"light\"},\"paper_bgcolor\":\"white\",\"plot_bgcolor\":\"#E5ECF6\",\"polar\":{\"angularaxis\":{\"gridcolor\":\"white\",\"linecolor\":\"white\",\"ticks\":\"\"},\"bgcolor\":\"#E5ECF6\",\"radialaxis\":{\"gridcolor\":\"white\",\"linecolor\":\"white\",\"ticks\":\"\"}},\"scene\":{\"xaxis\":{\"backgroundcolor\":\"#E5ECF6\",\"gridcolor\":\"white\",\"gridwidth\":2,\"linecolor\":\"white\",\"showbackground\":true,\"ticks\":\"\",\"zerolinecolor\":\"white\"},\"yaxis\":{\"backgroundcolor\":\"#E5ECF6\",\"gridcolor\":\"white\",\"gridwidth\":2,\"linecolor\":\"white\",\"showbackground\":true,\"ticks\":\"\",\"zerolinecolor\":\"white\"},\"zaxis\":{\"backgroundcolor\":\"#E5ECF6\",\"gridcolor\":\"white\",\"gridwidth\":2,\"linecolor\":\"white\",\"showbackground\":true,\"ticks\":\"\",\"zerolinecolor\":\"white\"}},\"shapedefaults\":{\"line\":{\"color\":\"#2a3f5f\"}},\"ternary\":{\"aaxis\":{\"gridcolor\":\"white\",\"linecolor\":\"white\",\"ticks\":\"\"},\"baxis\":{\"gridcolor\":\"white\",\"linecolor\":\"white\",\"ticks\":\"\"},\"bgcolor\":\"#E5ECF6\",\"caxis\":{\"gridcolor\":\"white\",\"linecolor\":\"white\",\"ticks\":\"\"}},\"title\":{\"x\":0.05},\"xaxis\":{\"automargin\":true,\"gridcolor\":\"white\",\"linecolor\":\"white\",\"ticks\":\"\",\"title\":{\"standoff\":15},\"zerolinecolor\":\"white\",\"zerolinewidth\":2},\"yaxis\":{\"automargin\":true,\"gridcolor\":\"white\",\"linecolor\":\"white\",\"ticks\":\"\",\"title\":{\"standoff\":15},\"zerolinecolor\":\"white\",\"zerolinewidth\":2}}},\"xaxis\":{\"anchor\":\"y\",\"domain\":[0.0,1.0],\"title\":{\"text\":\"Data\"}},\"yaxis\":{\"anchor\":\"x\",\"domain\":[0.0,1.0],\"title\":{\"text\":\"y\"}},\"legend\":{\"tracegroupgap\":0},\"margin\":{\"t\":60}},                        {\"responsive\": true}                    ).then(function(){\n",
              "                            \n",
              "var gd = document.getElementById('0a2808d1-8d45-40a2-9cf8-526c9e81c920');\n",
              "var x = new MutationObserver(function (mutations, observer) {{\n",
              "        var display = window.getComputedStyle(gd).display;\n",
              "        if (!display || display === 'none') {{\n",
              "            console.log([gd, 'removed!']);\n",
              "            Plotly.purge(gd);\n",
              "            observer.disconnect();\n",
              "        }}\n",
              "}});\n",
              "\n",
              "// Listen for the removal of the full notebook cells\n",
              "var notebookContainer = gd.closest('#notebook-container');\n",
              "if (notebookContainer) {{\n",
              "    x.observe(notebookContainer, {childList: true});\n",
              "}}\n",
              "\n",
              "// Listen for the clearing of the current output cell\n",
              "var outputEl = gd.closest('.output');\n",
              "if (outputEl) {{\n",
              "    x.observe(outputEl, {childList: true});\n",
              "}}\n",
              "\n",
              "                        })                };                            </script>        </div>\n",
              "</body>\n",
              "</html>"
            ]
          },
          "metadata": {},
          "output_type": "display_data"
        }
      ],
      "source": [
        "indexdDataset_logCrudeOil = np.log(Dataset['Crude Oil WTI (NYM $/bbl)'])\n",
        "df = px.data.stocks()\n",
        "fig = px.line(Dataset, x='Data', y=indexdDataset_logCrudeOil)\n",
        "fig.show()"
      ]
    },
    {
      "cell_type": "code",
      "execution_count": null,
      "metadata": {
        "id": "mpJzNqww3XeU"
      },
      "outputs": [],
      "source": [
        "Auto Correlação"
      ]
    },
    {
      "cell_type": "code",
      "execution_count": null,
      "metadata": {
        "id": "LwqPQ4tj4Ezi"
      },
      "outputs": [],
      "source": [
        "DatasetLog = indexdDataset_logSoybeans, indexdDataset_logCorn, indexdDataset_logDollar, indexdDataset_logCrudeOil, indexdDataset_logUSD_BRL"
      ]
    },
    {
      "cell_type": "code",
      "execution_count": null,
      "metadata": {
        "id": "FJP6nNQg3W2d"
      },
      "outputs": [],
      "source": [
        ""
      ]
    },
    {
      "cell_type": "code",
      "execution_count": null,
      "metadata": {
        "colab": {
          "base_uri": "https://localhost:8080/"
        },
        "id": "M6qJl7zx37P_",
        "outputId": "91ab962c-430a-4977-ca1d-c5ae39135a5f"
      },
      "outputs": [
        {
          "name": "stdout",
          "output_type": "stream",
          "text": [
            "ADF test statistic: -1.9650895820683667\n",
            "ADF p-values: 0.30208667306820824\n",
            "ADF number of lags used: 2\n",
            "ADF number of observations: 241\n",
            "ADF critical values: {'1%': -3.4577787098622674, '5%': -2.873608704758507, '10%': -2.573201765981991}\n",
            "ADF best information criterion: -841.7945908139318\n"
          ]
        }
      ],
      "source": [
        "from statsmodels.tsa.stattools import adfuller\n",
        "adf, pval, usedlag, nobs, crit_vals, icbest =  adfuller(indexdDataset_logUSD_BRL)\n",
        "print('ADF test statistic:', adf)\n",
        "print('ADF p-values:', pval)\n",
        "print('ADF number of lags used:', usedlag)\n",
        "print('ADF number of observations:', nobs)\n",
        "print('ADF critical values:', crit_vals)\n",
        "print('ADF best information criterion:', icbest)"
      ]
    },
    {
      "cell_type": "code",
      "execution_count": null,
      "metadata": {
        "id": "XdGZjGD36KdP"
      },
      "outputs": [],
      "source": [
        ""
      ]
    },
    {
      "cell_type": "code",
      "execution_count": null,
      "metadata": {
        "colab": {
          "base_uri": "https://localhost:8080/"
        },
        "id": "CAIVd2LR5km7",
        "outputId": "e18fc734-91b3-4f79-d17f-d40f9e45917d"
      },
      "outputs": [
        {
          "name": "stdout",
          "output_type": "stream",
          "text": [
            "ADF test statistic: -1.7985578239480398\n",
            "ADF p-values: 0.3811779287030976\n",
            "ADF number of lags used: 1\n",
            "ADF number of observations: 242\n",
            "ADF critical values: {'1%': -3.457664132155201, '5%': -2.8735585105960224, '10%': -2.5731749894132916}\n",
            "ADF best information criterion: -644.9169524279116\n"
          ]
        }
      ],
      "source": [
        "#Teste Dickey-Fuller\n",
        "#\n",
        "from statsmodels.tsa.stattools import adfuller\n",
        "adf, pval, usedlag, nobs, crit_vals, icbest =  adfuller(indexdDataset_logSoybeans)\n",
        "print('ADF test statistic:', adf)\n",
        "print('ADF p-values:', pval)\n",
        "print('ADF number of lags used:', usedlag)\n",
        "print('ADF number of observations:', nobs)\n",
        "print('ADF critical values:', crit_vals)\n",
        "print('ADF best information criterion:', icbest)\n",
        "#https://neptune.ai/blog/select-model-for-time-series-prediction-task"
      ]
    },
    {
      "cell_type": "code",
      "execution_count": null,
      "metadata": {
        "id": "8zDZC1ltyjx0"
      },
      "outputs": [],
      "source": [
        "#Média móvel "
      ]
    },
    {
      "cell_type": "code",
      "execution_count": null,
      "metadata": {
        "colab": {
          "base_uri": "https://localhost:8080/",
          "height": 265
        },
        "id": "rks9A445CKif",
        "outputId": "66e9ea36-ecd8-40c1-de01-c7457f2e4924"
      },
      "outputs": [
        {
          "data": {
            "image/png": "[encoded data removed]",
            "text/plain": [
              "<Figure size 432x288 with 1 Axes>"
            ]
          },
          "metadata": {},
          "output_type": "display_data"
        }
      ],
      "source": [
        "#\n",
        "from statsmodels.tsa.api import SimpleExpSmoothing\n",
        "es = SimpleExpSmoothing(indexdDataset_logSoybeans)\n",
        "es.fit(smoothing_level=0.01)\n",
        "plt.plot(indexdDataset_logSoybeans)\n",
        "plt.plot(es.predict(es.params, start=0, end=None))\n",
        "plt.show()"
      ]
    },
    {
      "cell_type": "code",
      "execution_count": null,
      "metadata": {
        "id": "xt5rQA3Jo-Zb"
      },
      "outputs": [],
      "source": [
        "#Adicionando os valores de Log ao Dataset:"
      ]
    },
    {
      "cell_type": "code",
      "execution_count": null,
      "metadata": {
        "colab": {
          "base_uri": "https://localhost:8080/",
          "height": 206
        },
        "id": "Vey7tcCFoqzZ",
        "outputId": "ce278a1b-da04-4477-f280-fdb8b661f1c8"
      },
      "outputs": [
        {
          "data": {
            "text/html": [
              "\n",
              "  <div id=\"df-e394ef40-3e1e-499b-b717-c900496b1ec7\">\n",
              "    <div class=\"colab-df-container\">\n",
              "      <div>\n",
              "<style scoped>\n",
              "    .dataframe tbody tr th:only-of-type {\n",
              "        vertical-align: middle;\n",
              "    }\n",
              "\n",
              "    .dataframe tbody tr th {\n",
              "        vertical-align: top;\n",
              "    }\n",
              "\n",
              "    .dataframe thead th {\n",
              "        text-align: right;\n",
              "    }\n",
              "</style>\n",
              "<table border=\"1\" class=\"dataframe\">\n",
              "  <thead>\n",
              "    <tr style=\"text-align: right;\">\n",
              "      <th></th>\n",
              "      <th>Data</th>\n",
              "      <th>Soybeans (CBT $/bu)</th>\n",
              "      <th>Corn (CBT $/bu)</th>\n",
              "      <th>U.S. Dollar Index (DXY)</th>\n",
              "      <th>Crude Oil WTI (NYM $/bbl)</th>\n",
              "      <th>USD/BRL rate</th>\n",
              "      <th>SoybeansLog</th>\n",
              "      <th>CornLog</th>\n",
              "      <th>DollarLog</th>\n",
              "      <th>CrudeOilLog</th>\n",
              "      <th>USD_BRLog</th>\n",
              "    </tr>\n",
              "  </thead>\n",
              "  <tbody>\n",
              "    <tr>\n",
              "      <th>0</th>\n",
              "      <td>12-Jul-94</td>\n",
              "      <td>609.22</td>\n",
              "      <td>230.99</td>\n",
              "      <td>89.10</td>\n",
              "      <td>19.64</td>\n",
              "      <td>0.93</td>\n",
              "      <td>6.412179</td>\n",
              "      <td>5.442374</td>\n",
              "      <td>4.489759</td>\n",
              "      <td>2.977568</td>\n",
              "      <td>-0.072571</td>\n",
              "    </tr>\n",
              "    <tr>\n",
              "      <th>1</th>\n",
              "      <td>11-ago-94</td>\n",
              "      <td>582.65</td>\n",
              "      <td>219.24</td>\n",
              "      <td>89.11</td>\n",
              "      <td>18.37</td>\n",
              "      <td>0.90</td>\n",
              "      <td>6.367587</td>\n",
              "      <td>5.390167</td>\n",
              "      <td>4.489872</td>\n",
              "      <td>2.910719</td>\n",
              "      <td>-0.105361</td>\n",
              "    </tr>\n",
              "    <tr>\n",
              "      <th>2</th>\n",
              "      <td>12-set-94</td>\n",
              "      <td>566.41</td>\n",
              "      <td>219.51</td>\n",
              "      <td>87.98</td>\n",
              "      <td>17.47</td>\n",
              "      <td>0.87</td>\n",
              "      <td>6.339318</td>\n",
              "      <td>5.391398</td>\n",
              "      <td>4.477110</td>\n",
              "      <td>2.860485</td>\n",
              "      <td>-0.139262</td>\n",
              "    </tr>\n",
              "    <tr>\n",
              "      <th>3</th>\n",
              "      <td>12-out-94</td>\n",
              "      <td>540.73</td>\n",
              "      <td>216.01</td>\n",
              "      <td>86.55</td>\n",
              "      <td>17.72</td>\n",
              "      <td>0.85</td>\n",
              "      <td>6.292920</td>\n",
              "      <td>5.375325</td>\n",
              "      <td>4.460722</td>\n",
              "      <td>2.874694</td>\n",
              "      <td>-0.162519</td>\n",
              "    </tr>\n",
              "    <tr>\n",
              "      <th>4</th>\n",
              "      <td>9-Nov-94</td>\n",
              "      <td>559.20</td>\n",
              "      <td>215.55</td>\n",
              "      <td>87.71</td>\n",
              "      <td>18.10</td>\n",
              "      <td>0.84</td>\n",
              "      <td>6.326507</td>\n",
              "      <td>5.373193</td>\n",
              "      <td>4.474036</td>\n",
              "      <td>2.895912</td>\n",
              "      <td>-0.174353</td>\n",
              "    </tr>\n",
              "  </tbody>\n",
              "</table>\n",
              "</div>\n",
              "      <button class=\"colab-df-convert\" onclick=\"convertToInteractive('df-e394ef40-3e1e-499b-b717-c900496b1ec7')\"\n",
              "              title=\"Convert this dataframe to an interactive table.\"\n",
              "              style=\"display:none;\">\n",
              "        \n",
              "  <svg xmlns=\"http://www.w3.org/2000/svg\" height=\"24px\"viewBox=\"0 0 24 24\"\n",
              "       width=\"24px\">\n",
              "    <path d=\"M0 0h24v24H0V0z\" fill=\"none\"/>\n",
              "    <path d=\"M18.56 5.44l.94 2.06.94-2.06 2.06-.94-2.06-.94-.94-2.06-.94 2.06-2.06.94zm-11 1L8.5 8.5l.94-2.06 2.06-.94-2.06-.94L8.5 2.5l-.94 2.06-2.06.94zm10 10l.94 2.06.94-2.06 2.06-.94-2.06-.94-.94-2.06-.94 2.06-2.06.94z\"/><path d=\"M17.41 7.96l-1.37-1.37c-.4-.4-.92-.59-1.43-.59-.52 0-1.04.2-1.43.59L10.3 9.45l-7.72 7.72c-.78.78-.78 2.05 0 2.83L4 21.41c.39.39.9.59 1.41.59.51 0 1.02-.2 1.41-.59l7.78-7.78 2.81-2.81c.8-.78.8-2.07 0-2.86zM5.41 20L4 18.59l7.72-7.72 1.47 1.35L5.41 20z\"/>\n",
              "  </svg>\n",
              "      </button>\n",
              "      \n",
              "  <style>\n",
              "    .colab-df-container {\n",
              "      display:flex;\n",
              "      flex-wrap:wrap;\n",
              "      gap: 12px;\n",
              "    }\n",
              "\n",
              "    .colab-df-convert {\n",
              "      background-color: #E8F0FE;\n",
              "      border: none;\n",
              "      border-radius: 50%;\n",
              "      cursor: pointer;\n",
              "      display: none;\n",
              "      fill: #1967D2;\n",
              "      height: 32px;\n",
              "      padding: 0 0 0 0;\n",
              "      width: 32px;\n",
              "    }\n",
              "\n",
              "    .colab-df-convert:hover {\n",
              "      background-color: #E2EBFA;\n",
              "      box-shadow: 0px 1px 2px rgba(60, 64, 67, 0.3), 0px 1px 3px 1px rgba(60, 64, 67, 0.15);\n",
              "      fill: #174EA6;\n",
              "    }\n",
              "\n",
              "    [theme=dark] .colab-df-convert {\n",
              "      background-color: #3B4455;\n",
              "      fill: #D2E3FC;\n",
              "    }\n",
              "\n",
              "    [theme=dark] .colab-df-convert:hover {\n",
              "      background-color: #434B5C;\n",
              "      box-shadow: 0px 1px 3px 1px rgba(0, 0, 0, 0.15);\n",
              "      filter: drop-shadow(0px 1px 2px rgba(0, 0, 0, 0.3));\n",
              "      fill: #FFFFFF;\n",
              "    }\n",
              "  </style>\n",
              "\n",
              "      <script>\n",
              "        const buttonEl =\n",
              "          document.querySelector('#df-e394ef40-3e1e-499b-b717-c900496b1ec7 button.colab-df-convert');\n",
              "        buttonEl.style.display =\n",
              "          google.colab.kernel.accessAllowed ? 'block' : 'none';\n",
              "\n",
              "        async function convertToInteractive(key) {\n",
              "          const element = document.querySelector('#df-e394ef40-3e1e-499b-b717-c900496b1ec7');\n",
              "          const dataTable =\n",
              "            await google.colab.kernel.invokeFunction('convertToInteractive',\n",
              "                                                     [key], {});\n",
              "          if (!dataTable) return;\n",
              "\n",
              "          const docLinkHtml = 'Like what you see? Visit the ' +\n",
              "            '<a target=\"_blank\" href=https://colab.research.google.com/notebooks/data_table.ipynb>data table notebook</a>'\n",
              "            + ' to learn more about interactive tables.';\n",
              "          element.innerHTML = '';\n",
              "          dataTable['output_type'] = 'display_data';\n",
              "          await google.colab.output.renderOutput(dataTable, element);\n",
              "          const docLink = document.createElement('div');\n",
              "          docLink.innerHTML = docLinkHtml;\n",
              "          element.appendChild(docLink);\n",
              "        }\n",
              "      </script>\n",
              "    </div>\n",
              "  </div>\n",
              "  "
            ],
            "text/plain": [
              "        Data  Soybeans (CBT $/bu)  Corn (CBT $/bu)  U.S. Dollar Index (DXY)  \\\n",
              "0  12-Jul-94               609.22           230.99                    89.10   \n",
              "1  11-ago-94               582.65           219.24                    89.11   \n",
              "2  12-set-94               566.41           219.51                    87.98   \n",
              "3  12-out-94               540.73           216.01                    86.55   \n",
              "4   9-Nov-94               559.20           215.55                    87.71   \n",
              "\n",
              "   Crude Oil WTI (NYM $/bbl)  USD/BRL rate  SoybeansLog   CornLog  DollarLog  \\\n",
              "0                      19.64          0.93     6.412179  5.442374   4.489759   \n",
              "1                      18.37          0.90     6.367587  5.390167   4.489872   \n",
              "2                      17.47          0.87     6.339318  5.391398   4.477110   \n",
              "3                      17.72          0.85     6.292920  5.375325   4.460722   \n",
              "4                      18.10          0.84     6.326507  5.373193   4.474036   \n",
              "\n",
              "   CrudeOilLog  USD_BRLog  \n",
              "0     2.977568  -0.072571  \n",
              "1     2.910719  -0.105361  \n",
              "2     2.860485  -0.139262  \n",
              "3     2.874694  -0.162519  \n",
              "4     2.895912  -0.174353  "
            ]
          },
          "execution_count": 91,
          "metadata": {},
          "output_type": "execute_result"
        }
      ],
      "source": [
        "Dataset[\"SoybeansLog\"] = indexdDataset_logSoybeans\n",
        "Dataset[\"CornLog\"] = indexdDataset_logCorn\n",
        "Dataset[\"DollarLog\"] = indexdDataset_logDollar\n",
        "Dataset[\"CrudeOilLog\"] = indexdDataset_logCrudeOil\n",
        "Dataset[\"USD_BRLog\"] = indexdDataset_logUSD_BRL\n",
        "Dataset.head()"
      ]
    },
    {
      "cell_type": "code",
      "execution_count": null,
      "metadata": {
        "id": "Dw1FG7-DqY_G"
      },
      "outputs": [],
      "source": [
        "#Regressão Linear"
      ]
    },
    {
      "cell_type": "code",
      "execution_count": null,
      "metadata": {
        "colab": {
          "base_uri": "https://localhost:8080/",
          "height": 907
        },
        "id": "tkeTa0DgSVkI",
        "outputId": "45870c45-1dbf-4033-bca3-0086049ed631"
      },
      "outputs": [
        {
          "name": "stdout",
          "output_type": "stream",
          "text": [
            "Intercept: \n",
            " 5.343114077161799\n",
            "Coefficients: \n",
            " [ 0.65907    -0.61874984  0.07112919  0.03891239]\n",
            "                            OLS Regression Results                            \n",
            "==============================================================================\n",
            "Dep. Variable:            SoybeansLog   R-squared:                       0.899\n",
            "Model:                            OLS   Adj. R-squared:                  0.897\n",
            "Method:                 Least Squares   F-statistic:                     531.4\n",
            "Date:                Tue, 22 Mar 2022   Prob (F-statistic):          1.22e-117\n",
            "Time:                        00:38:32   Log-Likelihood:                 163.41\n",
            "No. Observations:                 244   AIC:                            -316.8\n",
            "Df Residuals:                     239   BIC:                            -299.3\n",
            "Df Model:                           4                                         \n",
            "Covariance Type:            nonrobust                                         \n",
            "===============================================================================\n",
            "                  coef    std err          t      P>|t|      [0.025      0.975]\n",
            "-------------------------------------------------------------------------------\n",
            "const           5.3431      0.632      8.451      0.000       4.098       6.589\n",
            "CornLog         0.6591      0.033     20.031      0.000       0.594       0.724\n",
            "DollarLog      -0.6187      0.118     -5.245      0.000      -0.851      -0.386\n",
            "CrudeOilLog     0.0711      0.027      2.630      0.009       0.018       0.124\n",
            "USD_BRLog       0.0389      0.034      1.154      0.250      -0.028       0.105\n",
            "==============================================================================\n",
            "Omnibus:                        2.130   Durbin-Watson:                   0.188\n",
            "Prob(Omnibus):                  0.345   Jarque-Bera (JB):                2.210\n",
            "Skew:                           0.210   Prob(JB):                        0.331\n",
            "Kurtosis:                       2.797   Cond. No.                         667.\n",
            "==============================================================================\n",
            "\n",
            "Warnings:\n",
            "[1] Standard Errors assume that the covariance matrix of the errors is correctly specified.\n"
          ]
        },
        {
          "name": "stderr",
          "output_type": "stream",
          "text": [
            "/usr/local/lib/python3.7/dist-packages/statsmodels/tsa/tsatools.py:117: FutureWarning:\n",
            "\n",
            "In a future version of pandas all arguments of concat except for the argument 'objs' will be keyword-only\n",
            "\n"
          ]
        },
        {
          "data": {
            "text/plain": [
              "[<matplotlib.lines.Line2D at 0x7f1eeb51b110>]"
            ]
          },
          "execution_count": 111,
          "metadata": {},
          "output_type": "execute_result"
        },
        {
          "data": {
            "image/png": "[encoded data removed]",
            "text/plain": [
              "<Figure size 432x288 with 1 Axes>"
            ]
          },
          "metadata": {},
          "output_type": "display_data"
        }
      ],
      "source": [
        "from sklearn import linear_model\n",
        "import statsmodels.api as sm\n",
        "\n",
        "X = Dataset[[\"CornLog\", \"DollarLog\", \"CrudeOilLog\", \"USD_BRLog\"]]\n",
        "y = Dataset[\"SoybeansLog\"]\n",
        "\n",
        "regr = linear_model.LinearRegression()\n",
        "regr.fit(X, y)\n",
        "\n",
        "print('Intercept: \\n', regr.intercept_)\n",
        "print('Coefficients: \\n', regr.coef_)\n",
        "\n",
        "# with statsmodels\n",
        "X = sm.add_constant(X) # adding a constant\n",
        " \n",
        "model = sm.OLS(y, X).fit()\n",
        "predictions = model.predict(X) \n",
        " \n",
        "print_model = model.summary()\n",
        "print(print_model)\n",
        "\n",
        "plt.plot(X.index, y)\n",
        "plt.plot(X.index, predictions)"
      ]
    },
    {
      "cell_type": "code",
      "execution_count": null,
      "metadata": {
        "id": "nqlqzfSO5A2Z"
      },
      "outputs": [],
      "source": [
        "pred = 5.3431 + "
      ]
    },
    {
      "cell_type": "code",
      "execution_count": null,
      "metadata": {
        "id": "d41URJ_7CXiW"
      },
      "outputs": [],
      "source": [
        ""
      ]
    },
    {
      "cell_type": "code",
      "execution_count": null,
      "metadata": {
        "id": "IzpUKFZ970tI"
      },
      "outputs": [],
      "source": [
        "#Random Forest"
      ]
    },
    {
      "cell_type": "code",
      "execution_count": null,
      "metadata": {
        "colab": {
          "background_save": true
        },
        "id": "jCh5chGi8e1M",
        "outputId": "ec7e74ed-10b4-43e2-ec42-99706bd2f87b"
      },
      "outputs": [
        {
          "ename": "AttributeError",
          "evalue": "ignored",
          "output_type": "error",
          "traceback": [
            "\u001b[0;31m---------------------------------------------------------------------------\u001b[0m",
            "\u001b[0;31mAttributeError\u001b[0m                            Traceback (most recent call last)",
            "\u001b[0;32m<ipython-input-115-e1c2e6034730>\u001b[0m in \u001b[0;36m<module>\u001b[0;34m()\u001b[0m\n\u001b[1;32m     12\u001b[0m \u001b[0mplt\u001b[0m\u001b[0;34m.\u001b[0m\u001b[0mplot\u001b[0m\u001b[0;34m(\u001b[0m\u001b[0mX\u001b[0m\u001b[0;34m.\u001b[0m\u001b[0mindex\u001b[0m\u001b[0;34m,\u001b[0m \u001b[0mpredict_rf\u001b[0m\u001b[0;34m)\u001b[0m\u001b[0;34m\u001b[0m\u001b[0;34m\u001b[0m\u001b[0m\n\u001b[1;32m     13\u001b[0m \u001b[0;34m\u001b[0m\u001b[0m\n\u001b[0;32m---> 14\u001b[0;31m \u001b[0mprint_model_rf\u001b[0m \u001b[0;34m=\u001b[0m \u001b[0mmodel_rf\u001b[0m\u001b[0;34m.\u001b[0m\u001b[0msummary\u001b[0m\u001b[0;34m(\u001b[0m\u001b[0;34m)\u001b[0m\u001b[0;34m\u001b[0m\u001b[0;34m\u001b[0m\u001b[0m\n\u001b[0m\u001b[1;32m     15\u001b[0m \u001b[0mprint\u001b[0m\u001b[0;34m(\u001b[0m\u001b[0mprint_model_rf\u001b[0m\u001b[0;34m)\u001b[0m\u001b[0;34m\u001b[0m\u001b[0;34m\u001b[0m\u001b[0m\n",
            "\u001b[0;31mAttributeError\u001b[0m: 'RandomForestRegressor' object has no attribute 'summary'"
          ]
        },
        {
          "data": {
            "image/png": "[encoded data removed]",
            "text/plain": [
              "<Figure size 432x288 with 1 Axes>"
            ]
          },
          "metadata": {},
          "output_type": "display_data"
        }
      ],
      "source": [
        "from sklearn.ensemble import RandomForestRegressor\n",
        "\n",
        "#fit modelo\n",
        "model_rf = RandomForestRegressor()\n",
        "model_rf.fit(X, y)\n",
        "\n",
        "#predição\n",
        "predict_rf = model_rf.predict(X)\n",
        "\n",
        "#plot\n",
        "plt.plot(X.index, y)\n",
        "plt.plot(X.index, predict_rf)\n"
      ]
    },
    {
      "cell_type": "code",
      "execution_count": null,
      "metadata": {
        "id": "aPHd9W5aBYnO"
      },
      "outputs": [],
      "source": [
        ""
      ]
    },
    {
      "cell_type": "code",
      "execution_count": null,
      "metadata": {
        "colab": {
          "base_uri": "https://localhost:8080/",
          "height": 545
        },
        "id": "7v1rZJapveWB",
        "outputId": "8538edf4-155f-4075-96e7-0e1b7c3a5fb1"
      },
      "outputs": [
        {
          "data": {
            "image/png": "[encoded data removed]",
            "text/plain": [
              "<Figure size 432x288 with 1 Axes>"
            ]
          },
          "execution_count": 103,
          "metadata": {},
          "output_type": "execute_result"
        },
        {
          "data": {
            "image/png": "[encoded data removed]",
            "text/plain": [
              "<Figure size 432x288 with 1 Axes>"
            ]
          },
          "metadata": {},
          "output_type": "display_data"
        }
      ],
      "source": [
        "from statsmodels.graphics.tsaplots import plot_acf\n",
        "plot_acf(Dataset['CornLog'])"
      ]
    },
    {
      "cell_type": "code",
      "execution_count": null,
      "metadata": {
        "colab": {
          "base_uri": "https://localhost:8080/",
          "height": 545
        },
        "id": "z1sp0YB-wXpe",
        "outputId": "dab4a839-6632-4e59-bd27-d5ec302f44e2"
      },
      "outputs": [
        {
          "data": {
            "image/png": "[encoded data removed]",
            "text/plain": [
              "<Figure size 432x288 with 1 Axes>"
            ]
          },
          "execution_count": 104,
          "metadata": {},
          "output_type": "execute_result"
        },
        {
          "data": {
            "image/png": "[encoded data removed]",
            "text/plain": [
              "<Figure size 432x288 with 1 Axes>"
            ]
          },
          "metadata": {},
          "output_type": "display_data"
        }
      ],
      "source": [
        "plot_acf(Dataset[\"DollarLog\"])"
      ]
    },
    {
      "cell_type": "code",
      "execution_count": null,
      "metadata": {
        "colab": {
          "base_uri": "https://localhost:8080/",
          "height": 380
        },
        "id": "ifgrPP95tFDy",
        "outputId": "6237eb5e-0ac1-498a-81ce-18a2e0e95baa"
      },
      "outputs": [
        {
          "ename": "ValueError",
          "evalue": "ignored",
          "output_type": "error",
          "traceback": [
            "\u001b[0;31m---------------------------------------------------------------------------\u001b[0m",
            "\u001b[0;31mValueError\u001b[0m                                Traceback (most recent call last)",
            "\u001b[0;32m<ipython-input-38-2113870c4023>\u001b[0m in \u001b[0;36m<module>\u001b[0;34m()\u001b[0m\n\u001b[1;32m      2\u001b[0m \u001b[0;34m\u001b[0m\u001b[0m\n\u001b[1;32m      3\u001b[0m \u001b[0;31m# fit the model\u001b[0m\u001b[0;34m\u001b[0m\u001b[0;34m\u001b[0m\u001b[0;34m\u001b[0m\u001b[0m\n\u001b[0;32m----> 4\u001b[0;31m \u001b[0mmy_lr\u001b[0m \u001b[0;34m=\u001b[0m \u001b[0mLinearRegression\u001b[0m\u001b[0;34m(\u001b[0m\u001b[0;34m)\u001b[0m\u001b[0;34m.\u001b[0m\u001b[0mfit\u001b[0m\u001b[0;34m(\u001b[0m\u001b[0mX\u001b[0m\u001b[0;34m,\u001b[0m \u001b[0my\u001b[0m\u001b[0;34m)\u001b[0m\u001b[0;34m\u001b[0m\u001b[0;34m\u001b[0m\u001b[0m\n\u001b[0m\u001b[1;32m      5\u001b[0m \u001b[0mmy_lr\u001b[0m\u001b[0;34m\u001b[0m\u001b[0;34m\u001b[0m\u001b[0m\n\u001b[1;32m      6\u001b[0m \u001b[0;34m\u001b[0m\u001b[0m\n",
            "\u001b[0;32m/usr/local/lib/python3.7/dist-packages/sklearn/linear_model/_base.py\u001b[0m in \u001b[0;36mfit\u001b[0;34m(self, X, y, sample_weight)\u001b[0m\n\u001b[1;32m    661\u001b[0m \u001b[0;34m\u001b[0m\u001b[0m\n\u001b[1;32m    662\u001b[0m         X, y = self._validate_data(\n\u001b[0;32m--> 663\u001b[0;31m             \u001b[0mX\u001b[0m\u001b[0;34m,\u001b[0m \u001b[0my\u001b[0m\u001b[0;34m,\u001b[0m \u001b[0maccept_sparse\u001b[0m\u001b[0;34m=\u001b[0m\u001b[0maccept_sparse\u001b[0m\u001b[0;34m,\u001b[0m \u001b[0my_numeric\u001b[0m\u001b[0;34m=\u001b[0m\u001b[0;32mTrue\u001b[0m\u001b[0;34m,\u001b[0m \u001b[0mmulti_output\u001b[0m\u001b[0;34m=\u001b[0m\u001b[0;32mTrue\u001b[0m\u001b[0;34m\u001b[0m\u001b[0;34m\u001b[0m\u001b[0m\n\u001b[0m\u001b[1;32m    664\u001b[0m         )\n\u001b[1;32m    665\u001b[0m \u001b[0;34m\u001b[0m\u001b[0m\n",
            "\u001b[0;32m/usr/local/lib/python3.7/dist-packages/sklearn/base.py\u001b[0m in \u001b[0;36m_validate_data\u001b[0;34m(self, X, y, reset, validate_separately, **check_params)\u001b[0m\n\u001b[1;32m    579\u001b[0m                 \u001b[0my\u001b[0m \u001b[0;34m=\u001b[0m \u001b[0mcheck_array\u001b[0m\u001b[0;34m(\u001b[0m\u001b[0my\u001b[0m\u001b[0;34m,\u001b[0m \u001b[0;34m**\u001b[0m\u001b[0mcheck_y_params\u001b[0m\u001b[0;34m)\u001b[0m\u001b[0;34m\u001b[0m\u001b[0;34m\u001b[0m\u001b[0m\n\u001b[1;32m    580\u001b[0m             \u001b[0;32melse\u001b[0m\u001b[0;34m:\u001b[0m\u001b[0;34m\u001b[0m\u001b[0;34m\u001b[0m\u001b[0m\n\u001b[0;32m--> 581\u001b[0;31m                 \u001b[0mX\u001b[0m\u001b[0;34m,\u001b[0m \u001b[0my\u001b[0m \u001b[0;34m=\u001b[0m \u001b[0mcheck_X_y\u001b[0m\u001b[0;34m(\u001b[0m\u001b[0mX\u001b[0m\u001b[0;34m,\u001b[0m \u001b[0my\u001b[0m\u001b[0;34m,\u001b[0m \u001b[0;34m**\u001b[0m\u001b[0mcheck_params\u001b[0m\u001b[0;34m)\u001b[0m\u001b[0;34m\u001b[0m\u001b[0;34m\u001b[0m\u001b[0m\n\u001b[0m\u001b[1;32m    582\u001b[0m             \u001b[0mout\u001b[0m \u001b[0;34m=\u001b[0m \u001b[0mX\u001b[0m\u001b[0;34m,\u001b[0m \u001b[0my\u001b[0m\u001b[0;34m\u001b[0m\u001b[0;34m\u001b[0m\u001b[0m\n\u001b[1;32m    583\u001b[0m \u001b[0;34m\u001b[0m\u001b[0m\n",
            "\u001b[0;32m/usr/local/lib/python3.7/dist-packages/sklearn/utils/validation.py\u001b[0m in \u001b[0;36mcheck_X_y\u001b[0;34m(X, y, accept_sparse, accept_large_sparse, dtype, order, copy, force_all_finite, ensure_2d, allow_nd, multi_output, ensure_min_samples, ensure_min_features, y_numeric, estimator)\u001b[0m\n\u001b[1;32m    974\u001b[0m         \u001b[0mensure_min_samples\u001b[0m\u001b[0;34m=\u001b[0m\u001b[0mensure_min_samples\u001b[0m\u001b[0;34m,\u001b[0m\u001b[0;34m\u001b[0m\u001b[0;34m\u001b[0m\u001b[0m\n\u001b[1;32m    975\u001b[0m         \u001b[0mensure_min_features\u001b[0m\u001b[0;34m=\u001b[0m\u001b[0mensure_min_features\u001b[0m\u001b[0;34m,\u001b[0m\u001b[0;34m\u001b[0m\u001b[0;34m\u001b[0m\u001b[0m\n\u001b[0;32m--> 976\u001b[0;31m         \u001b[0mestimator\u001b[0m\u001b[0;34m=\u001b[0m\u001b[0mestimator\u001b[0m\u001b[0;34m,\u001b[0m\u001b[0;34m\u001b[0m\u001b[0;34m\u001b[0m\u001b[0m\n\u001b[0m\u001b[1;32m    977\u001b[0m     )\n\u001b[1;32m    978\u001b[0m \u001b[0;34m\u001b[0m\u001b[0m\n",
            "\u001b[0;32m/usr/local/lib/python3.7/dist-packages/sklearn/utils/validation.py\u001b[0m in \u001b[0;36mcheck_array\u001b[0;34m(array, accept_sparse, accept_large_sparse, dtype, order, copy, force_all_finite, ensure_2d, allow_nd, ensure_min_samples, ensure_min_features, estimator)\u001b[0m\n\u001b[1;32m    798\u001b[0m \u001b[0;34m\u001b[0m\u001b[0m\n\u001b[1;32m    799\u001b[0m         \u001b[0;32mif\u001b[0m \u001b[0mforce_all_finite\u001b[0m\u001b[0;34m:\u001b[0m\u001b[0;34m\u001b[0m\u001b[0;34m\u001b[0m\u001b[0m\n\u001b[0;32m--> 800\u001b[0;31m             \u001b[0m_assert_all_finite\u001b[0m\u001b[0;34m(\u001b[0m\u001b[0marray\u001b[0m\u001b[0;34m,\u001b[0m \u001b[0mallow_nan\u001b[0m\u001b[0;34m=\u001b[0m\u001b[0mforce_all_finite\u001b[0m \u001b[0;34m==\u001b[0m \u001b[0;34m\"allow-nan\"\u001b[0m\u001b[0;34m)\u001b[0m\u001b[0;34m\u001b[0m\u001b[0;34m\u001b[0m\u001b[0m\n\u001b[0m\u001b[1;32m    801\u001b[0m \u001b[0;34m\u001b[0m\u001b[0m\n\u001b[1;32m    802\u001b[0m     \u001b[0;32mif\u001b[0m \u001b[0mensure_min_samples\u001b[0m \u001b[0;34m>\u001b[0m \u001b[0;36m0\u001b[0m\u001b[0;34m:\u001b[0m\u001b[0;34m\u001b[0m\u001b[0;34m\u001b[0m\u001b[0m\n",
            "\u001b[0;32m/usr/local/lib/python3.7/dist-packages/sklearn/utils/validation.py\u001b[0m in \u001b[0;36m_assert_all_finite\u001b[0;34m(X, allow_nan, msg_dtype)\u001b[0m\n\u001b[1;32m    114\u001b[0m             raise ValueError(\n\u001b[1;32m    115\u001b[0m                 msg_err.format(\n\u001b[0;32m--> 116\u001b[0;31m                     \u001b[0mtype_err\u001b[0m\u001b[0;34m,\u001b[0m \u001b[0mmsg_dtype\u001b[0m \u001b[0;32mif\u001b[0m \u001b[0mmsg_dtype\u001b[0m \u001b[0;32mis\u001b[0m \u001b[0;32mnot\u001b[0m \u001b[0;32mNone\u001b[0m \u001b[0;32melse\u001b[0m \u001b[0mX\u001b[0m\u001b[0;34m.\u001b[0m\u001b[0mdtype\u001b[0m\u001b[0;34m\u001b[0m\u001b[0;34m\u001b[0m\u001b[0m\n\u001b[0m\u001b[1;32m    117\u001b[0m                 )\n\u001b[1;32m    118\u001b[0m             )\n",
            "\u001b[0;31mValueError\u001b[0m: Input contains NaN, infinity or a value too large for dtype('float64')."
          ]
        }
      ],
      "source": [
        "from sklearn.linear_model import LinearRegression\n",
        " \n",
        "# fit the model\n",
        "my_lr = LinearRegression().fit(X, y)\n",
        "my_lr\n",
        " \n",
        "# predict on the same period\n",
        "preds = my_lr.predict(X)\n",
        " \n",
        "# plot what has been learned\n",
        "plt.plot(X.index, y)\n",
        "plt.plot(X.index, preds)"
      ]
    },
    {
      "cell_type": "code",
      "execution_count": null,
      "metadata": {
        "id": "cyUvg7RwRCll"
      },
      "outputs": [],
      "source": [
        "#https://blogs.sap.com/2021/05/06/a-multivariate-time-series-modeling-and-forecasting-guide-with-python-machine-learning-client-for-sap-hana/\n",
        "#time series with multiple variables python\n",
        "#https://www.mariofilho.com/como-criar-um-modelo-simples-para-prever-series-temporais-usando-machine-learning-em-python/\n",
        "#https://www.machinelearningplus.com/time-series/arima-model-time-series-forecasting-python/\n",
        "#https://datatofish.com/multiple-linear-regression-python/\n"
      ]
    }
  ],
  "metadata": {
    "colab": {
      "name": "Time_series.ipynb",
      "provenance": [],
      "mount_file_id": "1VPNcIB8EVcRMtDRhXZHOh7q9nwCTnqgH",
      "authorship_tag": "ABX9TyM5HVE5gf8LVHqnXn/V5TLF",
      "include_colab_link": true
    },
    "kernelspec": {
      "display_name": "Python 3",
      "name": "python3"
    },
    "language_info": {
      "name": "python"
    }
  },
  "nbformat": 4,
  "nbformat_minor": 0
}